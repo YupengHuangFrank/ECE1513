{
  "nbformat": 4,
  "nbformat_minor": 0,
  "metadata": {
    "colab": {
      "provenance": [],
      "toc_visible": true,
      "machine_shape": "hm",
      "gpuType": "T4"
    },
    "kernelspec": {
      "name": "python3",
      "display_name": "Python 3"
    },
    "language_info": {
      "name": "python"
    },
    "accelerator": "GPU",
    "widgets": {
      "application/vnd.jupyter.widget-state+json": {
        "4e7eee87a610470a9ace8cb2793e39f8": {
          "model_module": "@jupyter-widgets/controls",
          "model_name": "HBoxModel",
          "model_module_version": "1.5.0",
          "state": {
            "_dom_classes": [],
            "_model_module": "@jupyter-widgets/controls",
            "_model_module_version": "1.5.0",
            "_model_name": "HBoxModel",
            "_view_count": null,
            "_view_module": "@jupyter-widgets/controls",
            "_view_module_version": "1.5.0",
            "_view_name": "HBoxView",
            "box_style": "",
            "children": [
              "IPY_MODEL_6247796c8708400aa4c2e27d02081442",
              "IPY_MODEL_40b73d01a910484db38da12a93b7a358",
              "IPY_MODEL_739214a3e80e44a99158191e36bf3590"
            ],
            "layout": "IPY_MODEL_1183ca134b1b4687ad948e6d03313c19"
          }
        },
        "6247796c8708400aa4c2e27d02081442": {
          "model_module": "@jupyter-widgets/controls",
          "model_name": "HTMLModel",
          "model_module_version": "1.5.0",
          "state": {
            "_dom_classes": [],
            "_model_module": "@jupyter-widgets/controls",
            "_model_module_version": "1.5.0",
            "_model_name": "HTMLModel",
            "_view_count": null,
            "_view_module": "@jupyter-widgets/controls",
            "_view_module_version": "1.5.0",
            "_view_name": "HTMLView",
            "description": "",
            "description_tooltip": null,
            "layout": "IPY_MODEL_d805259b61b6454ba73a8576959f47c8",
            "placeholder": "​",
            "style": "IPY_MODEL_267884298c5441698d1446d81f0ddf53",
            "value": "Map: 100%"
          }
        },
        "40b73d01a910484db38da12a93b7a358": {
          "model_module": "@jupyter-widgets/controls",
          "model_name": "FloatProgressModel",
          "model_module_version": "1.5.0",
          "state": {
            "_dom_classes": [],
            "_model_module": "@jupyter-widgets/controls",
            "_model_module_version": "1.5.0",
            "_model_name": "FloatProgressModel",
            "_view_count": null,
            "_view_module": "@jupyter-widgets/controls",
            "_view_module_version": "1.5.0",
            "_view_name": "ProgressView",
            "bar_style": "success",
            "description": "",
            "description_tooltip": null,
            "layout": "IPY_MODEL_09a2269a926541e0962f4f69841a1ae8",
            "max": 124586,
            "min": 0,
            "orientation": "horizontal",
            "style": "IPY_MODEL_6a8c1dbc972d4060b5c89e208be78e62",
            "value": 124586
          }
        },
        "739214a3e80e44a99158191e36bf3590": {
          "model_module": "@jupyter-widgets/controls",
          "model_name": "HTMLModel",
          "model_module_version": "1.5.0",
          "state": {
            "_dom_classes": [],
            "_model_module": "@jupyter-widgets/controls",
            "_model_module_version": "1.5.0",
            "_model_name": "HTMLModel",
            "_view_count": null,
            "_view_module": "@jupyter-widgets/controls",
            "_view_module_version": "1.5.0",
            "_view_name": "HTMLView",
            "description": "",
            "description_tooltip": null,
            "layout": "IPY_MODEL_c25794dd501343278281dc16637b0814",
            "placeholder": "​",
            "style": "IPY_MODEL_e8265eb1b37a4260800f1881900c5df6",
            "value": " 124586/124586 [00:40&lt;00:00, 3015.85 examples/s]"
          }
        },
        "1183ca134b1b4687ad948e6d03313c19": {
          "model_module": "@jupyter-widgets/base",
          "model_name": "LayoutModel",
          "model_module_version": "1.2.0",
          "state": {
            "_model_module": "@jupyter-widgets/base",
            "_model_module_version": "1.2.0",
            "_model_name": "LayoutModel",
            "_view_count": null,
            "_view_module": "@jupyter-widgets/base",
            "_view_module_version": "1.2.0",
            "_view_name": "LayoutView",
            "align_content": null,
            "align_items": null,
            "align_self": null,
            "border": null,
            "bottom": null,
            "display": null,
            "flex": null,
            "flex_flow": null,
            "grid_area": null,
            "grid_auto_columns": null,
            "grid_auto_flow": null,
            "grid_auto_rows": null,
            "grid_column": null,
            "grid_gap": null,
            "grid_row": null,
            "grid_template_areas": null,
            "grid_template_columns": null,
            "grid_template_rows": null,
            "height": null,
            "justify_content": null,
            "justify_items": null,
            "left": null,
            "margin": null,
            "max_height": null,
            "max_width": null,
            "min_height": null,
            "min_width": null,
            "object_fit": null,
            "object_position": null,
            "order": null,
            "overflow": null,
            "overflow_x": null,
            "overflow_y": null,
            "padding": null,
            "right": null,
            "top": null,
            "visibility": null,
            "width": null
          }
        },
        "d805259b61b6454ba73a8576959f47c8": {
          "model_module": "@jupyter-widgets/base",
          "model_name": "LayoutModel",
          "model_module_version": "1.2.0",
          "state": {
            "_model_module": "@jupyter-widgets/base",
            "_model_module_version": "1.2.0",
            "_model_name": "LayoutModel",
            "_view_count": null,
            "_view_module": "@jupyter-widgets/base",
            "_view_module_version": "1.2.0",
            "_view_name": "LayoutView",
            "align_content": null,
            "align_items": null,
            "align_self": null,
            "border": null,
            "bottom": null,
            "display": null,
            "flex": null,
            "flex_flow": null,
            "grid_area": null,
            "grid_auto_columns": null,
            "grid_auto_flow": null,
            "grid_auto_rows": null,
            "grid_column": null,
            "grid_gap": null,
            "grid_row": null,
            "grid_template_areas": null,
            "grid_template_columns": null,
            "grid_template_rows": null,
            "height": null,
            "justify_content": null,
            "justify_items": null,
            "left": null,
            "margin": null,
            "max_height": null,
            "max_width": null,
            "min_height": null,
            "min_width": null,
            "object_fit": null,
            "object_position": null,
            "order": null,
            "overflow": null,
            "overflow_x": null,
            "overflow_y": null,
            "padding": null,
            "right": null,
            "top": null,
            "visibility": null,
            "width": null
          }
        },
        "267884298c5441698d1446d81f0ddf53": {
          "model_module": "@jupyter-widgets/controls",
          "model_name": "DescriptionStyleModel",
          "model_module_version": "1.5.0",
          "state": {
            "_model_module": "@jupyter-widgets/controls",
            "_model_module_version": "1.5.0",
            "_model_name": "DescriptionStyleModel",
            "_view_count": null,
            "_view_module": "@jupyter-widgets/base",
            "_view_module_version": "1.2.0",
            "_view_name": "StyleView",
            "description_width": ""
          }
        },
        "09a2269a926541e0962f4f69841a1ae8": {
          "model_module": "@jupyter-widgets/base",
          "model_name": "LayoutModel",
          "model_module_version": "1.2.0",
          "state": {
            "_model_module": "@jupyter-widgets/base",
            "_model_module_version": "1.2.0",
            "_model_name": "LayoutModel",
            "_view_count": null,
            "_view_module": "@jupyter-widgets/base",
            "_view_module_version": "1.2.0",
            "_view_name": "LayoutView",
            "align_content": null,
            "align_items": null,
            "align_self": null,
            "border": null,
            "bottom": null,
            "display": null,
            "flex": null,
            "flex_flow": null,
            "grid_area": null,
            "grid_auto_columns": null,
            "grid_auto_flow": null,
            "grid_auto_rows": null,
            "grid_column": null,
            "grid_gap": null,
            "grid_row": null,
            "grid_template_areas": null,
            "grid_template_columns": null,
            "grid_template_rows": null,
            "height": null,
            "justify_content": null,
            "justify_items": null,
            "left": null,
            "margin": null,
            "max_height": null,
            "max_width": null,
            "min_height": null,
            "min_width": null,
            "object_fit": null,
            "object_position": null,
            "order": null,
            "overflow": null,
            "overflow_x": null,
            "overflow_y": null,
            "padding": null,
            "right": null,
            "top": null,
            "visibility": null,
            "width": null
          }
        },
        "6a8c1dbc972d4060b5c89e208be78e62": {
          "model_module": "@jupyter-widgets/controls",
          "model_name": "ProgressStyleModel",
          "model_module_version": "1.5.0",
          "state": {
            "_model_module": "@jupyter-widgets/controls",
            "_model_module_version": "1.5.0",
            "_model_name": "ProgressStyleModel",
            "_view_count": null,
            "_view_module": "@jupyter-widgets/base",
            "_view_module_version": "1.2.0",
            "_view_name": "StyleView",
            "bar_color": null,
            "description_width": ""
          }
        },
        "c25794dd501343278281dc16637b0814": {
          "model_module": "@jupyter-widgets/base",
          "model_name": "LayoutModel",
          "model_module_version": "1.2.0",
          "state": {
            "_model_module": "@jupyter-widgets/base",
            "_model_module_version": "1.2.0",
            "_model_name": "LayoutModel",
            "_view_count": null,
            "_view_module": "@jupyter-widgets/base",
            "_view_module_version": "1.2.0",
            "_view_name": "LayoutView",
            "align_content": null,
            "align_items": null,
            "align_self": null,
            "border": null,
            "bottom": null,
            "display": null,
            "flex": null,
            "flex_flow": null,
            "grid_area": null,
            "grid_auto_columns": null,
            "grid_auto_flow": null,
            "grid_auto_rows": null,
            "grid_column": null,
            "grid_gap": null,
            "grid_row": null,
            "grid_template_areas": null,
            "grid_template_columns": null,
            "grid_template_rows": null,
            "height": null,
            "justify_content": null,
            "justify_items": null,
            "left": null,
            "margin": null,
            "max_height": null,
            "max_width": null,
            "min_height": null,
            "min_width": null,
            "object_fit": null,
            "object_position": null,
            "order": null,
            "overflow": null,
            "overflow_x": null,
            "overflow_y": null,
            "padding": null,
            "right": null,
            "top": null,
            "visibility": null,
            "width": null
          }
        },
        "e8265eb1b37a4260800f1881900c5df6": {
          "model_module": "@jupyter-widgets/controls",
          "model_name": "DescriptionStyleModel",
          "model_module_version": "1.5.0",
          "state": {
            "_model_module": "@jupyter-widgets/controls",
            "_model_module_version": "1.5.0",
            "_model_name": "DescriptionStyleModel",
            "_view_count": null,
            "_view_module": "@jupyter-widgets/base",
            "_view_module_version": "1.2.0",
            "_view_name": "StyleView",
            "description_width": ""
          }
        },
        "f7839c671d2c4e3a83b43d1eec03dd78": {
          "model_module": "@jupyter-widgets/controls",
          "model_name": "HBoxModel",
          "model_module_version": "1.5.0",
          "state": {
            "_dom_classes": [],
            "_model_module": "@jupyter-widgets/controls",
            "_model_module_version": "1.5.0",
            "_model_name": "HBoxModel",
            "_view_count": null,
            "_view_module": "@jupyter-widgets/controls",
            "_view_module_version": "1.5.0",
            "_view_name": "HBoxView",
            "box_style": "",
            "children": [
              "IPY_MODEL_c112b62db27b4d15bb25c53da1720cdb",
              "IPY_MODEL_45bf456f608f4a4192d94d4bfaa195d1",
              "IPY_MODEL_7ce6ee4b656b4944adc4d43a65ee27c2"
            ],
            "layout": "IPY_MODEL_d9a7626e80ab4976a43c5e4fc373adb3"
          }
        },
        "c112b62db27b4d15bb25c53da1720cdb": {
          "model_module": "@jupyter-widgets/controls",
          "model_name": "HTMLModel",
          "model_module_version": "1.5.0",
          "state": {
            "_dom_classes": [],
            "_model_module": "@jupyter-widgets/controls",
            "_model_module_version": "1.5.0",
            "_model_name": "HTMLModel",
            "_view_count": null,
            "_view_module": "@jupyter-widgets/controls",
            "_view_module_version": "1.5.0",
            "_view_name": "HTMLView",
            "description": "",
            "description_tooltip": null,
            "layout": "IPY_MODEL_8b59117804594cd9ac46cfbaa0e21467",
            "placeholder": "​",
            "style": "IPY_MODEL_5cb0c3b0220b439ca3d7329b48042634",
            "value": "Map: 100%"
          }
        },
        "45bf456f608f4a4192d94d4bfaa195d1": {
          "model_module": "@jupyter-widgets/controls",
          "model_name": "FloatProgressModel",
          "model_module_version": "1.5.0",
          "state": {
            "_dom_classes": [],
            "_model_module": "@jupyter-widgets/controls",
            "_model_module_version": "1.5.0",
            "_model_name": "FloatProgressModel",
            "_view_count": null,
            "_view_module": "@jupyter-widgets/controls",
            "_view_module_version": "1.5.0",
            "_view_name": "ProgressView",
            "bar_style": "success",
            "description": "",
            "description_tooltip": null,
            "layout": "IPY_MODEL_71a3abb504f1432a92dbe376b6a1a772",
            "max": 124586,
            "min": 0,
            "orientation": "horizontal",
            "style": "IPY_MODEL_25b39a3d8b5f46f99149b6618dd47760",
            "value": 124586
          }
        },
        "7ce6ee4b656b4944adc4d43a65ee27c2": {
          "model_module": "@jupyter-widgets/controls",
          "model_name": "HTMLModel",
          "model_module_version": "1.5.0",
          "state": {
            "_dom_classes": [],
            "_model_module": "@jupyter-widgets/controls",
            "_model_module_version": "1.5.0",
            "_model_name": "HTMLModel",
            "_view_count": null,
            "_view_module": "@jupyter-widgets/controls",
            "_view_module_version": "1.5.0",
            "_view_name": "HTMLView",
            "description": "",
            "description_tooltip": null,
            "layout": "IPY_MODEL_100fa14c8f8345a3968548fb428a1782",
            "placeholder": "​",
            "style": "IPY_MODEL_4817122ac2774b3bab9e085908f43e74",
            "value": " 124586/124586 [00:38&lt;00:00, 3473.10 examples/s]"
          }
        },
        "d9a7626e80ab4976a43c5e4fc373adb3": {
          "model_module": "@jupyter-widgets/base",
          "model_name": "LayoutModel",
          "model_module_version": "1.2.0",
          "state": {
            "_model_module": "@jupyter-widgets/base",
            "_model_module_version": "1.2.0",
            "_model_name": "LayoutModel",
            "_view_count": null,
            "_view_module": "@jupyter-widgets/base",
            "_view_module_version": "1.2.0",
            "_view_name": "LayoutView",
            "align_content": null,
            "align_items": null,
            "align_self": null,
            "border": null,
            "bottom": null,
            "display": null,
            "flex": null,
            "flex_flow": null,
            "grid_area": null,
            "grid_auto_columns": null,
            "grid_auto_flow": null,
            "grid_auto_rows": null,
            "grid_column": null,
            "grid_gap": null,
            "grid_row": null,
            "grid_template_areas": null,
            "grid_template_columns": null,
            "grid_template_rows": null,
            "height": null,
            "justify_content": null,
            "justify_items": null,
            "left": null,
            "margin": null,
            "max_height": null,
            "max_width": null,
            "min_height": null,
            "min_width": null,
            "object_fit": null,
            "object_position": null,
            "order": null,
            "overflow": null,
            "overflow_x": null,
            "overflow_y": null,
            "padding": null,
            "right": null,
            "top": null,
            "visibility": null,
            "width": null
          }
        },
        "8b59117804594cd9ac46cfbaa0e21467": {
          "model_module": "@jupyter-widgets/base",
          "model_name": "LayoutModel",
          "model_module_version": "1.2.0",
          "state": {
            "_model_module": "@jupyter-widgets/base",
            "_model_module_version": "1.2.0",
            "_model_name": "LayoutModel",
            "_view_count": null,
            "_view_module": "@jupyter-widgets/base",
            "_view_module_version": "1.2.0",
            "_view_name": "LayoutView",
            "align_content": null,
            "align_items": null,
            "align_self": null,
            "border": null,
            "bottom": null,
            "display": null,
            "flex": null,
            "flex_flow": null,
            "grid_area": null,
            "grid_auto_columns": null,
            "grid_auto_flow": null,
            "grid_auto_rows": null,
            "grid_column": null,
            "grid_gap": null,
            "grid_row": null,
            "grid_template_areas": null,
            "grid_template_columns": null,
            "grid_template_rows": null,
            "height": null,
            "justify_content": null,
            "justify_items": null,
            "left": null,
            "margin": null,
            "max_height": null,
            "max_width": null,
            "min_height": null,
            "min_width": null,
            "object_fit": null,
            "object_position": null,
            "order": null,
            "overflow": null,
            "overflow_x": null,
            "overflow_y": null,
            "padding": null,
            "right": null,
            "top": null,
            "visibility": null,
            "width": null
          }
        },
        "5cb0c3b0220b439ca3d7329b48042634": {
          "model_module": "@jupyter-widgets/controls",
          "model_name": "DescriptionStyleModel",
          "model_module_version": "1.5.0",
          "state": {
            "_model_module": "@jupyter-widgets/controls",
            "_model_module_version": "1.5.0",
            "_model_name": "DescriptionStyleModel",
            "_view_count": null,
            "_view_module": "@jupyter-widgets/base",
            "_view_module_version": "1.2.0",
            "_view_name": "StyleView",
            "description_width": ""
          }
        },
        "71a3abb504f1432a92dbe376b6a1a772": {
          "model_module": "@jupyter-widgets/base",
          "model_name": "LayoutModel",
          "model_module_version": "1.2.0",
          "state": {
            "_model_module": "@jupyter-widgets/base",
            "_model_module_version": "1.2.0",
            "_model_name": "LayoutModel",
            "_view_count": null,
            "_view_module": "@jupyter-widgets/base",
            "_view_module_version": "1.2.0",
            "_view_name": "LayoutView",
            "align_content": null,
            "align_items": null,
            "align_self": null,
            "border": null,
            "bottom": null,
            "display": null,
            "flex": null,
            "flex_flow": null,
            "grid_area": null,
            "grid_auto_columns": null,
            "grid_auto_flow": null,
            "grid_auto_rows": null,
            "grid_column": null,
            "grid_gap": null,
            "grid_row": null,
            "grid_template_areas": null,
            "grid_template_columns": null,
            "grid_template_rows": null,
            "height": null,
            "justify_content": null,
            "justify_items": null,
            "left": null,
            "margin": null,
            "max_height": null,
            "max_width": null,
            "min_height": null,
            "min_width": null,
            "object_fit": null,
            "object_position": null,
            "order": null,
            "overflow": null,
            "overflow_x": null,
            "overflow_y": null,
            "padding": null,
            "right": null,
            "top": null,
            "visibility": null,
            "width": null
          }
        },
        "25b39a3d8b5f46f99149b6618dd47760": {
          "model_module": "@jupyter-widgets/controls",
          "model_name": "ProgressStyleModel",
          "model_module_version": "1.5.0",
          "state": {
            "_model_module": "@jupyter-widgets/controls",
            "_model_module_version": "1.5.0",
            "_model_name": "ProgressStyleModel",
            "_view_count": null,
            "_view_module": "@jupyter-widgets/base",
            "_view_module_version": "1.2.0",
            "_view_name": "StyleView",
            "bar_color": null,
            "description_width": ""
          }
        },
        "100fa14c8f8345a3968548fb428a1782": {
          "model_module": "@jupyter-widgets/base",
          "model_name": "LayoutModel",
          "model_module_version": "1.2.0",
          "state": {
            "_model_module": "@jupyter-widgets/base",
            "_model_module_version": "1.2.0",
            "_model_name": "LayoutModel",
            "_view_count": null,
            "_view_module": "@jupyter-widgets/base",
            "_view_module_version": "1.2.0",
            "_view_name": "LayoutView",
            "align_content": null,
            "align_items": null,
            "align_self": null,
            "border": null,
            "bottom": null,
            "display": null,
            "flex": null,
            "flex_flow": null,
            "grid_area": null,
            "grid_auto_columns": null,
            "grid_auto_flow": null,
            "grid_auto_rows": null,
            "grid_column": null,
            "grid_gap": null,
            "grid_row": null,
            "grid_template_areas": null,
            "grid_template_columns": null,
            "grid_template_rows": null,
            "height": null,
            "justify_content": null,
            "justify_items": null,
            "left": null,
            "margin": null,
            "max_height": null,
            "max_width": null,
            "min_height": null,
            "min_width": null,
            "object_fit": null,
            "object_position": null,
            "order": null,
            "overflow": null,
            "overflow_x": null,
            "overflow_y": null,
            "padding": null,
            "right": null,
            "top": null,
            "visibility": null,
            "width": null
          }
        },
        "4817122ac2774b3bab9e085908f43e74": {
          "model_module": "@jupyter-widgets/controls",
          "model_name": "DescriptionStyleModel",
          "model_module_version": "1.5.0",
          "state": {
            "_model_module": "@jupyter-widgets/controls",
            "_model_module_version": "1.5.0",
            "_model_name": "DescriptionStyleModel",
            "_view_count": null,
            "_view_module": "@jupyter-widgets/base",
            "_view_module_version": "1.2.0",
            "_view_name": "StyleView",
            "description_width": ""
          }
        },
        "f5bf0cb76a224bf7b412588c0eac4fb1": {
          "model_module": "@jupyter-widgets/controls",
          "model_name": "HBoxModel",
          "model_module_version": "1.5.0",
          "state": {
            "_dom_classes": [],
            "_model_module": "@jupyter-widgets/controls",
            "_model_module_version": "1.5.0",
            "_model_name": "HBoxModel",
            "_view_count": null,
            "_view_module": "@jupyter-widgets/controls",
            "_view_module_version": "1.5.0",
            "_view_name": "HBoxView",
            "box_style": "",
            "children": [
              "IPY_MODEL_979ffc09395b4a4393986b5e989ae8ed",
              "IPY_MODEL_a1346f7c7f794429ae30061cef61ff98",
              "IPY_MODEL_bcc31b1af86241cdba09f16aeb58439a"
            ],
            "layout": "IPY_MODEL_63b8c8ff414544bc8434da909ef6c695"
          }
        },
        "979ffc09395b4a4393986b5e989ae8ed": {
          "model_module": "@jupyter-widgets/controls",
          "model_name": "HTMLModel",
          "model_module_version": "1.5.0",
          "state": {
            "_dom_classes": [],
            "_model_module": "@jupyter-widgets/controls",
            "_model_module_version": "1.5.0",
            "_model_name": "HTMLModel",
            "_view_count": null,
            "_view_module": "@jupyter-widgets/controls",
            "_view_module_version": "1.5.0",
            "_view_name": "HTMLView",
            "description": "",
            "description_tooltip": null,
            "layout": "IPY_MODEL_fd87f5c7fe1343939b3866320290ffb6",
            "placeholder": "​",
            "style": "IPY_MODEL_0175c8db5f874d258b45ddd771ebc93f",
            "value": "Flattening the indices: 100%"
          }
        },
        "a1346f7c7f794429ae30061cef61ff98": {
          "model_module": "@jupyter-widgets/controls",
          "model_name": "FloatProgressModel",
          "model_module_version": "1.5.0",
          "state": {
            "_dom_classes": [],
            "_model_module": "@jupyter-widgets/controls",
            "_model_module_version": "1.5.0",
            "_model_name": "FloatProgressModel",
            "_view_count": null,
            "_view_module": "@jupyter-widgets/controls",
            "_view_module_version": "1.5.0",
            "_view_name": "ProgressView",
            "bar_style": "success",
            "description": "",
            "description_tooltip": null,
            "layout": "IPY_MODEL_842282ff85134fbf92a482555573015e",
            "max": 24000,
            "min": 0,
            "orientation": "horizontal",
            "style": "IPY_MODEL_e858527a84f640719eda0a5813ff366b",
            "value": 24000
          }
        },
        "bcc31b1af86241cdba09f16aeb58439a": {
          "model_module": "@jupyter-widgets/controls",
          "model_name": "HTMLModel",
          "model_module_version": "1.5.0",
          "state": {
            "_dom_classes": [],
            "_model_module": "@jupyter-widgets/controls",
            "_model_module_version": "1.5.0",
            "_model_name": "HTMLModel",
            "_view_count": null,
            "_view_module": "@jupyter-widgets/controls",
            "_view_module_version": "1.5.0",
            "_view_name": "HTMLView",
            "description": "",
            "description_tooltip": null,
            "layout": "IPY_MODEL_05b34f1de3f84dc2aa0c9d2dd52f6b8b",
            "placeholder": "​",
            "style": "IPY_MODEL_b19c65516df6475eb9a87d6258a3a71a",
            "value": " 24000/24000 [00:01&lt;00:00, 18494.91 examples/s]"
          }
        },
        "63b8c8ff414544bc8434da909ef6c695": {
          "model_module": "@jupyter-widgets/base",
          "model_name": "LayoutModel",
          "model_module_version": "1.2.0",
          "state": {
            "_model_module": "@jupyter-widgets/base",
            "_model_module_version": "1.2.0",
            "_model_name": "LayoutModel",
            "_view_count": null,
            "_view_module": "@jupyter-widgets/base",
            "_view_module_version": "1.2.0",
            "_view_name": "LayoutView",
            "align_content": null,
            "align_items": null,
            "align_self": null,
            "border": null,
            "bottom": null,
            "display": null,
            "flex": null,
            "flex_flow": null,
            "grid_area": null,
            "grid_auto_columns": null,
            "grid_auto_flow": null,
            "grid_auto_rows": null,
            "grid_column": null,
            "grid_gap": null,
            "grid_row": null,
            "grid_template_areas": null,
            "grid_template_columns": null,
            "grid_template_rows": null,
            "height": null,
            "justify_content": null,
            "justify_items": null,
            "left": null,
            "margin": null,
            "max_height": null,
            "max_width": null,
            "min_height": null,
            "min_width": null,
            "object_fit": null,
            "object_position": null,
            "order": null,
            "overflow": null,
            "overflow_x": null,
            "overflow_y": null,
            "padding": null,
            "right": null,
            "top": null,
            "visibility": null,
            "width": null
          }
        },
        "fd87f5c7fe1343939b3866320290ffb6": {
          "model_module": "@jupyter-widgets/base",
          "model_name": "LayoutModel",
          "model_module_version": "1.2.0",
          "state": {
            "_model_module": "@jupyter-widgets/base",
            "_model_module_version": "1.2.0",
            "_model_name": "LayoutModel",
            "_view_count": null,
            "_view_module": "@jupyter-widgets/base",
            "_view_module_version": "1.2.0",
            "_view_name": "LayoutView",
            "align_content": null,
            "align_items": null,
            "align_self": null,
            "border": null,
            "bottom": null,
            "display": null,
            "flex": null,
            "flex_flow": null,
            "grid_area": null,
            "grid_auto_columns": null,
            "grid_auto_flow": null,
            "grid_auto_rows": null,
            "grid_column": null,
            "grid_gap": null,
            "grid_row": null,
            "grid_template_areas": null,
            "grid_template_columns": null,
            "grid_template_rows": null,
            "height": null,
            "justify_content": null,
            "justify_items": null,
            "left": null,
            "margin": null,
            "max_height": null,
            "max_width": null,
            "min_height": null,
            "min_width": null,
            "object_fit": null,
            "object_position": null,
            "order": null,
            "overflow": null,
            "overflow_x": null,
            "overflow_y": null,
            "padding": null,
            "right": null,
            "top": null,
            "visibility": null,
            "width": null
          }
        },
        "0175c8db5f874d258b45ddd771ebc93f": {
          "model_module": "@jupyter-widgets/controls",
          "model_name": "DescriptionStyleModel",
          "model_module_version": "1.5.0",
          "state": {
            "_model_module": "@jupyter-widgets/controls",
            "_model_module_version": "1.5.0",
            "_model_name": "DescriptionStyleModel",
            "_view_count": null,
            "_view_module": "@jupyter-widgets/base",
            "_view_module_version": "1.2.0",
            "_view_name": "StyleView",
            "description_width": ""
          }
        },
        "842282ff85134fbf92a482555573015e": {
          "model_module": "@jupyter-widgets/base",
          "model_name": "LayoutModel",
          "model_module_version": "1.2.0",
          "state": {
            "_model_module": "@jupyter-widgets/base",
            "_model_module_version": "1.2.0",
            "_model_name": "LayoutModel",
            "_view_count": null,
            "_view_module": "@jupyter-widgets/base",
            "_view_module_version": "1.2.0",
            "_view_name": "LayoutView",
            "align_content": null,
            "align_items": null,
            "align_self": null,
            "border": null,
            "bottom": null,
            "display": null,
            "flex": null,
            "flex_flow": null,
            "grid_area": null,
            "grid_auto_columns": null,
            "grid_auto_flow": null,
            "grid_auto_rows": null,
            "grid_column": null,
            "grid_gap": null,
            "grid_row": null,
            "grid_template_areas": null,
            "grid_template_columns": null,
            "grid_template_rows": null,
            "height": null,
            "justify_content": null,
            "justify_items": null,
            "left": null,
            "margin": null,
            "max_height": null,
            "max_width": null,
            "min_height": null,
            "min_width": null,
            "object_fit": null,
            "object_position": null,
            "order": null,
            "overflow": null,
            "overflow_x": null,
            "overflow_y": null,
            "padding": null,
            "right": null,
            "top": null,
            "visibility": null,
            "width": null
          }
        },
        "e858527a84f640719eda0a5813ff366b": {
          "model_module": "@jupyter-widgets/controls",
          "model_name": "ProgressStyleModel",
          "model_module_version": "1.5.0",
          "state": {
            "_model_module": "@jupyter-widgets/controls",
            "_model_module_version": "1.5.0",
            "_model_name": "ProgressStyleModel",
            "_view_count": null,
            "_view_module": "@jupyter-widgets/base",
            "_view_module_version": "1.2.0",
            "_view_name": "StyleView",
            "bar_color": null,
            "description_width": ""
          }
        },
        "05b34f1de3f84dc2aa0c9d2dd52f6b8b": {
          "model_module": "@jupyter-widgets/base",
          "model_name": "LayoutModel",
          "model_module_version": "1.2.0",
          "state": {
            "_model_module": "@jupyter-widgets/base",
            "_model_module_version": "1.2.0",
            "_model_name": "LayoutModel",
            "_view_count": null,
            "_view_module": "@jupyter-widgets/base",
            "_view_module_version": "1.2.0",
            "_view_name": "LayoutView",
            "align_content": null,
            "align_items": null,
            "align_self": null,
            "border": null,
            "bottom": null,
            "display": null,
            "flex": null,
            "flex_flow": null,
            "grid_area": null,
            "grid_auto_columns": null,
            "grid_auto_flow": null,
            "grid_auto_rows": null,
            "grid_column": null,
            "grid_gap": null,
            "grid_row": null,
            "grid_template_areas": null,
            "grid_template_columns": null,
            "grid_template_rows": null,
            "height": null,
            "justify_content": null,
            "justify_items": null,
            "left": null,
            "margin": null,
            "max_height": null,
            "max_width": null,
            "min_height": null,
            "min_width": null,
            "object_fit": null,
            "object_position": null,
            "order": null,
            "overflow": null,
            "overflow_x": null,
            "overflow_y": null,
            "padding": null,
            "right": null,
            "top": null,
            "visibility": null,
            "width": null
          }
        },
        "b19c65516df6475eb9a87d6258a3a71a": {
          "model_module": "@jupyter-widgets/controls",
          "model_name": "DescriptionStyleModel",
          "model_module_version": "1.5.0",
          "state": {
            "_model_module": "@jupyter-widgets/controls",
            "_model_module_version": "1.5.0",
            "_model_name": "DescriptionStyleModel",
            "_view_count": null,
            "_view_module": "@jupyter-widgets/base",
            "_view_module_version": "1.2.0",
            "_view_name": "StyleView",
            "description_width": ""
          }
        },
        "f50c2d15a2f741ea95eea7dda49bfaa5": {
          "model_module": "@jupyter-widgets/controls",
          "model_name": "HBoxModel",
          "model_module_version": "1.5.0",
          "state": {
            "_dom_classes": [],
            "_model_module": "@jupyter-widgets/controls",
            "_model_module_version": "1.5.0",
            "_model_name": "HBoxModel",
            "_view_count": null,
            "_view_module": "@jupyter-widgets/controls",
            "_view_module_version": "1.5.0",
            "_view_name": "HBoxView",
            "box_style": "",
            "children": [
              "IPY_MODEL_9e6c3b6fe7a241abbaf9ecfb337abe35",
              "IPY_MODEL_8e3b5dc55d4c4d44b39ff75cdc632d34",
              "IPY_MODEL_466b38d32309470dafae1d415380d2ad"
            ],
            "layout": "IPY_MODEL_4d9968b7989f46b29544dd80df602ce4"
          }
        },
        "9e6c3b6fe7a241abbaf9ecfb337abe35": {
          "model_module": "@jupyter-widgets/controls",
          "model_name": "HTMLModel",
          "model_module_version": "1.5.0",
          "state": {
            "_dom_classes": [],
            "_model_module": "@jupyter-widgets/controls",
            "_model_module_version": "1.5.0",
            "_model_name": "HTMLModel",
            "_view_count": null,
            "_view_module": "@jupyter-widgets/controls",
            "_view_module_version": "1.5.0",
            "_view_name": "HTMLView",
            "description": "",
            "description_tooltip": null,
            "layout": "IPY_MODEL_14c74f31e73d465aa6232bee1051ba30",
            "placeholder": "​",
            "style": "IPY_MODEL_0f04d84772244028b15e628555f2192a",
            "value": "Flattening the indices: 100%"
          }
        },
        "8e3b5dc55d4c4d44b39ff75cdc632d34": {
          "model_module": "@jupyter-widgets/controls",
          "model_name": "FloatProgressModel",
          "model_module_version": "1.5.0",
          "state": {
            "_dom_classes": [],
            "_model_module": "@jupyter-widgets/controls",
            "_model_module_version": "1.5.0",
            "_model_name": "FloatProgressModel",
            "_view_count": null,
            "_view_module": "@jupyter-widgets/controls",
            "_view_module_version": "1.5.0",
            "_view_name": "ProgressView",
            "bar_style": "success",
            "description": "",
            "description_tooltip": null,
            "layout": "IPY_MODEL_efef5ceed5fb41279e6b09e471320c40",
            "max": 6000,
            "min": 0,
            "orientation": "horizontal",
            "style": "IPY_MODEL_b19e0473105d43209a7fe51c7206d5d0",
            "value": 6000
          }
        },
        "466b38d32309470dafae1d415380d2ad": {
          "model_module": "@jupyter-widgets/controls",
          "model_name": "HTMLModel",
          "model_module_version": "1.5.0",
          "state": {
            "_dom_classes": [],
            "_model_module": "@jupyter-widgets/controls",
            "_model_module_version": "1.5.0",
            "_model_name": "HTMLModel",
            "_view_count": null,
            "_view_module": "@jupyter-widgets/controls",
            "_view_module_version": "1.5.0",
            "_view_name": "HTMLView",
            "description": "",
            "description_tooltip": null,
            "layout": "IPY_MODEL_98be267b6fa844b6b21db41380e598dc",
            "placeholder": "​",
            "style": "IPY_MODEL_78afb5ed157c456c8ee2f7c7b7d06175",
            "value": " 6000/6000 [00:00&lt;00:00, 18993.86 examples/s]"
          }
        },
        "4d9968b7989f46b29544dd80df602ce4": {
          "model_module": "@jupyter-widgets/base",
          "model_name": "LayoutModel",
          "model_module_version": "1.2.0",
          "state": {
            "_model_module": "@jupyter-widgets/base",
            "_model_module_version": "1.2.0",
            "_model_name": "LayoutModel",
            "_view_count": null,
            "_view_module": "@jupyter-widgets/base",
            "_view_module_version": "1.2.0",
            "_view_name": "LayoutView",
            "align_content": null,
            "align_items": null,
            "align_self": null,
            "border": null,
            "bottom": null,
            "display": null,
            "flex": null,
            "flex_flow": null,
            "grid_area": null,
            "grid_auto_columns": null,
            "grid_auto_flow": null,
            "grid_auto_rows": null,
            "grid_column": null,
            "grid_gap": null,
            "grid_row": null,
            "grid_template_areas": null,
            "grid_template_columns": null,
            "grid_template_rows": null,
            "height": null,
            "justify_content": null,
            "justify_items": null,
            "left": null,
            "margin": null,
            "max_height": null,
            "max_width": null,
            "min_height": null,
            "min_width": null,
            "object_fit": null,
            "object_position": null,
            "order": null,
            "overflow": null,
            "overflow_x": null,
            "overflow_y": null,
            "padding": null,
            "right": null,
            "top": null,
            "visibility": null,
            "width": null
          }
        },
        "14c74f31e73d465aa6232bee1051ba30": {
          "model_module": "@jupyter-widgets/base",
          "model_name": "LayoutModel",
          "model_module_version": "1.2.0",
          "state": {
            "_model_module": "@jupyter-widgets/base",
            "_model_module_version": "1.2.0",
            "_model_name": "LayoutModel",
            "_view_count": null,
            "_view_module": "@jupyter-widgets/base",
            "_view_module_version": "1.2.0",
            "_view_name": "LayoutView",
            "align_content": null,
            "align_items": null,
            "align_self": null,
            "border": null,
            "bottom": null,
            "display": null,
            "flex": null,
            "flex_flow": null,
            "grid_area": null,
            "grid_auto_columns": null,
            "grid_auto_flow": null,
            "grid_auto_rows": null,
            "grid_column": null,
            "grid_gap": null,
            "grid_row": null,
            "grid_template_areas": null,
            "grid_template_columns": null,
            "grid_template_rows": null,
            "height": null,
            "justify_content": null,
            "justify_items": null,
            "left": null,
            "margin": null,
            "max_height": null,
            "max_width": null,
            "min_height": null,
            "min_width": null,
            "object_fit": null,
            "object_position": null,
            "order": null,
            "overflow": null,
            "overflow_x": null,
            "overflow_y": null,
            "padding": null,
            "right": null,
            "top": null,
            "visibility": null,
            "width": null
          }
        },
        "0f04d84772244028b15e628555f2192a": {
          "model_module": "@jupyter-widgets/controls",
          "model_name": "DescriptionStyleModel",
          "model_module_version": "1.5.0",
          "state": {
            "_model_module": "@jupyter-widgets/controls",
            "_model_module_version": "1.5.0",
            "_model_name": "DescriptionStyleModel",
            "_view_count": null,
            "_view_module": "@jupyter-widgets/base",
            "_view_module_version": "1.2.0",
            "_view_name": "StyleView",
            "description_width": ""
          }
        },
        "efef5ceed5fb41279e6b09e471320c40": {
          "model_module": "@jupyter-widgets/base",
          "model_name": "LayoutModel",
          "model_module_version": "1.2.0",
          "state": {
            "_model_module": "@jupyter-widgets/base",
            "_model_module_version": "1.2.0",
            "_model_name": "LayoutModel",
            "_view_count": null,
            "_view_module": "@jupyter-widgets/base",
            "_view_module_version": "1.2.0",
            "_view_name": "LayoutView",
            "align_content": null,
            "align_items": null,
            "align_self": null,
            "border": null,
            "bottom": null,
            "display": null,
            "flex": null,
            "flex_flow": null,
            "grid_area": null,
            "grid_auto_columns": null,
            "grid_auto_flow": null,
            "grid_auto_rows": null,
            "grid_column": null,
            "grid_gap": null,
            "grid_row": null,
            "grid_template_areas": null,
            "grid_template_columns": null,
            "grid_template_rows": null,
            "height": null,
            "justify_content": null,
            "justify_items": null,
            "left": null,
            "margin": null,
            "max_height": null,
            "max_width": null,
            "min_height": null,
            "min_width": null,
            "object_fit": null,
            "object_position": null,
            "order": null,
            "overflow": null,
            "overflow_x": null,
            "overflow_y": null,
            "padding": null,
            "right": null,
            "top": null,
            "visibility": null,
            "width": null
          }
        },
        "b19e0473105d43209a7fe51c7206d5d0": {
          "model_module": "@jupyter-widgets/controls",
          "model_name": "ProgressStyleModel",
          "model_module_version": "1.5.0",
          "state": {
            "_model_module": "@jupyter-widgets/controls",
            "_model_module_version": "1.5.0",
            "_model_name": "ProgressStyleModel",
            "_view_count": null,
            "_view_module": "@jupyter-widgets/base",
            "_view_module_version": "1.2.0",
            "_view_name": "StyleView",
            "bar_color": null,
            "description_width": ""
          }
        },
        "98be267b6fa844b6b21db41380e598dc": {
          "model_module": "@jupyter-widgets/base",
          "model_name": "LayoutModel",
          "model_module_version": "1.2.0",
          "state": {
            "_model_module": "@jupyter-widgets/base",
            "_model_module_version": "1.2.0",
            "_model_name": "LayoutModel",
            "_view_count": null,
            "_view_module": "@jupyter-widgets/base",
            "_view_module_version": "1.2.0",
            "_view_name": "LayoutView",
            "align_content": null,
            "align_items": null,
            "align_self": null,
            "border": null,
            "bottom": null,
            "display": null,
            "flex": null,
            "flex_flow": null,
            "grid_area": null,
            "grid_auto_columns": null,
            "grid_auto_flow": null,
            "grid_auto_rows": null,
            "grid_column": null,
            "grid_gap": null,
            "grid_row": null,
            "grid_template_areas": null,
            "grid_template_columns": null,
            "grid_template_rows": null,
            "height": null,
            "justify_content": null,
            "justify_items": null,
            "left": null,
            "margin": null,
            "max_height": null,
            "max_width": null,
            "min_height": null,
            "min_width": null,
            "object_fit": null,
            "object_position": null,
            "order": null,
            "overflow": null,
            "overflow_x": null,
            "overflow_y": null,
            "padding": null,
            "right": null,
            "top": null,
            "visibility": null,
            "width": null
          }
        },
        "78afb5ed157c456c8ee2f7c7b7d06175": {
          "model_module": "@jupyter-widgets/controls",
          "model_name": "DescriptionStyleModel",
          "model_module_version": "1.5.0",
          "state": {
            "_model_module": "@jupyter-widgets/controls",
            "_model_module_version": "1.5.0",
            "_model_name": "DescriptionStyleModel",
            "_view_count": null,
            "_view_module": "@jupyter-widgets/base",
            "_view_module_version": "1.2.0",
            "_view_name": "StyleView",
            "description_width": ""
          }
        },
        "3656948fd31c43ae829f3ff8196391a5": {
          "model_module": "@jupyter-widgets/controls",
          "model_name": "HBoxModel",
          "model_module_version": "1.5.0",
          "state": {
            "_dom_classes": [],
            "_model_module": "@jupyter-widgets/controls",
            "_model_module_version": "1.5.0",
            "_model_name": "HBoxModel",
            "_view_count": null,
            "_view_module": "@jupyter-widgets/controls",
            "_view_module_version": "1.5.0",
            "_view_name": "HBoxView",
            "box_style": "",
            "children": [
              "IPY_MODEL_152cdffdc62b4f648435680c5a5cc921",
              "IPY_MODEL_5b80fe4f0db043b5aa22f675824dc1d5",
              "IPY_MODEL_1dc967852bec41d69746a708a0c40021"
            ],
            "layout": "IPY_MODEL_bc678012156249c4ae632feae0ee88b3"
          }
        },
        "152cdffdc62b4f648435680c5a5cc921": {
          "model_module": "@jupyter-widgets/controls",
          "model_name": "HTMLModel",
          "model_module_version": "1.5.0",
          "state": {
            "_dom_classes": [],
            "_model_module": "@jupyter-widgets/controls",
            "_model_module_version": "1.5.0",
            "_model_name": "HTMLModel",
            "_view_count": null,
            "_view_module": "@jupyter-widgets/controls",
            "_view_module_version": "1.5.0",
            "_view_name": "HTMLView",
            "description": "",
            "description_tooltip": null,
            "layout": "IPY_MODEL_eeb3445e8d2e48cda3ce0a3fb4a0a1d6",
            "placeholder": "​",
            "style": "IPY_MODEL_a42025c11b3b4feb8278c89e156edd90",
            "value": "Map: 100%"
          }
        },
        "5b80fe4f0db043b5aa22f675824dc1d5": {
          "model_module": "@jupyter-widgets/controls",
          "model_name": "FloatProgressModel",
          "model_module_version": "1.5.0",
          "state": {
            "_dom_classes": [],
            "_model_module": "@jupyter-widgets/controls",
            "_model_module_version": "1.5.0",
            "_model_name": "FloatProgressModel",
            "_view_count": null,
            "_view_module": "@jupyter-widgets/controls",
            "_view_module_version": "1.5.0",
            "_view_name": "ProgressView",
            "bar_style": "success",
            "description": "",
            "description_tooltip": null,
            "layout": "IPY_MODEL_4a862d41dff84490925acdd160501fd5",
            "max": 1438001,
            "min": 0,
            "orientation": "horizontal",
            "style": "IPY_MODEL_ded7f8c6b5a44e488b5a69c34a0ca583",
            "value": 1438001
          }
        },
        "1dc967852bec41d69746a708a0c40021": {
          "model_module": "@jupyter-widgets/controls",
          "model_name": "HTMLModel",
          "model_module_version": "1.5.0",
          "state": {
            "_dom_classes": [],
            "_model_module": "@jupyter-widgets/controls",
            "_model_module_version": "1.5.0",
            "_model_name": "HTMLModel",
            "_view_count": null,
            "_view_module": "@jupyter-widgets/controls",
            "_view_module_version": "1.5.0",
            "_view_name": "HTMLView",
            "description": "",
            "description_tooltip": null,
            "layout": "IPY_MODEL_f3ded04cbd4448de9151f7e6563643de",
            "placeholder": "​",
            "style": "IPY_MODEL_f01fc580544e4bc2af0d636a0818cbaa",
            "value": " 1438001/1438001 [08:01&lt;00:00, 3141.37 examples/s]"
          }
        },
        "bc678012156249c4ae632feae0ee88b3": {
          "model_module": "@jupyter-widgets/base",
          "model_name": "LayoutModel",
          "model_module_version": "1.2.0",
          "state": {
            "_model_module": "@jupyter-widgets/base",
            "_model_module_version": "1.2.0",
            "_model_name": "LayoutModel",
            "_view_count": null,
            "_view_module": "@jupyter-widgets/base",
            "_view_module_version": "1.2.0",
            "_view_name": "LayoutView",
            "align_content": null,
            "align_items": null,
            "align_self": null,
            "border": null,
            "bottom": null,
            "display": null,
            "flex": null,
            "flex_flow": null,
            "grid_area": null,
            "grid_auto_columns": null,
            "grid_auto_flow": null,
            "grid_auto_rows": null,
            "grid_column": null,
            "grid_gap": null,
            "grid_row": null,
            "grid_template_areas": null,
            "grid_template_columns": null,
            "grid_template_rows": null,
            "height": null,
            "justify_content": null,
            "justify_items": null,
            "left": null,
            "margin": null,
            "max_height": null,
            "max_width": null,
            "min_height": null,
            "min_width": null,
            "object_fit": null,
            "object_position": null,
            "order": null,
            "overflow": null,
            "overflow_x": null,
            "overflow_y": null,
            "padding": null,
            "right": null,
            "top": null,
            "visibility": null,
            "width": null
          }
        },
        "eeb3445e8d2e48cda3ce0a3fb4a0a1d6": {
          "model_module": "@jupyter-widgets/base",
          "model_name": "LayoutModel",
          "model_module_version": "1.2.0",
          "state": {
            "_model_module": "@jupyter-widgets/base",
            "_model_module_version": "1.2.0",
            "_model_name": "LayoutModel",
            "_view_count": null,
            "_view_module": "@jupyter-widgets/base",
            "_view_module_version": "1.2.0",
            "_view_name": "LayoutView",
            "align_content": null,
            "align_items": null,
            "align_self": null,
            "border": null,
            "bottom": null,
            "display": null,
            "flex": null,
            "flex_flow": null,
            "grid_area": null,
            "grid_auto_columns": null,
            "grid_auto_flow": null,
            "grid_auto_rows": null,
            "grid_column": null,
            "grid_gap": null,
            "grid_row": null,
            "grid_template_areas": null,
            "grid_template_columns": null,
            "grid_template_rows": null,
            "height": null,
            "justify_content": null,
            "justify_items": null,
            "left": null,
            "margin": null,
            "max_height": null,
            "max_width": null,
            "min_height": null,
            "min_width": null,
            "object_fit": null,
            "object_position": null,
            "order": null,
            "overflow": null,
            "overflow_x": null,
            "overflow_y": null,
            "padding": null,
            "right": null,
            "top": null,
            "visibility": null,
            "width": null
          }
        },
        "a42025c11b3b4feb8278c89e156edd90": {
          "model_module": "@jupyter-widgets/controls",
          "model_name": "DescriptionStyleModel",
          "model_module_version": "1.5.0",
          "state": {
            "_model_module": "@jupyter-widgets/controls",
            "_model_module_version": "1.5.0",
            "_model_name": "DescriptionStyleModel",
            "_view_count": null,
            "_view_module": "@jupyter-widgets/base",
            "_view_module_version": "1.2.0",
            "_view_name": "StyleView",
            "description_width": ""
          }
        },
        "4a862d41dff84490925acdd160501fd5": {
          "model_module": "@jupyter-widgets/base",
          "model_name": "LayoutModel",
          "model_module_version": "1.2.0",
          "state": {
            "_model_module": "@jupyter-widgets/base",
            "_model_module_version": "1.2.0",
            "_model_name": "LayoutModel",
            "_view_count": null,
            "_view_module": "@jupyter-widgets/base",
            "_view_module_version": "1.2.0",
            "_view_name": "LayoutView",
            "align_content": null,
            "align_items": null,
            "align_self": null,
            "border": null,
            "bottom": null,
            "display": null,
            "flex": null,
            "flex_flow": null,
            "grid_area": null,
            "grid_auto_columns": null,
            "grid_auto_flow": null,
            "grid_auto_rows": null,
            "grid_column": null,
            "grid_gap": null,
            "grid_row": null,
            "grid_template_areas": null,
            "grid_template_columns": null,
            "grid_template_rows": null,
            "height": null,
            "justify_content": null,
            "justify_items": null,
            "left": null,
            "margin": null,
            "max_height": null,
            "max_width": null,
            "min_height": null,
            "min_width": null,
            "object_fit": null,
            "object_position": null,
            "order": null,
            "overflow": null,
            "overflow_x": null,
            "overflow_y": null,
            "padding": null,
            "right": null,
            "top": null,
            "visibility": null,
            "width": null
          }
        },
        "ded7f8c6b5a44e488b5a69c34a0ca583": {
          "model_module": "@jupyter-widgets/controls",
          "model_name": "ProgressStyleModel",
          "model_module_version": "1.5.0",
          "state": {
            "_model_module": "@jupyter-widgets/controls",
            "_model_module_version": "1.5.0",
            "_model_name": "ProgressStyleModel",
            "_view_count": null,
            "_view_module": "@jupyter-widgets/base",
            "_view_module_version": "1.2.0",
            "_view_name": "StyleView",
            "bar_color": null,
            "description_width": ""
          }
        },
        "f3ded04cbd4448de9151f7e6563643de": {
          "model_module": "@jupyter-widgets/base",
          "model_name": "LayoutModel",
          "model_module_version": "1.2.0",
          "state": {
            "_model_module": "@jupyter-widgets/base",
            "_model_module_version": "1.2.0",
            "_model_name": "LayoutModel",
            "_view_count": null,
            "_view_module": "@jupyter-widgets/base",
            "_view_module_version": "1.2.0",
            "_view_name": "LayoutView",
            "align_content": null,
            "align_items": null,
            "align_self": null,
            "border": null,
            "bottom": null,
            "display": null,
            "flex": null,
            "flex_flow": null,
            "grid_area": null,
            "grid_auto_columns": null,
            "grid_auto_flow": null,
            "grid_auto_rows": null,
            "grid_column": null,
            "grid_gap": null,
            "grid_row": null,
            "grid_template_areas": null,
            "grid_template_columns": null,
            "grid_template_rows": null,
            "height": null,
            "justify_content": null,
            "justify_items": null,
            "left": null,
            "margin": null,
            "max_height": null,
            "max_width": null,
            "min_height": null,
            "min_width": null,
            "object_fit": null,
            "object_position": null,
            "order": null,
            "overflow": null,
            "overflow_x": null,
            "overflow_y": null,
            "padding": null,
            "right": null,
            "top": null,
            "visibility": null,
            "width": null
          }
        },
        "f01fc580544e4bc2af0d636a0818cbaa": {
          "model_module": "@jupyter-widgets/controls",
          "model_name": "DescriptionStyleModel",
          "model_module_version": "1.5.0",
          "state": {
            "_model_module": "@jupyter-widgets/controls",
            "_model_module_version": "1.5.0",
            "_model_name": "DescriptionStyleModel",
            "_view_count": null,
            "_view_module": "@jupyter-widgets/base",
            "_view_module_version": "1.2.0",
            "_view_name": "StyleView",
            "description_width": ""
          }
        }
      }
    }
  },
  "cells": [
    {
      "cell_type": "code",
      "source": [
        "!pip install transformers\n",
        "!pip install emoji\n",
        "!pip install contractions\n",
        "!pip install datasets"
      ],
      "metadata": {
        "colab": {
          "base_uri": "https://localhost:8080/"
        },
        "id": "kqOJs9V2vAfd",
        "outputId": "805ff2d6-1a44-4503-ff04-84183b1f5b3f"
      },
      "execution_count": null,
      "outputs": [
        {
          "output_type": "stream",
          "name": "stdout",
          "text": [
            "Requirement already satisfied: transformers in /usr/local/lib/python3.11/dist-packages (4.50.2)\n",
            "Requirement already satisfied: filelock in /usr/local/lib/python3.11/dist-packages (from transformers) (3.18.0)\n",
            "Requirement already satisfied: huggingface-hub<1.0,>=0.26.0 in /usr/local/lib/python3.11/dist-packages (from transformers) (0.29.3)\n",
            "Requirement already satisfied: numpy>=1.17 in /usr/local/lib/python3.11/dist-packages (from transformers) (2.0.2)\n",
            "Requirement already satisfied: packaging>=20.0 in /usr/local/lib/python3.11/dist-packages (from transformers) (24.2)\n",
            "Requirement already satisfied: pyyaml>=5.1 in /usr/local/lib/python3.11/dist-packages (from transformers) (6.0.2)\n",
            "Requirement already satisfied: regex!=2019.12.17 in /usr/local/lib/python3.11/dist-packages (from transformers) (2024.11.6)\n",
            "Requirement already satisfied: requests in /usr/local/lib/python3.11/dist-packages (from transformers) (2.32.3)\n",
            "Requirement already satisfied: tokenizers<0.22,>=0.21 in /usr/local/lib/python3.11/dist-packages (from transformers) (0.21.1)\n",
            "Requirement already satisfied: safetensors>=0.4.3 in /usr/local/lib/python3.11/dist-packages (from transformers) (0.5.3)\n",
            "Requirement already satisfied: tqdm>=4.27 in /usr/local/lib/python3.11/dist-packages (from transformers) (4.67.1)\n",
            "Requirement already satisfied: fsspec>=2023.5.0 in /usr/local/lib/python3.11/dist-packages (from huggingface-hub<1.0,>=0.26.0->transformers) (2025.3.0)\n",
            "Requirement already satisfied: typing-extensions>=3.7.4.3 in /usr/local/lib/python3.11/dist-packages (from huggingface-hub<1.0,>=0.26.0->transformers) (4.13.0)\n",
            "Requirement already satisfied: charset-normalizer<4,>=2 in /usr/local/lib/python3.11/dist-packages (from requests->transformers) (3.4.1)\n",
            "Requirement already satisfied: idna<4,>=2.5 in /usr/local/lib/python3.11/dist-packages (from requests->transformers) (3.10)\n",
            "Requirement already satisfied: urllib3<3,>=1.21.1 in /usr/local/lib/python3.11/dist-packages (from requests->transformers) (2.3.0)\n",
            "Requirement already satisfied: certifi>=2017.4.17 in /usr/local/lib/python3.11/dist-packages (from requests->transformers) (2025.1.31)\n",
            "Collecting emoji\n",
            "  Downloading emoji-2.14.1-py3-none-any.whl.metadata (5.7 kB)\n",
            "Downloading emoji-2.14.1-py3-none-any.whl (590 kB)\n",
            "\u001b[2K   \u001b[90m━━━━━━━━━━━━━━━━━━━━━━━━━━━━━━━━━━━━━━━━\u001b[0m \u001b[32m590.6/590.6 kB\u001b[0m \u001b[31m39.6 MB/s\u001b[0m eta \u001b[36m0:00:00\u001b[0m\n",
            "\u001b[?25hInstalling collected packages: emoji\n",
            "Successfully installed emoji-2.14.1\n",
            "Collecting contractions\n",
            "  Downloading contractions-0.1.73-py2.py3-none-any.whl.metadata (1.2 kB)\n",
            "Collecting textsearch>=0.0.21 (from contractions)\n",
            "  Downloading textsearch-0.0.24-py2.py3-none-any.whl.metadata (1.2 kB)\n",
            "Collecting anyascii (from textsearch>=0.0.21->contractions)\n",
            "  Downloading anyascii-0.3.2-py3-none-any.whl.metadata (1.5 kB)\n",
            "Collecting pyahocorasick (from textsearch>=0.0.21->contractions)\n",
            "  Downloading pyahocorasick-2.1.0-cp311-cp311-manylinux_2_17_x86_64.manylinux2014_x86_64.whl.metadata (13 kB)\n",
            "Downloading contractions-0.1.73-py2.py3-none-any.whl (8.7 kB)\n",
            "Downloading textsearch-0.0.24-py2.py3-none-any.whl (7.6 kB)\n",
            "Downloading anyascii-0.3.2-py3-none-any.whl (289 kB)\n",
            "\u001b[2K   \u001b[90m━━━━━━━━━━━━━━━━━━━━━━━━━━━━━━━━━━━━━━━━\u001b[0m \u001b[32m289.9/289.9 kB\u001b[0m \u001b[31m27.4 MB/s\u001b[0m eta \u001b[36m0:00:00\u001b[0m\n",
            "\u001b[?25hDownloading pyahocorasick-2.1.0-cp311-cp311-manylinux_2_17_x86_64.manylinux2014_x86_64.whl (118 kB)\n",
            "\u001b[2K   \u001b[90m━━━━━━━━━━━━━━━━━━━━━━━━━━━━━━━━━━━━━━━━\u001b[0m \u001b[32m118.3/118.3 kB\u001b[0m \u001b[31m12.4 MB/s\u001b[0m eta \u001b[36m0:00:00\u001b[0m\n",
            "\u001b[?25hInstalling collected packages: pyahocorasick, anyascii, textsearch, contractions\n",
            "Successfully installed anyascii-0.3.2 contractions-0.1.73 pyahocorasick-2.1.0 textsearch-0.0.24\n",
            "Collecting datasets\n",
            "  Downloading datasets-3.5.0-py3-none-any.whl.metadata (19 kB)\n",
            "Requirement already satisfied: filelock in /usr/local/lib/python3.11/dist-packages (from datasets) (3.18.0)\n",
            "Requirement already satisfied: numpy>=1.17 in /usr/local/lib/python3.11/dist-packages (from datasets) (2.0.2)\n",
            "Requirement already satisfied: pyarrow>=15.0.0 in /usr/local/lib/python3.11/dist-packages (from datasets) (18.1.0)\n",
            "Collecting dill<0.3.9,>=0.3.0 (from datasets)\n",
            "  Downloading dill-0.3.8-py3-none-any.whl.metadata (10 kB)\n",
            "Requirement already satisfied: pandas in /usr/local/lib/python3.11/dist-packages (from datasets) (2.2.2)\n",
            "Requirement already satisfied: requests>=2.32.2 in /usr/local/lib/python3.11/dist-packages (from datasets) (2.32.3)\n",
            "Requirement already satisfied: tqdm>=4.66.3 in /usr/local/lib/python3.11/dist-packages (from datasets) (4.67.1)\n",
            "Collecting xxhash (from datasets)\n",
            "  Downloading xxhash-3.5.0-cp311-cp311-manylinux_2_17_x86_64.manylinux2014_x86_64.whl.metadata (12 kB)\n",
            "Collecting multiprocess<0.70.17 (from datasets)\n",
            "  Downloading multiprocess-0.70.16-py311-none-any.whl.metadata (7.2 kB)\n",
            "Collecting fsspec<=2024.12.0,>=2023.1.0 (from fsspec[http]<=2024.12.0,>=2023.1.0->datasets)\n",
            "  Downloading fsspec-2024.12.0-py3-none-any.whl.metadata (11 kB)\n",
            "Requirement already satisfied: aiohttp in /usr/local/lib/python3.11/dist-packages (from datasets) (3.11.14)\n",
            "Requirement already satisfied: huggingface-hub>=0.24.0 in /usr/local/lib/python3.11/dist-packages (from datasets) (0.29.3)\n",
            "Requirement already satisfied: packaging in /usr/local/lib/python3.11/dist-packages (from datasets) (24.2)\n",
            "Requirement already satisfied: pyyaml>=5.1 in /usr/local/lib/python3.11/dist-packages (from datasets) (6.0.2)\n",
            "Requirement already satisfied: aiohappyeyeballs>=2.3.0 in /usr/local/lib/python3.11/dist-packages (from aiohttp->datasets) (2.6.1)\n",
            "Requirement already satisfied: aiosignal>=1.1.2 in /usr/local/lib/python3.11/dist-packages (from aiohttp->datasets) (1.3.2)\n",
            "Requirement already satisfied: attrs>=17.3.0 in /usr/local/lib/python3.11/dist-packages (from aiohttp->datasets) (25.3.0)\n",
            "Requirement already satisfied: frozenlist>=1.1.1 in /usr/local/lib/python3.11/dist-packages (from aiohttp->datasets) (1.5.0)\n",
            "Requirement already satisfied: multidict<7.0,>=4.5 in /usr/local/lib/python3.11/dist-packages (from aiohttp->datasets) (6.2.0)\n",
            "Requirement already satisfied: propcache>=0.2.0 in /usr/local/lib/python3.11/dist-packages (from aiohttp->datasets) (0.3.1)\n",
            "Requirement already satisfied: yarl<2.0,>=1.17.0 in /usr/local/lib/python3.11/dist-packages (from aiohttp->datasets) (1.18.3)\n",
            "Requirement already satisfied: typing-extensions>=3.7.4.3 in /usr/local/lib/python3.11/dist-packages (from huggingface-hub>=0.24.0->datasets) (4.13.0)\n",
            "Requirement already satisfied: charset-normalizer<4,>=2 in /usr/local/lib/python3.11/dist-packages (from requests>=2.32.2->datasets) (3.4.1)\n",
            "Requirement already satisfied: idna<4,>=2.5 in /usr/local/lib/python3.11/dist-packages (from requests>=2.32.2->datasets) (3.10)\n",
            "Requirement already satisfied: urllib3<3,>=1.21.1 in /usr/local/lib/python3.11/dist-packages (from requests>=2.32.2->datasets) (2.3.0)\n",
            "Requirement already satisfied: certifi>=2017.4.17 in /usr/local/lib/python3.11/dist-packages (from requests>=2.32.2->datasets) (2025.1.31)\n",
            "Requirement already satisfied: python-dateutil>=2.8.2 in /usr/local/lib/python3.11/dist-packages (from pandas->datasets) (2.8.2)\n",
            "Requirement already satisfied: pytz>=2020.1 in /usr/local/lib/python3.11/dist-packages (from pandas->datasets) (2025.2)\n",
            "Requirement already satisfied: tzdata>=2022.7 in /usr/local/lib/python3.11/dist-packages (from pandas->datasets) (2025.2)\n",
            "Requirement already satisfied: six>=1.5 in /usr/local/lib/python3.11/dist-packages (from python-dateutil>=2.8.2->pandas->datasets) (1.17.0)\n",
            "Downloading datasets-3.5.0-py3-none-any.whl (491 kB)\n",
            "\u001b[2K   \u001b[90m━━━━━━━━━━━━━━━━━━━━━━━━━━━━━━━━━━━━━━━━\u001b[0m \u001b[32m491.2/491.2 kB\u001b[0m \u001b[31m36.7 MB/s\u001b[0m eta \u001b[36m0:00:00\u001b[0m\n",
            "\u001b[?25hDownloading dill-0.3.8-py3-none-any.whl (116 kB)\n",
            "\u001b[2K   \u001b[90m━━━━━━━━━━━━━━━━━━━━━━━━━━━━━━━━━━━━━━━━\u001b[0m \u001b[32m116.3/116.3 kB\u001b[0m \u001b[31m13.0 MB/s\u001b[0m eta \u001b[36m0:00:00\u001b[0m\n",
            "\u001b[?25hDownloading fsspec-2024.12.0-py3-none-any.whl (183 kB)\n",
            "\u001b[2K   \u001b[90m━━━━━━━━━━━━━━━━━━━━━━━━━━━━━━━━━━━━━━━━\u001b[0m \u001b[32m183.9/183.9 kB\u001b[0m \u001b[31m19.4 MB/s\u001b[0m eta \u001b[36m0:00:00\u001b[0m\n",
            "\u001b[?25hDownloading multiprocess-0.70.16-py311-none-any.whl (143 kB)\n",
            "\u001b[2K   \u001b[90m━━━━━━━━━━━━━━━━━━━━━━━━━━━━━━━━━━━━━━━━\u001b[0m \u001b[32m143.5/143.5 kB\u001b[0m \u001b[31m16.8 MB/s\u001b[0m eta \u001b[36m0:00:00\u001b[0m\n",
            "\u001b[?25hDownloading xxhash-3.5.0-cp311-cp311-manylinux_2_17_x86_64.manylinux2014_x86_64.whl (194 kB)\n",
            "\u001b[2K   \u001b[90m━━━━━━━━━━━━━━━━━━━━━━━━━━━━━━━━━━━━━━━━\u001b[0m \u001b[32m194.8/194.8 kB\u001b[0m \u001b[31m20.6 MB/s\u001b[0m eta \u001b[36m0:00:00\u001b[0m\n",
            "\u001b[?25hInstalling collected packages: xxhash, fsspec, dill, multiprocess, datasets\n",
            "  Attempting uninstall: fsspec\n",
            "    Found existing installation: fsspec 2025.3.0\n",
            "    Uninstalling fsspec-2025.3.0:\n",
            "      Successfully uninstalled fsspec-2025.3.0\n",
            "\u001b[31mERROR: pip's dependency resolver does not currently take into account all the packages that are installed. This behaviour is the source of the following dependency conflicts.\n",
            "torch 2.6.0+cu124 requires nvidia-cublas-cu12==12.4.5.8; platform_system == \"Linux\" and platform_machine == \"x86_64\", but you have nvidia-cublas-cu12 12.5.3.2 which is incompatible.\n",
            "torch 2.6.0+cu124 requires nvidia-cuda-cupti-cu12==12.4.127; platform_system == \"Linux\" and platform_machine == \"x86_64\", but you have nvidia-cuda-cupti-cu12 12.5.82 which is incompatible.\n",
            "torch 2.6.0+cu124 requires nvidia-cuda-nvrtc-cu12==12.4.127; platform_system == \"Linux\" and platform_machine == \"x86_64\", but you have nvidia-cuda-nvrtc-cu12 12.5.82 which is incompatible.\n",
            "torch 2.6.0+cu124 requires nvidia-cuda-runtime-cu12==12.4.127; platform_system == \"Linux\" and platform_machine == \"x86_64\", but you have nvidia-cuda-runtime-cu12 12.5.82 which is incompatible.\n",
            "torch 2.6.0+cu124 requires nvidia-cudnn-cu12==9.1.0.70; platform_system == \"Linux\" and platform_machine == \"x86_64\", but you have nvidia-cudnn-cu12 9.3.0.75 which is incompatible.\n",
            "torch 2.6.0+cu124 requires nvidia-cufft-cu12==11.2.1.3; platform_system == \"Linux\" and platform_machine == \"x86_64\", but you have nvidia-cufft-cu12 11.2.3.61 which is incompatible.\n",
            "torch 2.6.0+cu124 requires nvidia-curand-cu12==10.3.5.147; platform_system == \"Linux\" and platform_machine == \"x86_64\", but you have nvidia-curand-cu12 10.3.6.82 which is incompatible.\n",
            "torch 2.6.0+cu124 requires nvidia-cusolver-cu12==11.6.1.9; platform_system == \"Linux\" and platform_machine == \"x86_64\", but you have nvidia-cusolver-cu12 11.6.3.83 which is incompatible.\n",
            "torch 2.6.0+cu124 requires nvidia-cusparse-cu12==12.3.1.170; platform_system == \"Linux\" and platform_machine == \"x86_64\", but you have nvidia-cusparse-cu12 12.5.1.3 which is incompatible.\n",
            "torch 2.6.0+cu124 requires nvidia-nvjitlink-cu12==12.4.127; platform_system == \"Linux\" and platform_machine == \"x86_64\", but you have nvidia-nvjitlink-cu12 12.5.82 which is incompatible.\n",
            "gcsfs 2025.3.0 requires fsspec==2025.3.0, but you have fsspec 2024.12.0 which is incompatible.\u001b[0m\u001b[31m\n",
            "\u001b[0mSuccessfully installed datasets-3.5.0 dill-0.3.8 fsspec-2024.12.0 multiprocess-0.70.16 xxhash-3.5.0\n"
          ]
        }
      ]
    },
    {
      "cell_type": "code",
      "source": [
        "from google.colab import drive\n",
        "drive.mount('/content/drive')"
      ],
      "metadata": {
        "colab": {
          "base_uri": "https://localhost:8080/"
        },
        "id": "xmRxDKR-H0Wj",
        "outputId": "5abaae0f-5516-40f1-bdf1-e19557ef2553"
      },
      "execution_count": 4,
      "outputs": [
        {
          "output_type": "stream",
          "name": "stdout",
          "text": [
            "Drive already mounted at /content/drive; to attempt to forcibly remount, call drive.mount(\"/content/drive\", force_remount=True).\n"
          ]
        }
      ]
    },
    {
      "cell_type": "code",
      "execution_count": 5,
      "metadata": {
        "id": "xWZQcUxGcrM-"
      },
      "outputs": [],
      "source": [
        "import torch\n",
        "import numpy as np\n",
        "dir = '/content/drive/My Drive/1513-project/'"
      ]
    },
    {
      "cell_type": "markdown",
      "source": [
        "#Preprocess Dataset Used For Fine-tuning"
      ],
      "metadata": {
        "id": "7xpURKDJXIKL"
      }
    },
    {
      "cell_type": "code",
      "source": [
        "# Preprocess the data to be used for fine-tuning\n",
        "import pandas as pd\n",
        "headers = ['target', 'ids', 'date', 'flag', 'user', 'text']\n",
        "df = pd.read_csv(dir + 'labeled_tweets.csv', encoding='ISO-8859-1', header=None, names=headers)\n",
        "print(df.head())"
      ],
      "metadata": {
        "colab": {
          "base_uri": "https://localhost:8080/"
        },
        "id": "clVHeZvzqfiK",
        "outputId": "af9d9de2-4b2a-4aae-d0ff-c3e902d9f528"
      },
      "execution_count": null,
      "outputs": [
        {
          "output_type": "stream",
          "name": "stdout",
          "text": [
            "   target         ids                          date      flag  \\\n",
            "0       0  1467810369  Mon Apr 06 22:19:45 PDT 2009  NO_QUERY   \n",
            "1       0  1467810672  Mon Apr 06 22:19:49 PDT 2009  NO_QUERY   \n",
            "2       0  1467810917  Mon Apr 06 22:19:53 PDT 2009  NO_QUERY   \n",
            "3       0  1467811184  Mon Apr 06 22:19:57 PDT 2009  NO_QUERY   \n",
            "4       0  1467811193  Mon Apr 06 22:19:57 PDT 2009  NO_QUERY   \n",
            "\n",
            "              user                                               text  \n",
            "0  _TheSpecialOne_  @switchfoot http://twitpic.com/2y1zl - Awww, t...  \n",
            "1    scotthamilton  is upset that he can't update his Facebook by ...  \n",
            "2         mattycus  @Kenichan I dived many times for the ball. Man...  \n",
            "3          ElleCTF    my whole body feels itchy and like its on fire   \n",
            "4           Karoli  @nationwideclass no, it's not behaving at all....  \n"
          ]
        }
      ]
    },
    {
      "cell_type": "code",
      "source": [
        "import pandas as pd\n",
        "headers = ['tweet', 'language']\n",
        "df = pd.read_csv(dir + 'us_election-edit.csv', encoding='ISO-8859-1', usecols=headers, lineterminator='\\n')\n",
        "df = df[df['language'] == 'en']\n",
        "df = df.rename(columns={'tweet': 'text'})\n",
        "print(df.head())"
      ],
      "metadata": {
        "colab": {
          "base_uri": "https://localhost:8080/"
        },
        "id": "CQuj4F6N0vk0",
        "outputId": "b288b3f2-a28a-4546-b95c-f9e402488d56"
      },
      "execution_count": null,
      "outputs": [
        {
          "output_type": "stream",
          "name": "stdout",
          "text": [
            "                                                text language\n",
            "0  Hi if you want Americans to infuriate you in t...       en\n",
            "1  @armstrongcbc No surprise. It's going to be a ...       en\n",
            "2  I canât wait till after the US election so I...       en\n",
            "3  America as a foreign country, by foreign corre...       en\n",
            "4  Wow. I guess if you want actual journalism and...       en\n"
          ]
        }
      ]
    },
    {
      "cell_type": "code",
      "source": [
        "import emoji\n",
        "import re\n",
        "import contractions\n",
        "def preprocess_data_cleaning(df):\n",
        "  # First we lower case the data\n",
        "  df['text_cleaned'] = df['text'].apply(lambda x: x.lower())\n",
        "  df['text_cleaned'] = df['text_cleaned'].str.replace(r'(http\\S+|www\\.\\S+)', '', regex=True) # Remove url\n",
        "  df['text_cleaned'] = df['text_cleaned'].str.replace(r'<.*?>', '', regex=True) # remove html tags\n",
        "  df['text_cleaned'] = df['text_cleaned'].apply(lambda x: emoji.demojize(x)) # remove emojis\n",
        "  df['text_cleaned'] = df['text_cleaned'].str.replace(r'[^a-zA-Z0-9\\s]', '', regex=True) # remove special characters\n",
        "  df['text_cleaned'] = df['text_cleaned'].apply(lambda x: contractions.fix(x)) # Fix contractions\n",
        "\n",
        "  return df\n",
        "\n",
        "def rename_label(df):\n",
        "  label_map = {0:0, 2:1, 4:2}\n",
        "  df['target'] = df['target'].map(label_map)\n",
        "  df = df.rename(columns={'target': 'label'})\n",
        "\n",
        "  return df"
      ],
      "metadata": {
        "id": "6A0CRota2Ret"
      },
      "execution_count": null,
      "outputs": []
    },
    {
      "cell_type": "code",
      "source": [
        "import pandas as pd\n",
        "# df = preprocess_data_cleaning(df)\n",
        "# df = rename_label(df)\n",
        "# print(df.head())\n",
        "df = preprocess_data_cleaning(df)\n",
        "\n",
        "print(df.head())"
      ],
      "metadata": {
        "colab": {
          "base_uri": "https://localhost:8080/"
        },
        "id": "JxN3-GS_28V7",
        "outputId": "2088ec98-4a52-45a4-97f4-a95e3d906e62"
      },
      "execution_count": null,
      "outputs": [
        {
          "output_type": "stream",
          "name": "stdout",
          "text": [
            "                                                text language  \\\n",
            "0  Hi if you want Americans to infuriate you in t...       en   \n",
            "1  @armstrongcbc No surprise. It's going to be a ...       en   \n",
            "2  I canât wait till after the US election so I...       en   \n",
            "3  America as a foreign country, by foreign corre...       en   \n",
            "4  Wow. I guess if you want actual journalism and...       en   \n",
            "\n",
            "                                        text_cleaned  \n",
            "0  hi if you want americans to infuriate you in t...  \n",
            "1  armstrongcbc no surprise its going to be a vol...  \n",
            "2  i cannot wait till after the us election so i ...  \n",
            "3  america as a foreign country by foreign corres...  \n",
            "4  wow i guess if you want actual journalism and ...  \n"
          ]
        }
      ]
    },
    {
      "cell_type": "markdown",
      "source": [
        "# Pseudo Label and Tokenize Dataset"
      ],
      "metadata": {
        "id": "5MBiyqUwXXpk"
      }
    },
    {
      "cell_type": "code",
      "source": [
        "from datasets import Dataset\n",
        "\n",
        "# Load the pd frame into dataset to allow for batch processing\n",
        "dataset = Dataset.from_pandas(df)\n",
        "# dataset = dataset.remove_columns(['ids', 'date', 'flag', 'user', 'text'])\n",
        "dataset = dataset.remove_columns(['text', 'language'])\n",
        "print(dataset[0:5])"
      ],
      "metadata": {
        "colab": {
          "base_uri": "https://localhost:8080/"
        },
        "id": "d-Msh9bHBIa8",
        "outputId": "291ebc9c-b94e-49d0-f0d5-8f9912e29f0a"
      },
      "execution_count": null,
      "outputs": [
        {
          "output_type": "stream",
          "name": "stdout",
          "text": [
            "{'text_cleaned': ['hi if you want americans to infuriate you in the comments not realise the whole world does not vote in the us election and not know that ireland is not in britain this is the thread for you', 'armstrongcbc no surprise its going to be a volatile few weeks in the market what with the uselection and a lot more earnings results to come', 'i cannot wait till after the us election so i can make fun of the trump supporters and remind trump every day that he is a loser', 'america as a foreign country by foreign correspondents covering the us election  ', 'wow i guess if you want actual journalism and real coverage of the us election going to have to start watching skynewsaust whoever says the media in the us is not biased is just trying to be blind to the facts at this point   '], '__index_level_0__': [0, 1, 2, 3, 4]}\n"
          ]
        }
      ]
    },
    {
      "cell_type": "code",
      "source": [
        "from textblob import TextBlob\n",
        "\n",
        "def get_pseudo_label(data):\n",
        "    # Compute sentiment polarity to use as label\n",
        "    polarity = TextBlob(data['text_cleaned']).sentiment.polarity\n",
        "    # Define thresholds to assign a label:\n",
        "    # For instance, label 2 for positive, 0 for negative, and 1 for neutral\n",
        "    if polarity > 0.1:\n",
        "        label = 2\n",
        "    elif polarity < -0.1:\n",
        "        label = 0\n",
        "    else:\n",
        "        label = 1\n",
        "    return {\"label\": label}\n",
        "\n",
        "# Apply the function to add a new column with pseudo-labels\n",
        "dataset = dataset.map(get_pseudo_label)\n",
        "print(dataset[0:5])"
      ],
      "metadata": {
        "colab": {
          "base_uri": "https://localhost:8080/",
          "height": 86,
          "referenced_widgets": [
            "4e7eee87a610470a9ace8cb2793e39f8",
            "6247796c8708400aa4c2e27d02081442",
            "40b73d01a910484db38da12a93b7a358",
            "739214a3e80e44a99158191e36bf3590",
            "1183ca134b1b4687ad948e6d03313c19",
            "d805259b61b6454ba73a8576959f47c8",
            "267884298c5441698d1446d81f0ddf53",
            "09a2269a926541e0962f4f69841a1ae8",
            "6a8c1dbc972d4060b5c89e208be78e62",
            "c25794dd501343278281dc16637b0814",
            "e8265eb1b37a4260800f1881900c5df6"
          ]
        },
        "id": "dhu7ya7H3PyI",
        "outputId": "f2641c49-f3b3-4766-f035-f08d6768cc9a"
      },
      "execution_count": null,
      "outputs": [
        {
          "output_type": "display_data",
          "data": {
            "text/plain": [
              "Map:   0%|          | 0/124586 [00:00<?, ? examples/s]"
            ],
            "application/vnd.jupyter.widget-view+json": {
              "version_major": 2,
              "version_minor": 0,
              "model_id": "4e7eee87a610470a9ace8cb2793e39f8"
            }
          },
          "metadata": {}
        },
        {
          "output_type": "stream",
          "name": "stdout",
          "text": [
            "{'text_cleaned': ['hi if you want americans to infuriate you in the comments not realise the whole world does not vote in the us election and not know that ireland is not in britain this is the thread for you', 'armstrongcbc no surprise its going to be a volatile few weeks in the market what with the uselection and a lot more earnings results to come', 'i cannot wait till after the us election so i can make fun of the trump supporters and remind trump every day that he is a loser', 'america as a foreign country by foreign correspondents covering the us election  ', 'wow i guess if you want actual journalism and real coverage of the us election going to have to start watching skynewsaust whoever says the media in the us is not biased is just trying to be blind to the facts at this point   '], '__index_level_0__': [0, 1, 2, 3, 4], 'label': [2, 2, 2, 0, 1]}\n"
          ]
        }
      ]
    },
    {
      "cell_type": "code",
      "source": [
        "from transformers import AutoTokenizer\n",
        "\n",
        "# Load the BERTweet tokenizer\n",
        "tokenizer = AutoTokenizer.from_pretrained('vinai/bertweet-base', use_fast=False)\n",
        "\n",
        "# Function to tokenize the text in batches\n",
        "def tokenize(text_batch, tokenizer):\n",
        "  return tokenizer(\n",
        "    text_batch['text_cleaned'],\n",
        "    truncation=True,\n",
        "    padding='max_length',\n",
        "    max_length=128,\n",
        "    return_tensors=\"pt\"\n",
        "  )"
      ],
      "metadata": {
        "id": "PKeXlNUlAB6Z"
      },
      "execution_count": null,
      "outputs": []
    },
    {
      "cell_type": "code",
      "source": [
        "# Tokenize the cleaned text data in batches\n",
        "tokenized_dataset = dataset.map(lambda x: tokenize(x, tokenizer), batched=True)\n",
        "tokenized_dataset.set_format('torch', columns=['input_ids', 'attention_mask', 'label'])\n",
        "print(tokenized_dataset[0])"
      ],
      "metadata": {
        "colab": {
          "base_uri": "https://localhost:8080/",
          "height": 361,
          "referenced_widgets": [
            "f7839c671d2c4e3a83b43d1eec03dd78",
            "c112b62db27b4d15bb25c53da1720cdb",
            "45bf456f608f4a4192d94d4bfaa195d1",
            "7ce6ee4b656b4944adc4d43a65ee27c2",
            "d9a7626e80ab4976a43c5e4fc373adb3",
            "8b59117804594cd9ac46cfbaa0e21467",
            "5cb0c3b0220b439ca3d7329b48042634",
            "71a3abb504f1432a92dbe376b6a1a772",
            "25b39a3d8b5f46f99149b6618dd47760",
            "100fa14c8f8345a3968548fb428a1782",
            "4817122ac2774b3bab9e085908f43e74"
          ]
        },
        "id": "FxB2_HaSC-zv",
        "outputId": "511a071c-5185-4504-d62f-843641006c4e"
      },
      "execution_count": null,
      "outputs": [
        {
          "output_type": "display_data",
          "data": {
            "text/plain": [
              "Map:   0%|          | 0/124586 [00:00<?, ? examples/s]"
            ],
            "application/vnd.jupyter.widget-view+json": {
              "version_major": 2,
              "version_minor": 0,
              "model_id": "f7839c671d2c4e3a83b43d1eec03dd78"
            }
          },
          "metadata": {}
        },
        {
          "output_type": "stream",
          "name": "stdout",
          "text": [
            "{'label': tensor(2), 'input_ids': tensor([    0,   860,    65,    14,    96, 29849,     9, 53962,   760,    14,\n",
            "           16,     6,  2532,    46,  4614,     6,   434,   220,   158,    46,\n",
            "          759,    16,     6,   148,  1843,    13,    46,    68,    25, 35183,\n",
            "           17,    46,    16, 50867,    33,    17,     6,  3966,    19,    14,\n",
            "            2,     1,     1,     1,     1,     1,     1,     1,     1,     1,\n",
            "            1,     1,     1,     1,     1,     1,     1,     1,     1,     1,\n",
            "            1,     1,     1,     1,     1,     1,     1,     1,     1,     1,\n",
            "            1,     1,     1,     1,     1,     1,     1,     1,     1,     1,\n",
            "            1,     1,     1,     1,     1,     1,     1,     1,     1,     1,\n",
            "            1,     1,     1,     1,     1,     1,     1,     1,     1,     1,\n",
            "            1,     1,     1,     1,     1,     1,     1,     1,     1,     1,\n",
            "            1,     1,     1,     1,     1,     1,     1,     1,     1,     1,\n",
            "            1,     1,     1,     1,     1,     1,     1,     1]), 'attention_mask': tensor([1, 1, 1, 1, 1, 1, 1, 1, 1, 1, 1, 1, 1, 1, 1, 1, 1, 1, 1, 1, 1, 1, 1, 1,\n",
            "        1, 1, 1, 1, 1, 1, 1, 1, 1, 1, 1, 1, 1, 1, 1, 1, 1, 0, 0, 0, 0, 0, 0, 0,\n",
            "        0, 0, 0, 0, 0, 0, 0, 0, 0, 0, 0, 0, 0, 0, 0, 0, 0, 0, 0, 0, 0, 0, 0, 0,\n",
            "        0, 0, 0, 0, 0, 0, 0, 0, 0, 0, 0, 0, 0, 0, 0, 0, 0, 0, 0, 0, 0, 0, 0, 0,\n",
            "        0, 0, 0, 0, 0, 0, 0, 0, 0, 0, 0, 0, 0, 0, 0, 0, 0, 0, 0, 0, 0, 0, 0, 0,\n",
            "        0, 0, 0, 0, 0, 0, 0, 0])}\n"
          ]
        }
      ]
    },
    {
      "cell_type": "code",
      "source": [
        "tokenized_dataset = tokenized_dataset.remove_columns([\"__index_level_0__\"])\n",
        "print(tokenized_dataset)"
      ],
      "metadata": {
        "colab": {
          "base_uri": "https://localhost:8080/"
        },
        "id": "lyerPNjyG_G2",
        "outputId": "61542e10-ec9f-4a07-e510-8a04399de145"
      },
      "execution_count": null,
      "outputs": [
        {
          "output_type": "stream",
          "name": "stdout",
          "text": [
            "Dataset({\n",
            "    features: ['text_cleaned', 'label', 'input_ids', 'token_type_ids', 'attention_mask'],\n",
            "    num_rows: 124586\n",
            "})\n"
          ]
        }
      ]
    },
    {
      "cell_type": "code",
      "source": [
        "subset_tokenized_dataset = tokenized_dataset.shuffle(seed=39).select(range(30000))\n",
        "print(subset_tokenized_dataset)"
      ],
      "metadata": {
        "colab": {
          "base_uri": "https://localhost:8080/"
        },
        "id": "SNV-UfACgtBD",
        "outputId": "e40c6888-1d87-41aa-eea3-442068863e2b"
      },
      "execution_count": null,
      "outputs": [
        {
          "output_type": "stream",
          "name": "stdout",
          "text": [
            "Dataset({\n",
            "    features: ['text_cleaned', 'label', 'input_ids', 'token_type_ids', 'attention_mask'],\n",
            "    num_rows: 30000\n",
            "})\n"
          ]
        }
      ]
    },
    {
      "cell_type": "markdown",
      "source": [
        "# Finetune BERTweet"
      ],
      "metadata": {
        "id": "nD-R4TDXXenK"
      }
    },
    {
      "cell_type": "code",
      "source": [
        "# Split the subset of the tokenized dataset into train and test set with a 80/20 split\n",
        "split_tokenized_dataset = subset_tokenized_dataset.train_test_split(test_size=0.2)\n",
        "train_tokenized_dataset = split_tokenized_dataset['train']\n",
        "test_tokenized_dataset = split_tokenized_dataset['test']\n",
        "# train_tokenized_dataset = tokenized_dataset['train']\n",
        "# test_tokenized_dataset = tokenized_dataset['test']\n",
        "\n",
        "print(train_tokenized_dataset)\n",
        "print(test_tokenized_dataset)\n",
        "\n",
        "print(train_tokenized_dataset.unique(\"label\"))\n",
        "print(test_tokenized_dataset.unique(\"label\"))"
      ],
      "metadata": {
        "colab": {
          "base_uri": "https://localhost:8080/",
          "height": 255,
          "referenced_widgets": [
            "f5bf0cb76a224bf7b412588c0eac4fb1",
            "979ffc09395b4a4393986b5e989ae8ed",
            "a1346f7c7f794429ae30061cef61ff98",
            "bcc31b1af86241cdba09f16aeb58439a",
            "63b8c8ff414544bc8434da909ef6c695",
            "fd87f5c7fe1343939b3866320290ffb6",
            "0175c8db5f874d258b45ddd771ebc93f",
            "842282ff85134fbf92a482555573015e",
            "e858527a84f640719eda0a5813ff366b",
            "05b34f1de3f84dc2aa0c9d2dd52f6b8b",
            "b19c65516df6475eb9a87d6258a3a71a",
            "f50c2d15a2f741ea95eea7dda49bfaa5",
            "9e6c3b6fe7a241abbaf9ecfb337abe35",
            "8e3b5dc55d4c4d44b39ff75cdc632d34",
            "466b38d32309470dafae1d415380d2ad",
            "4d9968b7989f46b29544dd80df602ce4",
            "14c74f31e73d465aa6232bee1051ba30",
            "0f04d84772244028b15e628555f2192a",
            "efef5ceed5fb41279e6b09e471320c40",
            "b19e0473105d43209a7fe51c7206d5d0",
            "98be267b6fa844b6b21db41380e598dc",
            "78afb5ed157c456c8ee2f7c7b7d06175"
          ]
        },
        "id": "gPpZXEd2Hb2p",
        "outputId": "47529412-4e3f-400d-d953-09f71291f9d7"
      },
      "execution_count": null,
      "outputs": [
        {
          "output_type": "stream",
          "name": "stdout",
          "text": [
            "Dataset({\n",
            "    features: ['text_cleaned', 'label', 'input_ids', 'token_type_ids', 'attention_mask'],\n",
            "    num_rows: 24000\n",
            "})\n",
            "Dataset({\n",
            "    features: ['text_cleaned', 'label', 'input_ids', 'token_type_ids', 'attention_mask'],\n",
            "    num_rows: 6000\n",
            "})\n"
          ]
        },
        {
          "output_type": "display_data",
          "data": {
            "text/plain": [
              "Flattening the indices:   0%|          | 0/24000 [00:00<?, ? examples/s]"
            ],
            "application/vnd.jupyter.widget-view+json": {
              "version_major": 2,
              "version_minor": 0,
              "model_id": "f5bf0cb76a224bf7b412588c0eac4fb1"
            }
          },
          "metadata": {}
        },
        {
          "output_type": "stream",
          "name": "stdout",
          "text": [
            "[1, 2, 0]\n"
          ]
        },
        {
          "output_type": "display_data",
          "data": {
            "text/plain": [
              "Flattening the indices:   0%|          | 0/6000 [00:00<?, ? examples/s]"
            ],
            "application/vnd.jupyter.widget-view+json": {
              "version_major": 2,
              "version_minor": 0,
              "model_id": "f50c2d15a2f741ea95eea7dda49bfaa5"
            }
          },
          "metadata": {}
        },
        {
          "output_type": "stream",
          "name": "stdout",
          "text": [
            "[2, 1, 0]\n"
          ]
        }
      ]
    },
    {
      "cell_type": "code",
      "source": [
        "import os\n",
        "from transformers import AutoModelForSequenceClassification\n",
        "\n",
        "# Get the pretrained model - Bertweet\n",
        "if os.path.exists(os.path.join(dir + 'bertweet3/final_model/config.json')) and os.path.exists(os.path.join(dir + 'bertweet3/final_model/model.safetensors')):\n",
        "  print('Already fine-tuned!')\n",
        "  model = AutoModelForSequenceClassification.from_pretrained(dir + 'bertweet3/final_model', num_labels=3)\n",
        "else:\n",
        "  model = AutoModelForSequenceClassification.from_pretrained('vinai/bertweet-base', num_labels=3)"
      ],
      "metadata": {
        "colab": {
          "base_uri": "https://localhost:8080/"
        },
        "id": "kOvdhxHAIbMo",
        "outputId": "b2a0ca2a-e311-461b-afc1-8e6b5ec559e4"
      },
      "execution_count": null,
      "outputs": [
        {
          "output_type": "stream",
          "name": "stderr",
          "text": [
            "Some weights of RobertaForSequenceClassification were not initialized from the model checkpoint at vinai/bertweet-base and are newly initialized: ['classifier.dense.bias', 'classifier.dense.weight', 'classifier.out_proj.bias', 'classifier.out_proj.weight']\n",
            "You should probably TRAIN this model on a down-stream task to be able to use it for predictions and inference.\n"
          ]
        }
      ]
    },
    {
      "cell_type": "code",
      "source": [
        "import os\n",
        "os.environ[\"WANDB_DISABLED\"] = \"true\""
      ],
      "metadata": {
        "id": "ITWDnsxWcTjn"
      },
      "execution_count": null,
      "outputs": []
    },
    {
      "cell_type": "code",
      "source": [
        "# Define a metric to use during fine-tuning\n",
        "def compute_metrics(eval_pred):\n",
        "    logits, labels = eval_pred\n",
        "    predictions = np.argmax(logits, axis=-1)\n",
        "    return {\n",
        "        'accuracy': accuracy_score(labels, predictions),\n",
        "        'f1': f1_score(labels, predictions, average='weighted')\n",
        "    }"
      ],
      "metadata": {
        "id": "ncXD6_ueNVRv"
      },
      "execution_count": null,
      "outputs": []
    },
    {
      "cell_type": "code",
      "source": [
        "from transformers import TrainingArguments, Trainer\n",
        "from sklearn.metrics import accuracy_score, f1_score\n",
        "\n",
        "# Define the training arguments to finetune the pretrained model\n",
        "training_args = TrainingArguments(\n",
        "    output_dir=dir+'bertweet3',\n",
        "    run_name='Bertweet3 finetune',\n",
        "    num_train_epochs=3,\n",
        "    per_device_train_batch_size=16,\n",
        "    per_device_eval_batch_size=64,\n",
        "    evaluation_strategy='epoch',\n",
        "    save_strategy='epoch',\n",
        "    logging_dir=dir+'bertweet3/logs',\n",
        "    learning_rate=4e-5\n",
        ")\n",
        "\n",
        "# Initialize the Trainer\n",
        "trainer = Trainer(\n",
        "    model=model,\n",
        "    args=training_args,\n",
        "    train_dataset=train_tokenized_dataset,\n",
        "    eval_dataset=test_tokenized_dataset,\n",
        "    compute_metrics=compute_metrics\n",
        ")\n",
        "\n",
        "# Start finetuning the pretrained model\n",
        "trainer.train()\n",
        "\n",
        "# Save the model after training\n",
        "model.save_pretrained(dir+'bertweet3/final_model')\n",
        "tokenizer.save_pretrained(dir+'bertweet3/tokenizer')"
      ],
      "metadata": {
        "colab": {
          "base_uri": "https://localhost:8080/",
          "height": 308
        },
        "id": "JBSTwy-AWh7f",
        "outputId": "5ea0c9cf-d276-473f-e39c-fa3eec4df9a8"
      },
      "execution_count": null,
      "outputs": [
        {
          "output_type": "stream",
          "name": "stderr",
          "text": [
            "/usr/local/lib/python3.11/dist-packages/transformers/training_args.py:1611: FutureWarning: `evaluation_strategy` is deprecated and will be removed in version 4.46 of 🤗 Transformers. Use `eval_strategy` instead\n",
            "  warnings.warn(\n",
            "Using the `WANDB_DISABLED` environment variable is deprecated and will be removed in v5. Use the --report_to flag to control the integrations used for logging result (for instance --report_to none).\n"
          ]
        },
        {
          "output_type": "display_data",
          "data": {
            "text/plain": [
              "<IPython.core.display.HTML object>"
            ],
            "text/html": [
              "\n",
              "    <div>\n",
              "      \n",
              "      <progress value='4500' max='4500' style='width:300px; height:20px; vertical-align: middle;'></progress>\n",
              "      [4500/4500 27:51, Epoch 3/3]\n",
              "    </div>\n",
              "    <table border=\"1\" class=\"dataframe\">\n",
              "  <thead>\n",
              " <tr style=\"text-align: left;\">\n",
              "      <th>Epoch</th>\n",
              "      <th>Training Loss</th>\n",
              "      <th>Validation Loss</th>\n",
              "      <th>Accuracy</th>\n",
              "      <th>F1</th>\n",
              "    </tr>\n",
              "  </thead>\n",
              "  <tbody>\n",
              "    <tr>\n",
              "      <td>1</td>\n",
              "      <td>0.639200</td>\n",
              "      <td>0.718171</td>\n",
              "      <td>0.708167</td>\n",
              "      <td>0.656100</td>\n",
              "    </tr>\n",
              "    <tr>\n",
              "      <td>2</td>\n",
              "      <td>0.307900</td>\n",
              "      <td>0.286873</td>\n",
              "      <td>0.901167</td>\n",
              "      <td>0.900337</td>\n",
              "    </tr>\n",
              "    <tr>\n",
              "      <td>3</td>\n",
              "      <td>0.207100</td>\n",
              "      <td>0.253052</td>\n",
              "      <td>0.922167</td>\n",
              "      <td>0.922271</td>\n",
              "    </tr>\n",
              "  </tbody>\n",
              "</table><p>"
            ]
          },
          "metadata": {}
        },
        {
          "output_type": "execute_result",
          "data": {
            "text/plain": [
              "('/content/drive/My Drive/1513-project/bertweet3/tokenizer/tokenizer_config.json',\n",
              " '/content/drive/My Drive/1513-project/bertweet3/tokenizer/special_tokens_map.json',\n",
              " '/content/drive/My Drive/1513-project/bertweet3/tokenizer/vocab.txt',\n",
              " '/content/drive/My Drive/1513-project/bertweet3/tokenizer/bpe.codes',\n",
              " '/content/drive/My Drive/1513-project/bertweet3/tokenizer/added_tokens.json')"
            ]
          },
          "metadata": {},
          "execution_count": 158
        }
      ]
    },
    {
      "cell_type": "markdown",
      "source": [
        "# Preprocess Election Dataset"
      ],
      "metadata": {
        "id": "AhYJAh2VyfQc"
      }
    },
    {
      "cell_type": "code",
      "source": [
        "import os\n",
        "import glob\n",
        "import pandas as pd\n",
        "import datetime"
      ],
      "metadata": {
        "id": "a7TyAJ013Fv0"
      },
      "execution_count": 2,
      "outputs": []
    },
    {
      "cell_type": "code",
      "source": [
        "start_date = datetime.date(2024, 5, 1)\n",
        "end_date = datetime.date(2024, 11, 30)\n",
        "delta = datetime.timedelta(days=1)\n",
        "\n",
        "files_to_download = []\n",
        "current = start_date\n",
        "while current <= end_date:\n",
        "    files_to_download.append(current.strftime(\"%Y-%m-%d\"))\n",
        "    current += delta\n",
        "\n",
        "print(files_to_download)\n",
        "\n",
        "path_to_download = dir + 'election_data'\n",
        "\n",
        "!mkdir -p '{path_to_download}'\n",
        "\n",
        "final_csv_filename = 'combined_daily_dataset_8000.csv'\n",
        "if not os.path.exists(os.path.join(path_to_download, final_csv_filename)):\n",
        "  dfs = []\n",
        "  for file in files_to_download:\n",
        "    url = f\"https://github.com/YupengHuangFrank/ECE1513/raw/refs/heads/main/Date-Ordered-Data/{file}.csv.gz\"\n",
        "    filename = file + '.csv.gz'\n",
        "    try:\n",
        "      single_df = pd.read_csv(url, compression='gzip', usecols=['text', 'epoch'])\n",
        "      # n_samples = min(2000, len(single_df))\n",
        "      n_samples = min(8000, len(single_df))\n",
        "      sample_df = single_df.sample(n=n_samples, random_state=39)\n",
        "      dfs.append(sample_df)\n",
        "      print(f\"Processed {filename}: sampled {n_samples} rows.\")\n",
        "    except Exception as e:\n",
        "      print(f\"Error processing csv {filename}: {e}\")\n",
        "\n",
        "  combined_df = pd.concat(dfs, ignore_index=True)\n",
        "  # Save the combined DataFrame to csv for future load\n",
        "  combined_file = os.path.join(path_to_download, final_csv_filename)\n",
        "  combined_df.to_csv(combined_file, index=False)\n",
        "  print(f\"Combined csv saved at: {combined_file}\")\n",
        "else:\n",
        "  combined_df = pd.read_csv(dir + 'election_data/' + final_csv_filename)\n",
        "  print('Already combined, read from existing csv!')\n",
        "\n",
        "print(combined_df)"
      ],
      "metadata": {
        "id": "xiDQIkxwycR1",
        "colab": {
          "base_uri": "https://localhost:8080/"
        },
        "outputId": "6695b798-bc79-450e-96bb-c714435d78b9"
      },
      "execution_count": 7,
      "outputs": [
        {
          "output_type": "stream",
          "name": "stdout",
          "text": [
            "['2024-05-01', '2024-05-02', '2024-05-03', '2024-05-04', '2024-05-05', '2024-05-06', '2024-05-07', '2024-05-08', '2024-05-09', '2024-05-10', '2024-05-11', '2024-05-12', '2024-05-13', '2024-05-14', '2024-05-15', '2024-05-16', '2024-05-17', '2024-05-18', '2024-05-19', '2024-05-20', '2024-05-21', '2024-05-22', '2024-05-23', '2024-05-24', '2024-05-25', '2024-05-26', '2024-05-27', '2024-05-28', '2024-05-29', '2024-05-30', '2024-05-31', '2024-06-01', '2024-06-02', '2024-06-03', '2024-06-04', '2024-06-05', '2024-06-06', '2024-06-07', '2024-06-08', '2024-06-09', '2024-06-10', '2024-06-11', '2024-06-12', '2024-06-13', '2024-06-14', '2024-06-15', '2024-06-16', '2024-06-17', '2024-06-18', '2024-06-19', '2024-06-20', '2024-06-21', '2024-06-22', '2024-06-23', '2024-06-24', '2024-06-25', '2024-06-26', '2024-06-27', '2024-06-28', '2024-06-29', '2024-06-30', '2024-07-01', '2024-07-02', '2024-07-03', '2024-07-04', '2024-07-05', '2024-07-06', '2024-07-07', '2024-07-08', '2024-07-09', '2024-07-10', '2024-07-11', '2024-07-12', '2024-07-13', '2024-07-14', '2024-07-15', '2024-07-16', '2024-07-17', '2024-07-18', '2024-07-19', '2024-07-20', '2024-07-21', '2024-07-22', '2024-07-23', '2024-07-24', '2024-07-25', '2024-07-26', '2024-07-27', '2024-07-28', '2024-07-29', '2024-07-30', '2024-07-31', '2024-08-01', '2024-08-02', '2024-08-03', '2024-08-04', '2024-08-05', '2024-08-06', '2024-08-07', '2024-08-08', '2024-08-09', '2024-08-10', '2024-08-11', '2024-08-12', '2024-08-13', '2024-08-14', '2024-08-15', '2024-08-16', '2024-08-17', '2024-08-18', '2024-08-19', '2024-08-20', '2024-08-21', '2024-08-22', '2024-08-23', '2024-08-24', '2024-08-25', '2024-08-26', '2024-08-27', '2024-08-28', '2024-08-29', '2024-08-30', '2024-08-31', '2024-09-01', '2024-09-02', '2024-09-03', '2024-09-04', '2024-09-05', '2024-09-06', '2024-09-07', '2024-09-08', '2024-09-09', '2024-09-10', '2024-09-11', '2024-09-12', '2024-09-13', '2024-09-14', '2024-09-15', '2024-09-16', '2024-09-17', '2024-09-18', '2024-09-19', '2024-09-20', '2024-09-21', '2024-09-22', '2024-09-23', '2024-09-24', '2024-09-25', '2024-09-26', '2024-09-27', '2024-09-28', '2024-09-29', '2024-09-30', '2024-10-01', '2024-10-02', '2024-10-03', '2024-10-04', '2024-10-05', '2024-10-06', '2024-10-07', '2024-10-08', '2024-10-09', '2024-10-10', '2024-10-11', '2024-10-12', '2024-10-13', '2024-10-14', '2024-10-15', '2024-10-16', '2024-10-17', '2024-10-18', '2024-10-19', '2024-10-20', '2024-10-21', '2024-10-22', '2024-10-23', '2024-10-24', '2024-10-25', '2024-10-26', '2024-10-27', '2024-10-28', '2024-10-29', '2024-10-30', '2024-10-31', '2024-11-01', '2024-11-02', '2024-11-03', '2024-11-04', '2024-11-05', '2024-11-06', '2024-11-07', '2024-11-08', '2024-11-09', '2024-11-10', '2024-11-11', '2024-11-12', '2024-11-13', '2024-11-14', '2024-11-15', '2024-11-16', '2024-11-17', '2024-11-18', '2024-11-19', '2024-11-20', '2024-11-21', '2024-11-22', '2024-11-23', '2024-11-24', '2024-11-25', '2024-11-26', '2024-11-27', '2024-11-28', '2024-11-29', '2024-11-30']\n",
            "Already combined, read from existing csv!\n",
            "                                                      text         epoch\n",
            "0        Trump rolls out the red carpet for foreign lea...  1.714602e+09\n",
            "1        Donald Trump Takes Biggest Lead Ever over Joe ...  1.714604e+09\n",
            "2        @PhonyLyingLibs @obriedave1 @DebraSc69769469 @...  1.714602e+09\n",
            "3        Democrats: BAGS - Biden And Gullible Supporter...  1.714600e+09\n",
            "4        @WhitneyChanell @AlmaSuono Not sure what there...  1.714595e+09\n",
            "...                                                    ...           ...\n",
            "1437996  Two years later, the GOP had already made its ...  1.732990e+09\n",
            "1437997              @maddenifico Uhhhhhh, he did sign it.  1.733005e+09\n",
            "1437998  @ogduckboy @ColdAsIce1984 @Fernand46357857 The...  1.732983e+09\n",
            "1437999  @LeadingReport Things like this are exactly wh...  1.732938e+09\n",
            "1438000  Biden's Harris endorsement an 'F you' to Obama...  1.732937e+09\n",
            "\n",
            "[1438001 rows x 2 columns]\n"
          ]
        }
      ]
    },
    {
      "cell_type": "code",
      "source": [
        "# Now preprocess the combined election dataset\n",
        "combined_df = preprocess_data_cleaning(combined_df)\n",
        "print(combined_df)"
      ],
      "metadata": {
        "colab": {
          "base_uri": "https://localhost:8080/"
        },
        "id": "Bq1qIDVO54Wv",
        "outputId": "831ccf49-242f-453b-f8c2-49735f0160bf"
      },
      "execution_count": null,
      "outputs": [
        {
          "output_type": "stream",
          "name": "stdout",
          "text": [
            "                                                      text         epoch  \\\n",
            "0        Trump rolls out the red carpet for foreign lea...  1.714602e+09   \n",
            "1        Donald Trump Takes Biggest Lead Ever over Joe ...  1.714604e+09   \n",
            "2        @PhonyLyingLibs @obriedave1 @DebraSc69769469 @...  1.714602e+09   \n",
            "3        Democrats: BAGS - Biden And Gullible Supporter...  1.714600e+09   \n",
            "4        @WhitneyChanell @AlmaSuono Not sure what there...  1.714595e+09   \n",
            "...                                                    ...           ...   \n",
            "1437996  Two years later, the GOP had already made its ...  1.732990e+09   \n",
            "1437997              @maddenifico Uhhhhhh, he did sign it.  1.733005e+09   \n",
            "1437998  @ogduckboy @ColdAsIce1984 @Fernand46357857 The...  1.732983e+09   \n",
            "1437999  @LeadingReport Things like this are exactly wh...  1.732938e+09   \n",
            "1438000  Biden's Harris endorsement an 'F you' to Obama...  1.732937e+09   \n",
            "\n",
            "                                              text_cleaned  \n",
            "0        trump rolls out the red carpet for foreign lea...  \n",
            "1        donald trump takes biggest lead ever over joe ...  \n",
            "2        phonylyinglibs obriedave1 debrasc69769469 retu...  \n",
            "3           democrats bags  biden and gullible supporters   \n",
            "4        whitneychanell almasuono not sure what there i...  \n",
            "...                                                    ...  \n",
            "1437996  two years later the gop had already made its c...  \n",
            "1437997                 maddenifico uhhhhhh he did sign it  \n",
            "1437998  ogduckboy coldasice1984 fernand46357857 the in...  \n",
            "1437999  leadingreport things like this are exactly why...  \n",
            "1438000  bidens harris endorsement an f you to obama pe...  \n",
            "\n",
            "[1438001 rows x 3 columns]\n"
          ]
        }
      ]
    },
    {
      "cell_type": "markdown",
      "source": [
        "# Tokenize Election Dataset"
      ],
      "metadata": {
        "id": "8GXAzm9xEtHV"
      }
    },
    {
      "cell_type": "code",
      "source": [
        "from datasets import Dataset\n",
        "# Load the election df into dataset to allow for batch processing\n",
        "combined_election_dataset = Dataset.from_pandas(combined_df)\n",
        "combined_election_dataset = combined_election_dataset.remove_columns(['text'])\n",
        "print(combined_election_dataset[0:5])"
      ],
      "metadata": {
        "colab": {
          "base_uri": "https://localhost:8080/"
        },
        "id": "_Gam_23EC7Pe",
        "outputId": "02dec81e-3a98-4a37-9200-67467bddad90"
      },
      "execution_count": null,
      "outputs": [
        {
          "output_type": "stream",
          "name": "stdout",
          "text": [
            "{'epoch': [1714601618.0, 1714603996.0, 1714602308.0, 1714599951.0, 1714595435.0], 'text_cleaned': ['trump rolls out the red carpet for foreign leaders irking biden allies  via nbcnews', 'donald trump takes biggest lead ever over joe biden in cnn poll thirdparty candidates expand trump lead\\n', 'phonylyinglibs obriedave1 debrasc69769469 retusafmsgt repmtg him in office after he lost to joe biden', 'democrats bags  biden and gullible supporters ', 'whitneychanell almasuono not sure what there is too not like  equal rights for black people minorities amp lgbtq comm or womens rights or the most diverse judicial appts ever womanshruggingmediumskintone\\ni am sure you will not have to hang out with him i just need him to continue being the most progressive potus of our lifetimes']}\n"
          ]
        }
      ]
    },
    {
      "cell_type": "code",
      "source": [
        "from transformers import AutoTokenizer\n",
        "\n",
        "# Now we tokenize the combined election dataset\n",
        "# Load the BERTweet tokenizer\n",
        "tokenizer = AutoTokenizer.from_pretrained(dir + 'bertweet3/tokenizer', use_fast=False)\n",
        "\n",
        "# Function to tokenize the text in batches\n",
        "def tokenize(text_batch, tokenizer):\n",
        "  return tokenizer(\n",
        "    text_batch['text_cleaned'],\n",
        "    truncation=True,\n",
        "    padding='max_length',\n",
        "    max_length=128,\n",
        "    return_tensors=\"pt\"\n",
        "  )"
      ],
      "metadata": {
        "id": "JjuumzwgEYX2"
      },
      "execution_count": null,
      "outputs": []
    },
    {
      "cell_type": "code",
      "source": [
        "# Tokenize the cleaned text data in batches\n",
        "tokenized_election_dataset = combined_election_dataset.map(lambda x: tokenize(x, tokenizer), batched=True)\n",
        "tokenized_election_dataset.set_format('torch', columns=['input_ids', 'attention_mask'])\n",
        "print(tokenized_election_dataset[0])\n",
        "print(tokenized_election_dataset)"
      ],
      "metadata": {
        "colab": {
          "base_uri": "https://localhost:8080/",
          "height": 431,
          "referenced_widgets": [
            "3656948fd31c43ae829f3ff8196391a5",
            "152cdffdc62b4f648435680c5a5cc921",
            "5b80fe4f0db043b5aa22f675824dc1d5",
            "1dc967852bec41d69746a708a0c40021",
            "bc678012156249c4ae632feae0ee88b3",
            "eeb3445e8d2e48cda3ce0a3fb4a0a1d6",
            "a42025c11b3b4feb8278c89e156edd90",
            "4a862d41dff84490925acdd160501fd5",
            "ded7f8c6b5a44e488b5a69c34a0ca583",
            "f3ded04cbd4448de9151f7e6563643de",
            "f01fc580544e4bc2af0d636a0818cbaa"
          ]
        },
        "id": "ySyWey3CE4Hu",
        "outputId": "e6b13bad-a8b6-4eb4-b4b8-b54794be7f38"
      },
      "execution_count": null,
      "outputs": [
        {
          "output_type": "display_data",
          "data": {
            "text/plain": [
              "Map:   0%|          | 0/1438001 [00:00<?, ? examples/s]"
            ],
            "application/vnd.jupyter.widget-view+json": {
              "version_major": 2,
              "version_minor": 0,
              "model_id": "3656948fd31c43ae829f3ff8196391a5"
            }
          },
          "metadata": {}
        },
        {
          "output_type": "stream",
          "name": "stdout",
          "text": [
            "{'input_ids': tensor([    0,  3377,  6563,    50,     6,  1007, 10160,    19,  3923,  3164,\n",
            "         1784,  1235,   607, 22042, 15456,   156,   608, 21337,   615,     2,\n",
            "            1,     1,     1,     1,     1,     1,     1,     1,     1,     1,\n",
            "            1,     1,     1,     1,     1,     1,     1,     1,     1,     1,\n",
            "            1,     1,     1,     1,     1,     1,     1,     1,     1,     1,\n",
            "            1,     1,     1,     1,     1,     1,     1,     1,     1,     1,\n",
            "            1,     1,     1,     1,     1,     1,     1,     1,     1,     1,\n",
            "            1,     1,     1,     1,     1,     1,     1,     1,     1,     1,\n",
            "            1,     1,     1,     1,     1,     1,     1,     1,     1,     1,\n",
            "            1,     1,     1,     1,     1,     1,     1,     1,     1,     1,\n",
            "            1,     1,     1,     1,     1,     1,     1,     1,     1,     1,\n",
            "            1,     1,     1,     1,     1,     1,     1,     1,     1,     1,\n",
            "            1,     1,     1,     1,     1,     1,     1,     1]), 'attention_mask': tensor([1, 1, 1, 1, 1, 1, 1, 1, 1, 1, 1, 1, 1, 1, 1, 1, 1, 1, 1, 1, 0, 0, 0, 0,\n",
            "        0, 0, 0, 0, 0, 0, 0, 0, 0, 0, 0, 0, 0, 0, 0, 0, 0, 0, 0, 0, 0, 0, 0, 0,\n",
            "        0, 0, 0, 0, 0, 0, 0, 0, 0, 0, 0, 0, 0, 0, 0, 0, 0, 0, 0, 0, 0, 0, 0, 0,\n",
            "        0, 0, 0, 0, 0, 0, 0, 0, 0, 0, 0, 0, 0, 0, 0, 0, 0, 0, 0, 0, 0, 0, 0, 0,\n",
            "        0, 0, 0, 0, 0, 0, 0, 0, 0, 0, 0, 0, 0, 0, 0, 0, 0, 0, 0, 0, 0, 0, 0, 0,\n",
            "        0, 0, 0, 0, 0, 0, 0, 0])}\n",
            "Dataset({\n",
            "    features: ['epoch', 'text_cleaned', 'input_ids', 'token_type_ids', 'attention_mask'],\n",
            "    num_rows: 1438001\n",
            "})\n"
          ]
        }
      ]
    },
    {
      "cell_type": "markdown",
      "source": [
        "# Sentiment Prediction"
      ],
      "metadata": {
        "id": "wInQlNwnUMHC"
      }
    },
    {
      "cell_type": "code",
      "source": [
        "# Load the model that we fine-tuned and use it to predict for the new dataset\n",
        "from transformers import AutoTokenizer, AutoModelForSequenceClassification\n",
        "\n",
        "model = AutoModelForSequenceClassification.from_pretrained(dir + 'bertweet3/final_model')"
      ],
      "metadata": {
        "id": "0lGUz-1hCVKb"
      },
      "execution_count": null,
      "outputs": []
    },
    {
      "cell_type": "code",
      "source": [
        "import torch\n",
        "from torch.utils.data import DataLoader\n",
        "from tqdm import tqdm"
      ],
      "metadata": {
        "id": "Nj9d8GO6PGud"
      },
      "execution_count": 8,
      "outputs": []
    },
    {
      "cell_type": "code",
      "source": [
        "# Create a DataLoader from the tokenized dataset\n",
        "election_dataloader = DataLoader(tokenized_election_dataset, batch_size=64)\n",
        "\n",
        "model.eval()  # Set the model to evaluation mode\n",
        "device = torch.device(\"cuda\" if torch.cuda.is_available() else \"cpu\")\n",
        "model.to(device)\n",
        "\n",
        "predictions = []\n",
        "\n",
        "with torch.no_grad():\n",
        "    for batch in tqdm(election_dataloader, desc=\"Predicting\"):\n",
        "        batch = {key: value.to(device) for key, value in batch.items()}\n",
        "        outputs = model(**batch)\n",
        "        logits = outputs.logits\n",
        "        batch_predictions = torch.argmax(logits, dim=1)\n",
        "        predictions.extend(batch_predictions.tolist())\n",
        "\n",
        "# print(predictions)"
      ],
      "metadata": {
        "id": "j6FbQ5zmOmVk"
      },
      "execution_count": 9,
      "outputs": []
    },
    {
      "cell_type": "code",
      "source": [
        "# Associate each prediction with its corresponding row\n",
        "tokenized_election_dataset.reset_format()\n",
        "tokenized_election_dataset = tokenized_election_dataset.add_column(\"prediction\", predictions)\n",
        "print(tokenized_election_dataset[3])\n",
        "unique_values = tokenized_election_dataset.unique('prediction')\n",
        "print(unique_values)"
      ],
      "metadata": {
        "colab": {
          "base_uri": "https://localhost:8080/"
        },
        "id": "_g5CrGaPQJZz",
        "outputId": "d16cbd1e-6136-4dd0-e178-c6dda20057c6"
      },
      "execution_count": null,
      "outputs": [
        {
          "output_type": "stream",
          "name": "stdout",
          "text": [
            "{'epoch': 1714599951.0, 'text_cleaned': 'democrats bags  biden and gullible supporters ', 'input_ids': [0, 13410, 4572, 607, 22042, 13, 29619, 4959, 2, 1, 1, 1, 1, 1, 1, 1, 1, 1, 1, 1, 1, 1, 1, 1, 1, 1, 1, 1, 1, 1, 1, 1, 1, 1, 1, 1, 1, 1, 1, 1, 1, 1, 1, 1, 1, 1, 1, 1, 1, 1, 1, 1, 1, 1, 1, 1, 1, 1, 1, 1, 1, 1, 1, 1, 1, 1, 1, 1, 1, 1, 1, 1, 1, 1, 1, 1, 1, 1, 1, 1, 1, 1, 1, 1, 1, 1, 1, 1, 1, 1, 1, 1, 1, 1, 1, 1, 1, 1, 1, 1, 1, 1, 1, 1, 1, 1, 1, 1, 1, 1, 1, 1, 1, 1, 1, 1, 1, 1, 1, 1, 1, 1, 1, 1, 1, 1, 1, 1], 'token_type_ids': [0, 0, 0, 0, 0, 0, 0, 0, 0, 0, 0, 0, 0, 0, 0, 0, 0, 0, 0, 0, 0, 0, 0, 0, 0, 0, 0, 0, 0, 0, 0, 0, 0, 0, 0, 0, 0, 0, 0, 0, 0, 0, 0, 0, 0, 0, 0, 0, 0, 0, 0, 0, 0, 0, 0, 0, 0, 0, 0, 0, 0, 0, 0, 0, 0, 0, 0, 0, 0, 0, 0, 0, 0, 0, 0, 0, 0, 0, 0, 0, 0, 0, 0, 0, 0, 0, 0, 0, 0, 0, 0, 0, 0, 0, 0, 0, 0, 0, 0, 0, 0, 0, 0, 0, 0, 0, 0, 0, 0, 0, 0, 0, 0, 0, 0, 0, 0, 0, 0, 0, 0, 0, 0, 0, 0, 0, 0, 0], 'attention_mask': [1, 1, 1, 1, 1, 1, 1, 1, 1, 0, 0, 0, 0, 0, 0, 0, 0, 0, 0, 0, 0, 0, 0, 0, 0, 0, 0, 0, 0, 0, 0, 0, 0, 0, 0, 0, 0, 0, 0, 0, 0, 0, 0, 0, 0, 0, 0, 0, 0, 0, 0, 0, 0, 0, 0, 0, 0, 0, 0, 0, 0, 0, 0, 0, 0, 0, 0, 0, 0, 0, 0, 0, 0, 0, 0, 0, 0, 0, 0, 0, 0, 0, 0, 0, 0, 0, 0, 0, 0, 0, 0, 0, 0, 0, 0, 0, 0, 0, 0, 0, 0, 0, 0, 0, 0, 0, 0, 0, 0, 0, 0, 0, 0, 0, 0, 0, 0, 0, 0, 0, 0, 0, 0, 0, 0, 0, 0, 0], 'prediction': 1}\n",
            "[0, 1, 2]\n"
          ]
        }
      ]
    },
    {
      "cell_type": "markdown",
      "source": [
        "# Approach 1: Relative support"
      ],
      "metadata": {
        "id": "-Kk39zw6jSqu"
      }
    },
    {
      "cell_type": "code",
      "source": [
        "# Save the prediction\n",
        "prediction_df = tokenized_election_dataset.to_pandas()\n",
        "# prediction_df.to_csv(dir + 'election_data/election_prediction_data_2.csv', columns=['epoch', 'text_cleaned', 'prediction'], index=False)"
      ],
      "metadata": {
        "id": "wxi7HnZJMw79"
      },
      "execution_count": null,
      "outputs": []
    },
    {
      "cell_type": "code",
      "source": [
        "import pandas as pd\n",
        "\n",
        "prediction_df = pd.read_csv(dir + 'election_data/election_prediction_data_2.csv')\n",
        "prediction_df.dropna(inplace=True)\n",
        "print(prediction_df.head())"
      ],
      "metadata": {
        "colab": {
          "base_uri": "https://localhost:8080/"
        },
        "id": "hLSj_MA8-6EC",
        "outputId": "d93fb1b7-2d70-4adf-adc4-ead3a45f025c"
      },
      "execution_count": null,
      "outputs": [
        {
          "output_type": "stream",
          "name": "stdout",
          "text": [
            "          epoch                                       text_cleaned  prediction\n",
            "0  1.714602e+09  trump rolls out the red carpet for foreign lea...           0\n",
            "1  1.714604e+09  donald trump takes biggest lead ever over joe ...           1\n",
            "2  1.714602e+09  phonylyinglibs obriedave1 debrasc69769469 retu...           1\n",
            "3  1.714600e+09     democrats bags  biden and gullible supporters            1\n",
            "4  1.714595e+09  whitneychanell almasuono not sure what there i...           2\n"
          ]
        }
      ]
    },
    {
      "cell_type": "code",
      "source": [
        "# We will associate each tweet with a candidate first\n",
        "def detect_candidate(text):\n",
        "    text = text.lower()\n",
        "    group1 = ['joe', 'biden', 'kamala', 'harris', 'democrat', ]\n",
        "    group2 = ['donald', 'trump', 'gop', 'maga', 'republican']\n",
        "    if any(name in text for name in group1) and any(name in text for name in group2):\n",
        "      group1_indices = [text.find(name) for name in group1 if text.find(name) != -1]\n",
        "      group2_indices = [text.find(name) for name in group2 if text.find(name) != -1]\n",
        "      if min(group1_indices) < min(group2_indices):\n",
        "        return 'biden-kamala'\n",
        "      else:\n",
        "        return 'trump'\n",
        "    elif any(name in text for name in group1):\n",
        "      return 'biden-kamala'\n",
        "    elif any(name in text for name in group2):\n",
        "      return 'trump'\n",
        "    else:\n",
        "      return 'other'"
      ],
      "metadata": {
        "id": "LahaktEMP-bt"
      },
      "execution_count": null,
      "outputs": []
    },
    {
      "cell_type": "code",
      "source": [
        "prediction_df['candidate'] = prediction_df['text_cleaned'].apply(detect_candidate)\n",
        "prediction_df = prediction_df[prediction_df['candidate'] != 'other'] # Should i filter this out?\n",
        "\n",
        "print(prediction_df.head())"
      ],
      "metadata": {
        "colab": {
          "base_uri": "https://localhost:8080/"
        },
        "id": "JECPaOy0SxUH",
        "outputId": "6e15d829-55e9-4c1e-c8e8-d8c966073e54"
      },
      "execution_count": null,
      "outputs": [
        {
          "output_type": "stream",
          "name": "stdout",
          "text": [
            "          epoch                                       text_cleaned  \\\n",
            "0  1.714602e+09  trump rolls out the red carpet for foreign lea...   \n",
            "1  1.714604e+09  donald trump takes biggest lead ever over joe ...   \n",
            "2  1.714602e+09  phonylyinglibs obriedave1 debrasc69769469 retu...   \n",
            "3  1.714600e+09     democrats bags  biden and gullible supporters    \n",
            "5  1.714599e+09  president bidens nightmare scenario just happe...   \n",
            "\n",
            "   prediction     candidate  \n",
            "0           0         trump  \n",
            "1           1         trump  \n",
            "2           1  biden-kamala  \n",
            "3           1  biden-kamala  \n",
            "5           1  biden-kamala  \n"
          ]
        }
      ]
    },
    {
      "cell_type": "code",
      "source": [
        "prediction_df['datetime'] = pd.to_datetime(prediction_df['epoch'], unit='s')\n",
        "prediction_df.sort_values('datetime', inplace=True)\n",
        "prediction_df['date'] = prediction_df['datetime'].dt.date\n",
        "# prediction_df.set_index('datetime', inplace=True)\n",
        "print(prediction_df.head())"
      ],
      "metadata": {
        "colab": {
          "base_uri": "https://localhost:8080/"
        },
        "id": "63x6TIvhV82s",
        "outputId": "d23f07f0-fb38-40c4-ea29-93491b6bf99c"
      },
      "execution_count": null,
      "outputs": [
        {
          "output_type": "stream",
          "name": "stdout",
          "text": [
            "             epoch                                       text_cleaned  \\\n",
            "7269  1.714522e+09  the first week of testimony at donald trumps h...   \n",
            "7246  1.714522e+09  former speaker of the house speakermccarthy jo...   \n",
            "6551  1.714522e+09  biden civil rights chief to speak at columbia ...   \n",
            "2878  1.714522e+09  attorneys general sue biden administration ove...   \n",
            "746   1.714522e+09  meme generated by opossumal opsmcrypto \\nopsm ...   \n",
            "\n",
            "      prediction     candidate            datetime        date  \n",
            "7269           0         trump 2024-05-01 00:00:00  2024-05-01  \n",
            "7246           1         trump 2024-05-01 00:00:01  2024-05-01  \n",
            "6551           1  biden-kamala 2024-05-01 00:00:13  2024-05-01  \n",
            "2878           1  biden-kamala 2024-05-01 00:00:35  2024-05-01  \n",
            "746            1         trump 2024-05-01 00:00:43  2024-05-01  \n"
          ]
        }
      ]
    },
    {
      "cell_type": "code",
      "source": [
        "# Filter out dates that has too little tweets\n",
        "daily_counts = prediction_df.groupby('date').size()\n",
        "threshold = 1000\n",
        "valid_dates = daily_counts[daily_counts >= threshold].index"
      ],
      "metadata": {
        "id": "pDhwrIaog8f4"
      },
      "execution_count": null,
      "outputs": []
    },
    {
      "cell_type": "code",
      "source": [
        "print(valid_dates)"
      ],
      "metadata": {
        "colab": {
          "base_uri": "https://localhost:8080/"
        },
        "id": "OULlqrXbhBwh",
        "outputId": "17604f35-9d08-4896-c7c3-d1ddb9b85c3d"
      },
      "execution_count": null,
      "outputs": [
        {
          "output_type": "stream",
          "name": "stdout",
          "text": [
            "Index([2024-05-01, 2024-05-02, 2024-05-03, 2024-05-04, 2024-05-05, 2024-05-06,\n",
            "       2024-05-07, 2024-05-08, 2024-05-09, 2024-05-10,\n",
            "       ...\n",
            "       2024-11-21, 2024-11-22, 2024-11-23, 2024-11-24, 2024-11-25, 2024-11-26,\n",
            "       2024-11-27, 2024-11-28, 2024-11-29, 2024-11-30],\n",
            "      dtype='object', name='date', length=186)\n"
          ]
        }
      ]
    },
    {
      "cell_type": "code",
      "source": [
        "# Define the mapping from sentiment to popularity score\n",
        "sentiment_to_popularity = {0: -1, 1: 0, 2: 1}\n",
        "\n",
        "# Map the predictions to a new column 'popularity_score'\n",
        "prediction_df[\"popularity_score\"] = prediction_df[\"prediction\"].map(sentiment_to_popularity)\n",
        "\n",
        "print(prediction_df.head())"
      ],
      "metadata": {
        "colab": {
          "base_uri": "https://localhost:8080/"
        },
        "id": "Ag_NoU4dXOem",
        "outputId": "d91edc14-e3aa-4d7e-d63f-a685a28d50fa"
      },
      "execution_count": null,
      "outputs": [
        {
          "output_type": "stream",
          "name": "stdout",
          "text": [
            "             epoch                                       text_cleaned  \\\n",
            "7269  1.714522e+09  the first week of testimony at donald trumps h...   \n",
            "7246  1.714522e+09  former speaker of the house speakermccarthy jo...   \n",
            "6551  1.714522e+09  biden civil rights chief to speak at columbia ...   \n",
            "2878  1.714522e+09  attorneys general sue biden administration ove...   \n",
            "746   1.714522e+09  meme generated by opossumal opsmcrypto \\nopsm ...   \n",
            "\n",
            "      prediction     candidate            datetime        date  \\\n",
            "7269           0         trump 2024-05-01 00:00:00  2024-05-01   \n",
            "7246           1         trump 2024-05-01 00:00:01  2024-05-01   \n",
            "6551           1  biden-kamala 2024-05-01 00:00:13  2024-05-01   \n",
            "2878           1  biden-kamala 2024-05-01 00:00:35  2024-05-01   \n",
            "746            1         trump 2024-05-01 00:00:43  2024-05-01   \n",
            "\n",
            "      popularity_score  \n",
            "7269                -1  \n",
            "7246                 0  \n",
            "6551                 0  \n",
            "2878                 0  \n",
            "746                  0  \n"
          ]
        }
      ]
    },
    {
      "cell_type": "code",
      "source": [
        "prediction_df[\"popularity_score\"] = pd.to_numeric(prediction_df[\"popularity_score\"], errors=\"coerce\")\n",
        "prediction_df.dropna(subset=[\"popularity_score\"], inplace=True)\n",
        "avg_sentiment = prediction_df.groupby(['candidate', 'date'])['popularity_score'].mean()\n",
        "norm_sentiment = (avg_sentiment + 1) / 2\n",
        "daily_norm_sum = norm_sentiment.groupby(level='date').sum()"
      ],
      "metadata": {
        "id": "x7Ue-kFmWRDx"
      },
      "execution_count": null,
      "outputs": []
    },
    {
      "cell_type": "code",
      "source": [
        "print(norm_sentiment)"
      ],
      "metadata": {
        "colab": {
          "base_uri": "https://localhost:8080/"
        },
        "id": "fBlaHkMWL7kf",
        "outputId": "191ef701-90ba-4eac-be01-167214f6b346"
      },
      "execution_count": null,
      "outputs": [
        {
          "output_type": "stream",
          "name": "stdout",
          "text": [
            "candidate     date      \n",
            "biden-kamala  2024-05-01    0.535517\n",
            "              2024-05-02    0.533684\n",
            "              2024-05-03    0.539314\n",
            "              2024-05-04    0.526711\n",
            "              2024-05-05    0.535121\n",
            "                              ...   \n",
            "trump         2024-11-26    0.580885\n",
            "              2024-11-27    0.573323\n",
            "              2024-11-28    0.604244\n",
            "              2024-11-29    0.587627\n",
            "              2024-11-30    0.585554\n",
            "Name: popularity_score, Length: 389, dtype: float64\n"
          ]
        }
      ]
    },
    {
      "cell_type": "code",
      "source": [
        "print(daily_norm_sum)"
      ],
      "metadata": {
        "colab": {
          "base_uri": "https://localhost:8080/"
        },
        "id": "QC7p-IBuKxwH",
        "outputId": "42cd08e2-3881-41db-9d13-56edfadaba9c"
      },
      "execution_count": null,
      "outputs": [
        {
          "output_type": "stream",
          "name": "stdout",
          "text": [
            "date\n",
            "2024-05-01    1.105216\n",
            "2024-05-02    1.103003\n",
            "2024-05-03    1.093773\n",
            "2024-05-04    1.069439\n",
            "2024-05-05    1.068043\n",
            "                ...   \n",
            "2024-11-26    1.105033\n",
            "2024-11-27    1.098802\n",
            "2024-11-28    1.164335\n",
            "2024-11-29    1.130004\n",
            "2024-11-30    1.117184\n",
            "Name: popularity_score, Length: 195, dtype: float64\n"
          ]
        }
      ]
    },
    {
      "cell_type": "code",
      "source": [
        "support_percentage = norm_sentiment / norm_sentiment.index.get_level_values('date').map(daily_norm_sum) * 100\n",
        "print(support_percentage)\n",
        "\n",
        "support_percentage_df = support_percentage.unstack(level='candidate')\n",
        "print(support_percentage_df)"
      ],
      "metadata": {
        "colab": {
          "base_uri": "https://localhost:8080/"
        },
        "id": "oVcOHvZ1L_IU",
        "outputId": "1a631ca1-5da7-4051-c1d7-21ab5fc2012a"
      },
      "execution_count": null,
      "outputs": [
        {
          "output_type": "stream",
          "name": "stdout",
          "text": [
            "candidate     date      \n",
            "biden-kamala  2024-05-01    48.453605\n",
            "              2024-05-02    48.384635\n",
            "              2024-05-03    49.307706\n",
            "              2024-05-04    49.251202\n",
            "              2024-05-05    50.102952\n",
            "                              ...    \n",
            "trump         2024-11-26    52.567194\n",
            "              2024-11-27    52.177070\n",
            "              2024-11-28    51.896094\n",
            "              2024-11-29    52.002240\n",
            "              2024-11-30    52.413425\n",
            "Length: 389, dtype: float64\n",
            "candidate   biden-kamala      trump\n",
            "date                               \n",
            "2024-05-01     48.453605  51.546395\n",
            "2024-05-02     48.384635  51.615365\n",
            "2024-05-03     49.307706  50.692294\n",
            "2024-05-04     49.251202  50.748798\n",
            "2024-05-05     50.102952  49.897048\n",
            "...                  ...        ...\n",
            "2024-11-26     47.432806  52.567194\n",
            "2024-11-27     47.822930  52.177070\n",
            "2024-11-28     48.103906  51.896094\n",
            "2024-11-29     47.997760  52.002240\n",
            "2024-11-30     47.586575  52.413425\n",
            "\n",
            "[195 rows x 2 columns]\n"
          ]
        }
      ]
    },
    {
      "cell_type": "code",
      "source": [
        "# Filter out the days with less than 150 count\n",
        "support_percentage_df = support_percentage_df.loc[valid_dates]"
      ],
      "metadata": {
        "id": "XEBYoNEkMyYj"
      },
      "execution_count": null,
      "outputs": []
    },
    {
      "cell_type": "code",
      "source": [
        "print(support_percentage_df)"
      ],
      "metadata": {
        "colab": {
          "base_uri": "https://localhost:8080/"
        },
        "id": "u9zjDrb-hyAz",
        "outputId": "d5d794a1-cab4-4b4d-dbc4-013ffc3bd652"
      },
      "execution_count": null,
      "outputs": [
        {
          "output_type": "stream",
          "name": "stdout",
          "text": [
            "candidate   biden-kamala      trump\n",
            "date                               \n",
            "2024-05-01     48.453605  51.546395\n",
            "2024-05-02     48.384635  51.615365\n",
            "2024-05-03     49.307706  50.692294\n",
            "2024-05-04     49.251202  50.748798\n",
            "2024-05-05     50.102952  49.897048\n",
            "...                  ...        ...\n",
            "2024-11-26     47.432806  52.567194\n",
            "2024-11-27     47.822930  52.177070\n",
            "2024-11-28     48.103906  51.896094\n",
            "2024-11-29     47.997760  52.002240\n",
            "2024-11-30     47.586575  52.413425\n",
            "\n",
            "[186 rows x 2 columns]\n"
          ]
        }
      ]
    },
    {
      "cell_type": "code",
      "source": [
        "import matplotlib.pyplot as plt\n",
        "\n",
        "plt.figure(figsize=(12, 6))\n",
        "for candidate in support_percentage_df.columns:\n",
        "    plt.plot(support_percentage_df.index, support_percentage_df[candidate], label=candidate)\n",
        "\n",
        "plt.xlabel(\"Date\")\n",
        "plt.ylabel(\"Support Percentage\")\n",
        "plt.title(\"Daily Support Percentage by Candidate\")\n",
        "plt.legend()\n",
        "plt.grid(True)\n",
        "plt.show()"
      ],
      "metadata": {
        "colab": {
          "base_uri": "https://localhost:8080/",
          "height": 564
        },
        "id": "XRfCM355jA3-",
        "outputId": "e07e7762-40c1-4e66-dbe2-d977917b6dc9"
      },
      "execution_count": null,
      "outputs": [
        {
          "output_type": "display_data",
          "data": {
            "text/plain": [
              "<Figure size 1200x600 with 1 Axes>"
            ],
            "image/png": "[encoded data removed]"
          },
          "metadata": {}
        }
      ]
    },
    {
      "cell_type": "markdown",
      "source": [
        "# Approach 2 - Absolute support"
      ],
      "metadata": {
        "id": "5p0RDyAijZX6"
      }
    },
    {
      "cell_type": "code",
      "source": [
        "import pandas as pd\n",
        "\n",
        "prediction_df1 = pd.read_csv(dir + 'election_data/election_prediction_data_2.csv')\n",
        "prediction_df1.dropna(inplace=True)\n",
        "print(prediction_df1.head())\n",
        "print(prediction_df1)"
      ],
      "metadata": {
        "colab": {
          "base_uri": "https://localhost:8080/"
        },
        "id": "5k14Qq2QjX9X",
        "outputId": "808fb8b8-3721-4d07-f1b2-46bb7197c113"
      },
      "execution_count": null,
      "outputs": [
        {
          "output_type": "stream",
          "name": "stdout",
          "text": [
            "          epoch                                       text_cleaned  prediction\n",
            "0  1.714602e+09  trump rolls out the red carpet for foreign lea...           0\n",
            "1  1.714604e+09  donald trump takes biggest lead ever over joe ...           1\n",
            "2  1.714602e+09  phonylyinglibs obriedave1 debrasc69769469 retu...           1\n",
            "3  1.714600e+09     democrats bags  biden and gullible supporters            1\n",
            "4  1.714595e+09  whitneychanell almasuono not sure what there i...           2\n",
            "                epoch                                       text_cleaned  \\\n",
            "0        1.714602e+09  trump rolls out the red carpet for foreign lea...   \n",
            "1        1.714604e+09  donald trump takes biggest lead ever over joe ...   \n",
            "2        1.714602e+09  phonylyinglibs obriedave1 debrasc69769469 retu...   \n",
            "3        1.714600e+09     democrats bags  biden and gullible supporters    \n",
            "4        1.714595e+09  whitneychanell almasuono not sure what there i...   \n",
            "...               ...                                                ...   \n",
            "1437996  1.732990e+09  two years later the gop had already made its c...   \n",
            "1437997  1.733005e+09                 maddenifico uhhhhhh he did sign it   \n",
            "1437998  1.732983e+09  ogduckboy coldasice1984 fernand46357857 the in...   \n",
            "1437999  1.732938e+09  leadingreport things like this are exactly why...   \n",
            "1438000  1.732937e+09  bidens harris endorsement an f you to obama pe...   \n",
            "\n",
            "         prediction  \n",
            "0                 0  \n",
            "1                 1  \n",
            "2                 1  \n",
            "3                 1  \n",
            "4                 2  \n",
            "...             ...  \n",
            "1437996           1  \n",
            "1437997           1  \n",
            "1437998           1  \n",
            "1437999           2  \n",
            "1438000           2  \n",
            "\n",
            "[1437999 rows x 3 columns]\n"
          ]
        }
      ]
    },
    {
      "cell_type": "code",
      "source": [
        "prediction_df1['candidate'] = prediction_df1['text_cleaned'].apply(detect_candidate)\n",
        "prediction_df1 = prediction_df1[prediction_df1['candidate'] != 'other'] # Should i filter this out?\n",
        "\n",
        "print(prediction_df1.head())\n",
        "print(prediction_df1)"
      ],
      "metadata": {
        "colab": {
          "base_uri": "https://localhost:8080/"
        },
        "id": "vSbLysxNjs2z",
        "outputId": "10639f03-680d-404a-e9e8-3f70e347663c"
      },
      "execution_count": null,
      "outputs": [
        {
          "output_type": "stream",
          "name": "stdout",
          "text": [
            "          epoch                                       text_cleaned  \\\n",
            "0  1.714602e+09  trump rolls out the red carpet for foreign lea...   \n",
            "1  1.714604e+09  donald trump takes biggest lead ever over joe ...   \n",
            "2  1.714602e+09  phonylyinglibs obriedave1 debrasc69769469 retu...   \n",
            "3  1.714600e+09     democrats bags  biden and gullible supporters    \n",
            "5  1.714599e+09  president bidens nightmare scenario just happe...   \n",
            "\n",
            "   prediction     candidate  \n",
            "0           0         trump  \n",
            "1           1         trump  \n",
            "2           1  biden-kamala  \n",
            "3           1  biden-kamala  \n",
            "5           1  biden-kamala  \n",
            "                epoch                                       text_cleaned  \\\n",
            "0        1.714602e+09  trump rolls out the red carpet for foreign lea...   \n",
            "1        1.714604e+09  donald trump takes biggest lead ever over joe ...   \n",
            "2        1.714602e+09  phonylyinglibs obriedave1 debrasc69769469 retu...   \n",
            "3        1.714600e+09     democrats bags  biden and gullible supporters    \n",
            "5        1.714599e+09  president bidens nightmare scenario just happe...   \n",
            "...               ...                                                ...   \n",
            "1437993  1.733002e+09  group of 300 illegal immigrants breaches texas...   \n",
            "1437996  1.732990e+09  two years later the gop had already made its c...   \n",
            "1437998  1.732983e+09  ogduckboy coldasice1984 fernand46357857 the in...   \n",
            "1437999  1.732938e+09  leadingreport things like this are exactly why...   \n",
            "1438000  1.732937e+09  bidens harris endorsement an f you to obama pe...   \n",
            "\n",
            "         prediction     candidate  \n",
            "0                 0         trump  \n",
            "1                 1         trump  \n",
            "2                 1  biden-kamala  \n",
            "3                 1  biden-kamala  \n",
            "5                 1  biden-kamala  \n",
            "...             ...           ...  \n",
            "1437993           0  biden-kamala  \n",
            "1437996           1         trump  \n",
            "1437998           1  biden-kamala  \n",
            "1437999           2         trump  \n",
            "1438000           2  biden-kamala  \n",
            "\n",
            "[1138161 rows x 4 columns]\n"
          ]
        }
      ]
    },
    {
      "cell_type": "code",
      "source": [
        "prediction_df1['datetime'] = pd.to_datetime(prediction_df1['epoch'], unit='s')\n",
        "prediction_df1.sort_values('datetime', inplace=True)\n",
        "prediction_df1['date'] = prediction_df1['datetime'].dt.date\n",
        "print(prediction_df1.head())"
      ],
      "metadata": {
        "colab": {
          "base_uri": "https://localhost:8080/"
        },
        "id": "BiY8F2hWj1wq",
        "outputId": "dc366021-9205-464d-8ccd-366227e0b13b"
      },
      "execution_count": null,
      "outputs": [
        {
          "output_type": "stream",
          "name": "stdout",
          "text": [
            "             epoch                                       text_cleaned  \\\n",
            "7269  1.714522e+09  the first week of testimony at donald trumps h...   \n",
            "7246  1.714522e+09  former speaker of the house speakermccarthy jo...   \n",
            "6551  1.714522e+09  biden civil rights chief to speak at columbia ...   \n",
            "2878  1.714522e+09  attorneys general sue biden administration ove...   \n",
            "746   1.714522e+09  meme generated by opossumal opsmcrypto \\nopsm ...   \n",
            "\n",
            "      prediction     candidate            datetime        date  \n",
            "7269           0         trump 2024-05-01 00:00:00  2024-05-01  \n",
            "7246           1         trump 2024-05-01 00:00:01  2024-05-01  \n",
            "6551           1  biden-kamala 2024-05-01 00:00:13  2024-05-01  \n",
            "2878           1  biden-kamala 2024-05-01 00:00:35  2024-05-01  \n",
            "746            1         trump 2024-05-01 00:00:43  2024-05-01  \n"
          ]
        }
      ]
    },
    {
      "cell_type": "code",
      "source": [
        "# Filter out dates that has too little tweets\n",
        "daily_counts = prediction_df.groupby('date').size()\n",
        "threshold = 1000\n",
        "valid_dates = daily_counts[daily_counts >= threshold].index"
      ],
      "metadata": {
        "id": "FCyxbV5emQ-P"
      },
      "execution_count": null,
      "outputs": []
    },
    {
      "cell_type": "code",
      "source": [
        "prediction_counts_df = prediction_df1.groupby(['candidate', 'date'])['prediction'].value_counts().unstack(fill_value=0)\n",
        "\n",
        "print(prediction_counts_df.head())"
      ],
      "metadata": {
        "colab": {
          "base_uri": "https://localhost:8080/"
        },
        "id": "eBl-uuutkiAc",
        "outputId": "7e3f8dd0-495a-400a-c087-cbd6063a0498"
      },
      "execution_count": null,
      "outputs": [
        {
          "output_type": "stream",
          "name": "stdout",
          "text": [
            "prediction                  0     1     2\n",
            "candidate    date                        \n",
            "biden-kamala 2024-05-01  1196  2983  1607\n",
            "             2024-05-02  1184  2865  1562\n",
            "             2024-05-03  1269  2864  1730\n",
            "             2024-05-04   826  1874  1025\n",
            "             2024-05-05   708  1774   949\n"
          ]
        }
      ]
    },
    {
      "cell_type": "code",
      "source": [
        "print(prediction_counts_df.columns)"
      ],
      "metadata": {
        "colab": {
          "base_uri": "https://localhost:8080/"
        },
        "id": "WWYaDTsZk7Q6",
        "outputId": "0b0a2bf2-0bc5-4ffc-c338-300b7bdf269a"
      },
      "execution_count": null,
      "outputs": [
        {
          "output_type": "stream",
          "name": "stdout",
          "text": [
            "Index([0, 1, 2], dtype='int64', name='prediction')\n"
          ]
        }
      ]
    },
    {
      "cell_type": "code",
      "source": [
        "# Find total tweets for candidate on a given day\n",
        "prediction_counts_df['total'] = prediction_counts_df[[0, 1, 2]].sum(axis=1)\n",
        "\n",
        "# Weighted support score calculation (negative tweets contribute 0)\n",
        "prediction_counts_df['support'] = prediction_counts_df[2] * 1 + prediction_counts_df[1] * 0.5\n",
        "\n",
        "print(prediction_counts_df.head())"
      ],
      "metadata": {
        "colab": {
          "base_uri": "https://localhost:8080/"
        },
        "id": "2GVjA2NiktBy",
        "outputId": "f310cab0-9e3e-47f3-b9d5-2d75323aa216"
      },
      "execution_count": null,
      "outputs": [
        {
          "output_type": "stream",
          "name": "stdout",
          "text": [
            "prediction                  0     1     2  total  support\n",
            "candidate    date                                        \n",
            "biden-kamala 2024-05-01  1196  2983  1607   5786   3098.5\n",
            "             2024-05-02  1184  2865  1562   5611   2994.5\n",
            "             2024-05-03  1269  2864  1730   5863   3162.0\n",
            "             2024-05-04   826  1874  1025   3725   1962.0\n",
            "             2024-05-05   708  1774   949   3431   1836.0\n"
          ]
        }
      ]
    },
    {
      "cell_type": "code",
      "source": [
        "prediction_counts_df['support_percentage'] = (prediction_counts_df['support'] / prediction_counts_df['total']) * 100\n",
        "print(prediction_counts_df[['support_percentage']].head())"
      ],
      "metadata": {
        "colab": {
          "base_uri": "https://localhost:8080/"
        },
        "id": "uqK-GFYplkYB",
        "outputId": "b53974bf-4c1d-474d-a0ae-f07841860ad8"
      },
      "execution_count": null,
      "outputs": [
        {
          "output_type": "stream",
          "name": "stdout",
          "text": [
            "prediction               support_percentage\n",
            "candidate    date                          \n",
            "biden-kamala 2024-05-01           53.551676\n",
            "             2024-05-02           53.368384\n",
            "             2024-05-03           53.931434\n",
            "             2024-05-04           52.671141\n",
            "             2024-05-05           53.512096\n"
          ]
        }
      ]
    },
    {
      "cell_type": "code",
      "source": [
        "prediction_counts_df = prediction_counts_df['support_percentage'].unstack(level='candidate')\n",
        "print(prediction_counts_df.head())"
      ],
      "metadata": {
        "colab": {
          "base_uri": "https://localhost:8080/"
        },
        "id": "_Yxma3i0jOTQ",
        "outputId": "076f1cab-55e5-41b7-f135-685d3144a7d7"
      },
      "execution_count": null,
      "outputs": [
        {
          "output_type": "stream",
          "name": "stdout",
          "text": [
            "candidate   biden-kamala      trump\n",
            "date                               \n",
            "2024-05-01     53.551676  56.969876\n",
            "2024-05-02     53.368384  56.931887\n",
            "2024-05-03     53.931434  55.445860\n",
            "2024-05-04     52.671141  54.272727\n",
            "2024-05-05     53.512096  53.292181\n"
          ]
        }
      ]
    },
    {
      "cell_type": "code",
      "source": [
        "# Filter out the days with less than 150 count\n",
        "prediction_counts_df = prediction_counts_df.loc[valid_dates]\n",
        "print(prediction_counts_df)"
      ],
      "metadata": {
        "colab": {
          "base_uri": "https://localhost:8080/"
        },
        "id": "eCukMdXnmZsP",
        "outputId": "117bc467-d12f-48a6-929e-ade93565581b"
      },
      "execution_count": null,
      "outputs": [
        {
          "output_type": "stream",
          "name": "stdout",
          "text": [
            "candidate   biden-kamala      trump\n",
            "date                               \n",
            "2024-05-01     53.551676  56.969876\n",
            "2024-05-02     53.368384  56.931887\n",
            "2024-05-03     53.931434  55.445860\n",
            "2024-05-04     52.671141  54.272727\n",
            "2024-05-05     53.512096  53.292181\n",
            "...                  ...        ...\n",
            "2024-11-26     52.414820  58.088489\n",
            "2024-11-27     52.547953  57.332293\n",
            "2024-11-28     56.009070  60.424448\n",
            "2024-11-29     54.237640  58.762717\n",
            "2024-11-30     53.162966  58.555446\n",
            "\n",
            "[186 rows x 2 columns]\n"
          ]
        }
      ]
    },
    {
      "cell_type": "code",
      "source": [
        "import matplotlib.pyplot as plt\n",
        "\n",
        "plt.figure(figsize=(12,6))\n",
        "for candidate in prediction_counts_df.columns:\n",
        "    plt.plot(prediction_counts_df.index, prediction_counts_df[candidate], marker='o', label=candidate)\n",
        "plt.xlabel(\"Date\")\n",
        "plt.ylabel(\"Support Percentage\")\n",
        "plt.title(\"Daily Candidate Support Percentage (Independent)\")\n",
        "plt.legend(title=\"Candidate\")\n",
        "plt.grid(True)\n",
        "plt.show()"
      ],
      "metadata": {
        "colab": {
          "base_uri": "https://localhost:8080/",
          "height": 564
        },
        "id": "-sAWT-9klyyQ",
        "outputId": "ed64a3a6-6a5a-48cc-e9a9-7ec0f5ea5896"
      },
      "execution_count": null,
      "outputs": [
        {
          "output_type": "display_data",
          "data": {
            "text/plain": [
              "<Figure size 1200x600 with 1 Axes>"
            ],
            "image/png": "[encoded data removed]"
          },
          "metadata": {}
        }
      ]
    }
  ]
}