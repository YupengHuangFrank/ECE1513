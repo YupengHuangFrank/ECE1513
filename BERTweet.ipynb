{
  "nbformat": 4,
  "nbformat_minor": 0,
  "metadata": {
    "colab": {
      "provenance": [],
      "machine_shape": "hm",
      "gpuType": "T4"
    },
    "kernelspec": {
      "name": "python3",
      "display_name": "Python 3"
    },
    "language_info": {
      "name": "python"
    },
    "accelerator": "GPU",
    "widgets": {
      "application/vnd.jupyter.widget-state+json": {
        "4e7eee87a610470a9ace8cb2793e39f8": {
          "model_module": "@jupyter-widgets/controls",
          "model_name": "HBoxModel",
          "model_module_version": "1.5.0",
          "state": {
            "_dom_classes": [],
            "_model_module": "@jupyter-widgets/controls",
            "_model_module_version": "1.5.0",
            "_model_name": "HBoxModel",
            "_view_count": null,
            "_view_module": "@jupyter-widgets/controls",
            "_view_module_version": "1.5.0",
            "_view_name": "HBoxView",
            "box_style": "",
            "children": [
              "IPY_MODEL_6247796c8708400aa4c2e27d02081442",
              "IPY_MODEL_40b73d01a910484db38da12a93b7a358",
              "IPY_MODEL_739214a3e80e44a99158191e36bf3590"
            ],
            "layout": "IPY_MODEL_1183ca134b1b4687ad948e6d03313c19"
          }
        },
        "6247796c8708400aa4c2e27d02081442": {
          "model_module": "@jupyter-widgets/controls",
          "model_name": "HTMLModel",
          "model_module_version": "1.5.0",
          "state": {
            "_dom_classes": [],
            "_model_module": "@jupyter-widgets/controls",
            "_model_module_version": "1.5.0",
            "_model_name": "HTMLModel",
            "_view_count": null,
            "_view_module": "@jupyter-widgets/controls",
            "_view_module_version": "1.5.0",
            "_view_name": "HTMLView",
            "description": "",
            "description_tooltip": null,
            "layout": "IPY_MODEL_d805259b61b6454ba73a8576959f47c8",
            "placeholder": "​",
            "style": "IPY_MODEL_267884298c5441698d1446d81f0ddf53",
            "value": "Map: 100%"
          }
        },
        "40b73d01a910484db38da12a93b7a358": {
          "model_module": "@jupyter-widgets/controls",
          "model_name": "FloatProgressModel",
          "model_module_version": "1.5.0",
          "state": {
            "_dom_classes": [],
            "_model_module": "@jupyter-widgets/controls",
            "_model_module_version": "1.5.0",
            "_model_name": "FloatProgressModel",
            "_view_count": null,
            "_view_module": "@jupyter-widgets/controls",
            "_view_module_version": "1.5.0",
            "_view_name": "ProgressView",
            "bar_style": "success",
            "description": "",
            "description_tooltip": null,
            "layout": "IPY_MODEL_09a2269a926541e0962f4f69841a1ae8",
            "max": 124586,
            "min": 0,
            "orientation": "horizontal",
            "style": "IPY_MODEL_6a8c1dbc972d4060b5c89e208be78e62",
            "value": 124586
          }
        },
        "739214a3e80e44a99158191e36bf3590": {
          "model_module": "@jupyter-widgets/controls",
          "model_name": "HTMLModel",
          "model_module_version": "1.5.0",
          "state": {
            "_dom_classes": [],
            "_model_module": "@jupyter-widgets/controls",
            "_model_module_version": "1.5.0",
            "_model_name": "HTMLModel",
            "_view_count": null,
            "_view_module": "@jupyter-widgets/controls",
            "_view_module_version": "1.5.0",
            "_view_name": "HTMLView",
            "description": "",
            "description_tooltip": null,
            "layout": "IPY_MODEL_c25794dd501343278281dc16637b0814",
            "placeholder": "​",
            "style": "IPY_MODEL_e8265eb1b37a4260800f1881900c5df6",
            "value": " 124586/124586 [00:40&lt;00:00, 3015.85 examples/s]"
          }
        },
        "1183ca134b1b4687ad948e6d03313c19": {
          "model_module": "@jupyter-widgets/base",
          "model_name": "LayoutModel",
          "model_module_version": "1.2.0",
          "state": {
            "_model_module": "@jupyter-widgets/base",
            "_model_module_version": "1.2.0",
            "_model_name": "LayoutModel",
            "_view_count": null,
            "_view_module": "@jupyter-widgets/base",
            "_view_module_version": "1.2.0",
            "_view_name": "LayoutView",
            "align_content": null,
            "align_items": null,
            "align_self": null,
            "border": null,
            "bottom": null,
            "display": null,
            "flex": null,
            "flex_flow": null,
            "grid_area": null,
            "grid_auto_columns": null,
            "grid_auto_flow": null,
            "grid_auto_rows": null,
            "grid_column": null,
            "grid_gap": null,
            "grid_row": null,
            "grid_template_areas": null,
            "grid_template_columns": null,
            "grid_template_rows": null,
            "height": null,
            "justify_content": null,
            "justify_items": null,
            "left": null,
            "margin": null,
            "max_height": null,
            "max_width": null,
            "min_height": null,
            "min_width": null,
            "object_fit": null,
            "object_position": null,
            "order": null,
            "overflow": null,
            "overflow_x": null,
            "overflow_y": null,
            "padding": null,
            "right": null,
            "top": null,
            "visibility": null,
            "width": null
          }
        },
        "d805259b61b6454ba73a8576959f47c8": {
          "model_module": "@jupyter-widgets/base",
          "model_name": "LayoutModel",
          "model_module_version": "1.2.0",
          "state": {
            "_model_module": "@jupyter-widgets/base",
            "_model_module_version": "1.2.0",
            "_model_name": "LayoutModel",
            "_view_count": null,
            "_view_module": "@jupyter-widgets/base",
            "_view_module_version": "1.2.0",
            "_view_name": "LayoutView",
            "align_content": null,
            "align_items": null,
            "align_self": null,
            "border": null,
            "bottom": null,
            "display": null,
            "flex": null,
            "flex_flow": null,
            "grid_area": null,
            "grid_auto_columns": null,
            "grid_auto_flow": null,
            "grid_auto_rows": null,
            "grid_column": null,
            "grid_gap": null,
            "grid_row": null,
            "grid_template_areas": null,
            "grid_template_columns": null,
            "grid_template_rows": null,
            "height": null,
            "justify_content": null,
            "justify_items": null,
            "left": null,
            "margin": null,
            "max_height": null,
            "max_width": null,
            "min_height": null,
            "min_width": null,
            "object_fit": null,
            "object_position": null,
            "order": null,
            "overflow": null,
            "overflow_x": null,
            "overflow_y": null,
            "padding": null,
            "right": null,
            "top": null,
            "visibility": null,
            "width": null
          }
        },
        "267884298c5441698d1446d81f0ddf53": {
          "model_module": "@jupyter-widgets/controls",
          "model_name": "DescriptionStyleModel",
          "model_module_version": "1.5.0",
          "state": {
            "_model_module": "@jupyter-widgets/controls",
            "_model_module_version": "1.5.0",
            "_model_name": "DescriptionStyleModel",
            "_view_count": null,
            "_view_module": "@jupyter-widgets/base",
            "_view_module_version": "1.2.0",
            "_view_name": "StyleView",
            "description_width": ""
          }
        },
        "09a2269a926541e0962f4f69841a1ae8": {
          "model_module": "@jupyter-widgets/base",
          "model_name": "LayoutModel",
          "model_module_version": "1.2.0",
          "state": {
            "_model_module": "@jupyter-widgets/base",
            "_model_module_version": "1.2.0",
            "_model_name": "LayoutModel",
            "_view_count": null,
            "_view_module": "@jupyter-widgets/base",
            "_view_module_version": "1.2.0",
            "_view_name": "LayoutView",
            "align_content": null,
            "align_items": null,
            "align_self": null,
            "border": null,
            "bottom": null,
            "display": null,
            "flex": null,
            "flex_flow": null,
            "grid_area": null,
            "grid_auto_columns": null,
            "grid_auto_flow": null,
            "grid_auto_rows": null,
            "grid_column": null,
            "grid_gap": null,
            "grid_row": null,
            "grid_template_areas": null,
            "grid_template_columns": null,
            "grid_template_rows": null,
            "height": null,
            "justify_content": null,
            "justify_items": null,
            "left": null,
            "margin": null,
            "max_height": null,
            "max_width": null,
            "min_height": null,
            "min_width": null,
            "object_fit": null,
            "object_position": null,
            "order": null,
            "overflow": null,
            "overflow_x": null,
            "overflow_y": null,
            "padding": null,
            "right": null,
            "top": null,
            "visibility": null,
            "width": null
          }
        },
        "6a8c1dbc972d4060b5c89e208be78e62": {
          "model_module": "@jupyter-widgets/controls",
          "model_name": "ProgressStyleModel",
          "model_module_version": "1.5.0",
          "state": {
            "_model_module": "@jupyter-widgets/controls",
            "_model_module_version": "1.5.0",
            "_model_name": "ProgressStyleModel",
            "_view_count": null,
            "_view_module": "@jupyter-widgets/base",
            "_view_module_version": "1.2.0",
            "_view_name": "StyleView",
            "bar_color": null,
            "description_width": ""
          }
        },
        "c25794dd501343278281dc16637b0814": {
          "model_module": "@jupyter-widgets/base",
          "model_name": "LayoutModel",
          "model_module_version": "1.2.0",
          "state": {
            "_model_module": "@jupyter-widgets/base",
            "_model_module_version": "1.2.0",
            "_model_name": "LayoutModel",
            "_view_count": null,
            "_view_module": "@jupyter-widgets/base",
            "_view_module_version": "1.2.0",
            "_view_name": "LayoutView",
            "align_content": null,
            "align_items": null,
            "align_self": null,
            "border": null,
            "bottom": null,
            "display": null,
            "flex": null,
            "flex_flow": null,
            "grid_area": null,
            "grid_auto_columns": null,
            "grid_auto_flow": null,
            "grid_auto_rows": null,
            "grid_column": null,
            "grid_gap": null,
            "grid_row": null,
            "grid_template_areas": null,
            "grid_template_columns": null,
            "grid_template_rows": null,
            "height": null,
            "justify_content": null,
            "justify_items": null,
            "left": null,
            "margin": null,
            "max_height": null,
            "max_width": null,
            "min_height": null,
            "min_width": null,
            "object_fit": null,
            "object_position": null,
            "order": null,
            "overflow": null,
            "overflow_x": null,
            "overflow_y": null,
            "padding": null,
            "right": null,
            "top": null,
            "visibility": null,
            "width": null
          }
        },
        "e8265eb1b37a4260800f1881900c5df6": {
          "model_module": "@jupyter-widgets/controls",
          "model_name": "DescriptionStyleModel",
          "model_module_version": "1.5.0",
          "state": {
            "_model_module": "@jupyter-widgets/controls",
            "_model_module_version": "1.5.0",
            "_model_name": "DescriptionStyleModel",
            "_view_count": null,
            "_view_module": "@jupyter-widgets/base",
            "_view_module_version": "1.2.0",
            "_view_name": "StyleView",
            "description_width": ""
          }
        },
        "f7839c671d2c4e3a83b43d1eec03dd78": {
          "model_module": "@jupyter-widgets/controls",
          "model_name": "HBoxModel",
          "model_module_version": "1.5.0",
          "state": {
            "_dom_classes": [],
            "_model_module": "@jupyter-widgets/controls",
            "_model_module_version": "1.5.0",
            "_model_name": "HBoxModel",
            "_view_count": null,
            "_view_module": "@jupyter-widgets/controls",
            "_view_module_version": "1.5.0",
            "_view_name": "HBoxView",
            "box_style": "",
            "children": [
              "IPY_MODEL_c112b62db27b4d15bb25c53da1720cdb",
              "IPY_MODEL_45bf456f608f4a4192d94d4bfaa195d1",
              "IPY_MODEL_7ce6ee4b656b4944adc4d43a65ee27c2"
            ],
            "layout": "IPY_MODEL_d9a7626e80ab4976a43c5e4fc373adb3"
          }
        },
        "c112b62db27b4d15bb25c53da1720cdb": {
          "model_module": "@jupyter-widgets/controls",
          "model_name": "HTMLModel",
          "model_module_version": "1.5.0",
          "state": {
            "_dom_classes": [],
            "_model_module": "@jupyter-widgets/controls",
            "_model_module_version": "1.5.0",
            "_model_name": "HTMLModel",
            "_view_count": null,
            "_view_module": "@jupyter-widgets/controls",
            "_view_module_version": "1.5.0",
            "_view_name": "HTMLView",
            "description": "",
            "description_tooltip": null,
            "layout": "IPY_MODEL_8b59117804594cd9ac46cfbaa0e21467",
            "placeholder": "​",
            "style": "IPY_MODEL_5cb0c3b0220b439ca3d7329b48042634",
            "value": "Map: 100%"
          }
        },
        "45bf456f608f4a4192d94d4bfaa195d1": {
          "model_module": "@jupyter-widgets/controls",
          "model_name": "FloatProgressModel",
          "model_module_version": "1.5.0",
          "state": {
            "_dom_classes": [],
            "_model_module": "@jupyter-widgets/controls",
            "_model_module_version": "1.5.0",
            "_model_name": "FloatProgressModel",
            "_view_count": null,
            "_view_module": "@jupyter-widgets/controls",
            "_view_module_version": "1.5.0",
            "_view_name": "ProgressView",
            "bar_style": "success",
            "description": "",
            "description_tooltip": null,
            "layout": "IPY_MODEL_71a3abb504f1432a92dbe376b6a1a772",
            "max": 124586,
            "min": 0,
            "orientation": "horizontal",
            "style": "IPY_MODEL_25b39a3d8b5f46f99149b6618dd47760",
            "value": 124586
          }
        },
        "7ce6ee4b656b4944adc4d43a65ee27c2": {
          "model_module": "@jupyter-widgets/controls",
          "model_name": "HTMLModel",
          "model_module_version": "1.5.0",
          "state": {
            "_dom_classes": [],
            "_model_module": "@jupyter-widgets/controls",
            "_model_module_version": "1.5.0",
            "_model_name": "HTMLModel",
            "_view_count": null,
            "_view_module": "@jupyter-widgets/controls",
            "_view_module_version": "1.5.0",
            "_view_name": "HTMLView",
            "description": "",
            "description_tooltip": null,
            "layout": "IPY_MODEL_100fa14c8f8345a3968548fb428a1782",
            "placeholder": "​",
            "style": "IPY_MODEL_4817122ac2774b3bab9e085908f43e74",
            "value": " 124586/124586 [00:38&lt;00:00, 3473.10 examples/s]"
          }
        },
        "d9a7626e80ab4976a43c5e4fc373adb3": {
          "model_module": "@jupyter-widgets/base",
          "model_name": "LayoutModel",
          "model_module_version": "1.2.0",
          "state": {
            "_model_module": "@jupyter-widgets/base",
            "_model_module_version": "1.2.0",
            "_model_name": "LayoutModel",
            "_view_count": null,
            "_view_module": "@jupyter-widgets/base",
            "_view_module_version": "1.2.0",
            "_view_name": "LayoutView",
            "align_content": null,
            "align_items": null,
            "align_self": null,
            "border": null,
            "bottom": null,
            "display": null,
            "flex": null,
            "flex_flow": null,
            "grid_area": null,
            "grid_auto_columns": null,
            "grid_auto_flow": null,
            "grid_auto_rows": null,
            "grid_column": null,
            "grid_gap": null,
            "grid_row": null,
            "grid_template_areas": null,
            "grid_template_columns": null,
            "grid_template_rows": null,
            "height": null,
            "justify_content": null,
            "justify_items": null,
            "left": null,
            "margin": null,
            "max_height": null,
            "max_width": null,
            "min_height": null,
            "min_width": null,
            "object_fit": null,
            "object_position": null,
            "order": null,
            "overflow": null,
            "overflow_x": null,
            "overflow_y": null,
            "padding": null,
            "right": null,
            "top": null,
            "visibility": null,
            "width": null
          }
        },
        "8b59117804594cd9ac46cfbaa0e21467": {
          "model_module": "@jupyter-widgets/base",
          "model_name": "LayoutModel",
          "model_module_version": "1.2.0",
          "state": {
            "_model_module": "@jupyter-widgets/base",
            "_model_module_version": "1.2.0",
            "_model_name": "LayoutModel",
            "_view_count": null,
            "_view_module": "@jupyter-widgets/base",
            "_view_module_version": "1.2.0",
            "_view_name": "LayoutView",
            "align_content": null,
            "align_items": null,
            "align_self": null,
            "border": null,
            "bottom": null,
            "display": null,
            "flex": null,
            "flex_flow": null,
            "grid_area": null,
            "grid_auto_columns": null,
            "grid_auto_flow": null,
            "grid_auto_rows": null,
            "grid_column": null,
            "grid_gap": null,
            "grid_row": null,
            "grid_template_areas": null,
            "grid_template_columns": null,
            "grid_template_rows": null,
            "height": null,
            "justify_content": null,
            "justify_items": null,
            "left": null,
            "margin": null,
            "max_height": null,
            "max_width": null,
            "min_height": null,
            "min_width": null,
            "object_fit": null,
            "object_position": null,
            "order": null,
            "overflow": null,
            "overflow_x": null,
            "overflow_y": null,
            "padding": null,
            "right": null,
            "top": null,
            "visibility": null,
            "width": null
          }
        },
        "5cb0c3b0220b439ca3d7329b48042634": {
          "model_module": "@jupyter-widgets/controls",
          "model_name": "DescriptionStyleModel",
          "model_module_version": "1.5.0",
          "state": {
            "_model_module": "@jupyter-widgets/controls",
            "_model_module_version": "1.5.0",
            "_model_name": "DescriptionStyleModel",
            "_view_count": null,
            "_view_module": "@jupyter-widgets/base",
            "_view_module_version": "1.2.0",
            "_view_name": "StyleView",
            "description_width": ""
          }
        },
        "71a3abb504f1432a92dbe376b6a1a772": {
          "model_module": "@jupyter-widgets/base",
          "model_name": "LayoutModel",
          "model_module_version": "1.2.0",
          "state": {
            "_model_module": "@jupyter-widgets/base",
            "_model_module_version": "1.2.0",
            "_model_name": "LayoutModel",
            "_view_count": null,
            "_view_module": "@jupyter-widgets/base",
            "_view_module_version": "1.2.0",
            "_view_name": "LayoutView",
            "align_content": null,
            "align_items": null,
            "align_self": null,
            "border": null,
            "bottom": null,
            "display": null,
            "flex": null,
            "flex_flow": null,
            "grid_area": null,
            "grid_auto_columns": null,
            "grid_auto_flow": null,
            "grid_auto_rows": null,
            "grid_column": null,
            "grid_gap": null,
            "grid_row": null,
            "grid_template_areas": null,
            "grid_template_columns": null,
            "grid_template_rows": null,
            "height": null,
            "justify_content": null,
            "justify_items": null,
            "left": null,
            "margin": null,
            "max_height": null,
            "max_width": null,
            "min_height": null,
            "min_width": null,
            "object_fit": null,
            "object_position": null,
            "order": null,
            "overflow": null,
            "overflow_x": null,
            "overflow_y": null,
            "padding": null,
            "right": null,
            "top": null,
            "visibility": null,
            "width": null
          }
        },
        "25b39a3d8b5f46f99149b6618dd47760": {
          "model_module": "@jupyter-widgets/controls",
          "model_name": "ProgressStyleModel",
          "model_module_version": "1.5.0",
          "state": {
            "_model_module": "@jupyter-widgets/controls",
            "_model_module_version": "1.5.0",
            "_model_name": "ProgressStyleModel",
            "_view_count": null,
            "_view_module": "@jupyter-widgets/base",
            "_view_module_version": "1.2.0",
            "_view_name": "StyleView",
            "bar_color": null,
            "description_width": ""
          }
        },
        "100fa14c8f8345a3968548fb428a1782": {
          "model_module": "@jupyter-widgets/base",
          "model_name": "LayoutModel",
          "model_module_version": "1.2.0",
          "state": {
            "_model_module": "@jupyter-widgets/base",
            "_model_module_version": "1.2.0",
            "_model_name": "LayoutModel",
            "_view_count": null,
            "_view_module": "@jupyter-widgets/base",
            "_view_module_version": "1.2.0",
            "_view_name": "LayoutView",
            "align_content": null,
            "align_items": null,
            "align_self": null,
            "border": null,
            "bottom": null,
            "display": null,
            "flex": null,
            "flex_flow": null,
            "grid_area": null,
            "grid_auto_columns": null,
            "grid_auto_flow": null,
            "grid_auto_rows": null,
            "grid_column": null,
            "grid_gap": null,
            "grid_row": null,
            "grid_template_areas": null,
            "grid_template_columns": null,
            "grid_template_rows": null,
            "height": null,
            "justify_content": null,
            "justify_items": null,
            "left": null,
            "margin": null,
            "max_height": null,
            "max_width": null,
            "min_height": null,
            "min_width": null,
            "object_fit": null,
            "object_position": null,
            "order": null,
            "overflow": null,
            "overflow_x": null,
            "overflow_y": null,
            "padding": null,
            "right": null,
            "top": null,
            "visibility": null,
            "width": null
          }
        },
        "4817122ac2774b3bab9e085908f43e74": {
          "model_module": "@jupyter-widgets/controls",
          "model_name": "DescriptionStyleModel",
          "model_module_version": "1.5.0",
          "state": {
            "_model_module": "@jupyter-widgets/controls",
            "_model_module_version": "1.5.0",
            "_model_name": "DescriptionStyleModel",
            "_view_count": null,
            "_view_module": "@jupyter-widgets/base",
            "_view_module_version": "1.2.0",
            "_view_name": "StyleView",
            "description_width": ""
          }
        },
        "f5bf0cb76a224bf7b412588c0eac4fb1": {
          "model_module": "@jupyter-widgets/controls",
          "model_name": "HBoxModel",
          "model_module_version": "1.5.0",
          "state": {
            "_dom_classes": [],
            "_model_module": "@jupyter-widgets/controls",
            "_model_module_version": "1.5.0",
            "_model_name": "HBoxModel",
            "_view_count": null,
            "_view_module": "@jupyter-widgets/controls",
            "_view_module_version": "1.5.0",
            "_view_name": "HBoxView",
            "box_style": "",
            "children": [
              "IPY_MODEL_979ffc09395b4a4393986b5e989ae8ed",
              "IPY_MODEL_a1346f7c7f794429ae30061cef61ff98",
              "IPY_MODEL_bcc31b1af86241cdba09f16aeb58439a"
            ],
            "layout": "IPY_MODEL_63b8c8ff414544bc8434da909ef6c695"
          }
        },
        "979ffc09395b4a4393986b5e989ae8ed": {
          "model_module": "@jupyter-widgets/controls",
          "model_name": "HTMLModel",
          "model_module_version": "1.5.0",
          "state": {
            "_dom_classes": [],
            "_model_module": "@jupyter-widgets/controls",
            "_model_module_version": "1.5.0",
            "_model_name": "HTMLModel",
            "_view_count": null,
            "_view_module": "@jupyter-widgets/controls",
            "_view_module_version": "1.5.0",
            "_view_name": "HTMLView",
            "description": "",
            "description_tooltip": null,
            "layout": "IPY_MODEL_fd87f5c7fe1343939b3866320290ffb6",
            "placeholder": "​",
            "style": "IPY_MODEL_0175c8db5f874d258b45ddd771ebc93f",
            "value": "Flattening the indices: 100%"
          }
        },
        "a1346f7c7f794429ae30061cef61ff98": {
          "model_module": "@jupyter-widgets/controls",
          "model_name": "FloatProgressModel",
          "model_module_version": "1.5.0",
          "state": {
            "_dom_classes": [],
            "_model_module": "@jupyter-widgets/controls",
            "_model_module_version": "1.5.0",
            "_model_name": "FloatProgressModel",
            "_view_count": null,
            "_view_module": "@jupyter-widgets/controls",
            "_view_module_version": "1.5.0",
            "_view_name": "ProgressView",
            "bar_style": "success",
            "description": "",
            "description_tooltip": null,
            "layout": "IPY_MODEL_842282ff85134fbf92a482555573015e",
            "max": 24000,
            "min": 0,
            "orientation": "horizontal",
            "style": "IPY_MODEL_e858527a84f640719eda0a5813ff366b",
            "value": 24000
          }
        },
        "bcc31b1af86241cdba09f16aeb58439a": {
          "model_module": "@jupyter-widgets/controls",
          "model_name": "HTMLModel",
          "model_module_version": "1.5.0",
          "state": {
            "_dom_classes": [],
            "_model_module": "@jupyter-widgets/controls",
            "_model_module_version": "1.5.0",
            "_model_name": "HTMLModel",
            "_view_count": null,
            "_view_module": "@jupyter-widgets/controls",
            "_view_module_version": "1.5.0",
            "_view_name": "HTMLView",
            "description": "",
            "description_tooltip": null,
            "layout": "IPY_MODEL_05b34f1de3f84dc2aa0c9d2dd52f6b8b",
            "placeholder": "​",
            "style": "IPY_MODEL_b19c65516df6475eb9a87d6258a3a71a",
            "value": " 24000/24000 [00:01&lt;00:00, 18494.91 examples/s]"
          }
        },
        "63b8c8ff414544bc8434da909ef6c695": {
          "model_module": "@jupyter-widgets/base",
          "model_name": "LayoutModel",
          "model_module_version": "1.2.0",
          "state": {
            "_model_module": "@jupyter-widgets/base",
            "_model_module_version": "1.2.0",
            "_model_name": "LayoutModel",
            "_view_count": null,
            "_view_module": "@jupyter-widgets/base",
            "_view_module_version": "1.2.0",
            "_view_name": "LayoutView",
            "align_content": null,
            "align_items": null,
            "align_self": null,
            "border": null,
            "bottom": null,
            "display": null,
            "flex": null,
            "flex_flow": null,
            "grid_area": null,
            "grid_auto_columns": null,
            "grid_auto_flow": null,
            "grid_auto_rows": null,
            "grid_column": null,
            "grid_gap": null,
            "grid_row": null,
            "grid_template_areas": null,
            "grid_template_columns": null,
            "grid_template_rows": null,
            "height": null,
            "justify_content": null,
            "justify_items": null,
            "left": null,
            "margin": null,
            "max_height": null,
            "max_width": null,
            "min_height": null,
            "min_width": null,
            "object_fit": null,
            "object_position": null,
            "order": null,
            "overflow": null,
            "overflow_x": null,
            "overflow_y": null,
            "padding": null,
            "right": null,
            "top": null,
            "visibility": null,
            "width": null
          }
        },
        "fd87f5c7fe1343939b3866320290ffb6": {
          "model_module": "@jupyter-widgets/base",
          "model_name": "LayoutModel",
          "model_module_version": "1.2.0",
          "state": {
            "_model_module": "@jupyter-widgets/base",
            "_model_module_version": "1.2.0",
            "_model_name": "LayoutModel",
            "_view_count": null,
            "_view_module": "@jupyter-widgets/base",
            "_view_module_version": "1.2.0",
            "_view_name": "LayoutView",
            "align_content": null,
            "align_items": null,
            "align_self": null,
            "border": null,
            "bottom": null,
            "display": null,
            "flex": null,
            "flex_flow": null,
            "grid_area": null,
            "grid_auto_columns": null,
            "grid_auto_flow": null,
            "grid_auto_rows": null,
            "grid_column": null,
            "grid_gap": null,
            "grid_row": null,
            "grid_template_areas": null,
            "grid_template_columns": null,
            "grid_template_rows": null,
            "height": null,
            "justify_content": null,
            "justify_items": null,
            "left": null,
            "margin": null,
            "max_height": null,
            "max_width": null,
            "min_height": null,
            "min_width": null,
            "object_fit": null,
            "object_position": null,
            "order": null,
            "overflow": null,
            "overflow_x": null,
            "overflow_y": null,
            "padding": null,
            "right": null,
            "top": null,
            "visibility": null,
            "width": null
          }
        },
        "0175c8db5f874d258b45ddd771ebc93f": {
          "model_module": "@jupyter-widgets/controls",
          "model_name": "DescriptionStyleModel",
          "model_module_version": "1.5.0",
          "state": {
            "_model_module": "@jupyter-widgets/controls",
            "_model_module_version": "1.5.0",
            "_model_name": "DescriptionStyleModel",
            "_view_count": null,
            "_view_module": "@jupyter-widgets/base",
            "_view_module_version": "1.2.0",
            "_view_name": "StyleView",
            "description_width": ""
          }
        },
        "842282ff85134fbf92a482555573015e": {
          "model_module": "@jupyter-widgets/base",
          "model_name": "LayoutModel",
          "model_module_version": "1.2.0",
          "state": {
            "_model_module": "@jupyter-widgets/base",
            "_model_module_version": "1.2.0",
            "_model_name": "LayoutModel",
            "_view_count": null,
            "_view_module": "@jupyter-widgets/base",
            "_view_module_version": "1.2.0",
            "_view_name": "LayoutView",
            "align_content": null,
            "align_items": null,
            "align_self": null,
            "border": null,
            "bottom": null,
            "display": null,
            "flex": null,
            "flex_flow": null,
            "grid_area": null,
            "grid_auto_columns": null,
            "grid_auto_flow": null,
            "grid_auto_rows": null,
            "grid_column": null,
            "grid_gap": null,
            "grid_row": null,
            "grid_template_areas": null,
            "grid_template_columns": null,
            "grid_template_rows": null,
            "height": null,
            "justify_content": null,
            "justify_items": null,
            "left": null,
            "margin": null,
            "max_height": null,
            "max_width": null,
            "min_height": null,
            "min_width": null,
            "object_fit": null,
            "object_position": null,
            "order": null,
            "overflow": null,
            "overflow_x": null,
            "overflow_y": null,
            "padding": null,
            "right": null,
            "top": null,
            "visibility": null,
            "width": null
          }
        },
        "e858527a84f640719eda0a5813ff366b": {
          "model_module": "@jupyter-widgets/controls",
          "model_name": "ProgressStyleModel",
          "model_module_version": "1.5.0",
          "state": {
            "_model_module": "@jupyter-widgets/controls",
            "_model_module_version": "1.5.0",
            "_model_name": "ProgressStyleModel",
            "_view_count": null,
            "_view_module": "@jupyter-widgets/base",
            "_view_module_version": "1.2.0",
            "_view_name": "StyleView",
            "bar_color": null,
            "description_width": ""
          }
        },
        "05b34f1de3f84dc2aa0c9d2dd52f6b8b": {
          "model_module": "@jupyter-widgets/base",
          "model_name": "LayoutModel",
          "model_module_version": "1.2.0",
          "state": {
            "_model_module": "@jupyter-widgets/base",
            "_model_module_version": "1.2.0",
            "_model_name": "LayoutModel",
            "_view_count": null,
            "_view_module": "@jupyter-widgets/base",
            "_view_module_version": "1.2.0",
            "_view_name": "LayoutView",
            "align_content": null,
            "align_items": null,
            "align_self": null,
            "border": null,
            "bottom": null,
            "display": null,
            "flex": null,
            "flex_flow": null,
            "grid_area": null,
            "grid_auto_columns": null,
            "grid_auto_flow": null,
            "grid_auto_rows": null,
            "grid_column": null,
            "grid_gap": null,
            "grid_row": null,
            "grid_template_areas": null,
            "grid_template_columns": null,
            "grid_template_rows": null,
            "height": null,
            "justify_content": null,
            "justify_items": null,
            "left": null,
            "margin": null,
            "max_height": null,
            "max_width": null,
            "min_height": null,
            "min_width": null,
            "object_fit": null,
            "object_position": null,
            "order": null,
            "overflow": null,
            "overflow_x": null,
            "overflow_y": null,
            "padding": null,
            "right": null,
            "top": null,
            "visibility": null,
            "width": null
          }
        },
        "b19c65516df6475eb9a87d6258a3a71a": {
          "model_module": "@jupyter-widgets/controls",
          "model_name": "DescriptionStyleModel",
          "model_module_version": "1.5.0",
          "state": {
            "_model_module": "@jupyter-widgets/controls",
            "_model_module_version": "1.5.0",
            "_model_name": "DescriptionStyleModel",
            "_view_count": null,
            "_view_module": "@jupyter-widgets/base",
            "_view_module_version": "1.2.0",
            "_view_name": "StyleView",
            "description_width": ""
          }
        },
        "f50c2d15a2f741ea95eea7dda49bfaa5": {
          "model_module": "@jupyter-widgets/controls",
          "model_name": "HBoxModel",
          "model_module_version": "1.5.0",
          "state": {
            "_dom_classes": [],
            "_model_module": "@jupyter-widgets/controls",
            "_model_module_version": "1.5.0",
            "_model_name": "HBoxModel",
            "_view_count": null,
            "_view_module": "@jupyter-widgets/controls",
            "_view_module_version": "1.5.0",
            "_view_name": "HBoxView",
            "box_style": "",
            "children": [
              "IPY_MODEL_9e6c3b6fe7a241abbaf9ecfb337abe35",
              "IPY_MODEL_8e3b5dc55d4c4d44b39ff75cdc632d34",
              "IPY_MODEL_466b38d32309470dafae1d415380d2ad"
            ],
            "layout": "IPY_MODEL_4d9968b7989f46b29544dd80df602ce4"
          }
        },
        "9e6c3b6fe7a241abbaf9ecfb337abe35": {
          "model_module": "@jupyter-widgets/controls",
          "model_name": "HTMLModel",
          "model_module_version": "1.5.0",
          "state": {
            "_dom_classes": [],
            "_model_module": "@jupyter-widgets/controls",
            "_model_module_version": "1.5.0",
            "_model_name": "HTMLModel",
            "_view_count": null,
            "_view_module": "@jupyter-widgets/controls",
            "_view_module_version": "1.5.0",
            "_view_name": "HTMLView",
            "description": "",
            "description_tooltip": null,
            "layout": "IPY_MODEL_14c74f31e73d465aa6232bee1051ba30",
            "placeholder": "​",
            "style": "IPY_MODEL_0f04d84772244028b15e628555f2192a",
            "value": "Flattening the indices: 100%"
          }
        },
        "8e3b5dc55d4c4d44b39ff75cdc632d34": {
          "model_module": "@jupyter-widgets/controls",
          "model_name": "FloatProgressModel",
          "model_module_version": "1.5.0",
          "state": {
            "_dom_classes": [],
            "_model_module": "@jupyter-widgets/controls",
            "_model_module_version": "1.5.0",
            "_model_name": "FloatProgressModel",
            "_view_count": null,
            "_view_module": "@jupyter-widgets/controls",
            "_view_module_version": "1.5.0",
            "_view_name": "ProgressView",
            "bar_style": "success",
            "description": "",
            "description_tooltip": null,
            "layout": "IPY_MODEL_efef5ceed5fb41279e6b09e471320c40",
            "max": 6000,
            "min": 0,
            "orientation": "horizontal",
            "style": "IPY_MODEL_b19e0473105d43209a7fe51c7206d5d0",
            "value": 6000
          }
        },
        "466b38d32309470dafae1d415380d2ad": {
          "model_module": "@jupyter-widgets/controls",
          "model_name": "HTMLModel",
          "model_module_version": "1.5.0",
          "state": {
            "_dom_classes": [],
            "_model_module": "@jupyter-widgets/controls",
            "_model_module_version": "1.5.0",
            "_model_name": "HTMLModel",
            "_view_count": null,
            "_view_module": "@jupyter-widgets/controls",
            "_view_module_version": "1.5.0",
            "_view_name": "HTMLView",
            "description": "",
            "description_tooltip": null,
            "layout": "IPY_MODEL_98be267b6fa844b6b21db41380e598dc",
            "placeholder": "​",
            "style": "IPY_MODEL_78afb5ed157c456c8ee2f7c7b7d06175",
            "value": " 6000/6000 [00:00&lt;00:00, 18993.86 examples/s]"
          }
        },
        "4d9968b7989f46b29544dd80df602ce4": {
          "model_module": "@jupyter-widgets/base",
          "model_name": "LayoutModel",
          "model_module_version": "1.2.0",
          "state": {
            "_model_module": "@jupyter-widgets/base",
            "_model_module_version": "1.2.0",
            "_model_name": "LayoutModel",
            "_view_count": null,
            "_view_module": "@jupyter-widgets/base",
            "_view_module_version": "1.2.0",
            "_view_name": "LayoutView",
            "align_content": null,
            "align_items": null,
            "align_self": null,
            "border": null,
            "bottom": null,
            "display": null,
            "flex": null,
            "flex_flow": null,
            "grid_area": null,
            "grid_auto_columns": null,
            "grid_auto_flow": null,
            "grid_auto_rows": null,
            "grid_column": null,
            "grid_gap": null,
            "grid_row": null,
            "grid_template_areas": null,
            "grid_template_columns": null,
            "grid_template_rows": null,
            "height": null,
            "justify_content": null,
            "justify_items": null,
            "left": null,
            "margin": null,
            "max_height": null,
            "max_width": null,
            "min_height": null,
            "min_width": null,
            "object_fit": null,
            "object_position": null,
            "order": null,
            "overflow": null,
            "overflow_x": null,
            "overflow_y": null,
            "padding": null,
            "right": null,
            "top": null,
            "visibility": null,
            "width": null
          }
        },
        "14c74f31e73d465aa6232bee1051ba30": {
          "model_module": "@jupyter-widgets/base",
          "model_name": "LayoutModel",
          "model_module_version": "1.2.0",
          "state": {
            "_model_module": "@jupyter-widgets/base",
            "_model_module_version": "1.2.0",
            "_model_name": "LayoutModel",
            "_view_count": null,
            "_view_module": "@jupyter-widgets/base",
            "_view_module_version": "1.2.0",
            "_view_name": "LayoutView",
            "align_content": null,
            "align_items": null,
            "align_self": null,
            "border": null,
            "bottom": null,
            "display": null,
            "flex": null,
            "flex_flow": null,
            "grid_area": null,
            "grid_auto_columns": null,
            "grid_auto_flow": null,
            "grid_auto_rows": null,
            "grid_column": null,
            "grid_gap": null,
            "grid_row": null,
            "grid_template_areas": null,
            "grid_template_columns": null,
            "grid_template_rows": null,
            "height": null,
            "justify_content": null,
            "justify_items": null,
            "left": null,
            "margin": null,
            "max_height": null,
            "max_width": null,
            "min_height": null,
            "min_width": null,
            "object_fit": null,
            "object_position": null,
            "order": null,
            "overflow": null,
            "overflow_x": null,
            "overflow_y": null,
            "padding": null,
            "right": null,
            "top": null,
            "visibility": null,
            "width": null
          }
        },
        "0f04d84772244028b15e628555f2192a": {
          "model_module": "@jupyter-widgets/controls",
          "model_name": "DescriptionStyleModel",
          "model_module_version": "1.5.0",
          "state": {
            "_model_module": "@jupyter-widgets/controls",
            "_model_module_version": "1.5.0",
            "_model_name": "DescriptionStyleModel",
            "_view_count": null,
            "_view_module": "@jupyter-widgets/base",
            "_view_module_version": "1.2.0",
            "_view_name": "StyleView",
            "description_width": ""
          }
        },
        "efef5ceed5fb41279e6b09e471320c40": {
          "model_module": "@jupyter-widgets/base",
          "model_name": "LayoutModel",
          "model_module_version": "1.2.0",
          "state": {
            "_model_module": "@jupyter-widgets/base",
            "_model_module_version": "1.2.0",
            "_model_name": "LayoutModel",
            "_view_count": null,
            "_view_module": "@jupyter-widgets/base",
            "_view_module_version": "1.2.0",
            "_view_name": "LayoutView",
            "align_content": null,
            "align_items": null,
            "align_self": null,
            "border": null,
            "bottom": null,
            "display": null,
            "flex": null,
            "flex_flow": null,
            "grid_area": null,
            "grid_auto_columns": null,
            "grid_auto_flow": null,
            "grid_auto_rows": null,
            "grid_column": null,
            "grid_gap": null,
            "grid_row": null,
            "grid_template_areas": null,
            "grid_template_columns": null,
            "grid_template_rows": null,
            "height": null,
            "justify_content": null,
            "justify_items": null,
            "left": null,
            "margin": null,
            "max_height": null,
            "max_width": null,
            "min_height": null,
            "min_width": null,
            "object_fit": null,
            "object_position": null,
            "order": null,
            "overflow": null,
            "overflow_x": null,
            "overflow_y": null,
            "padding": null,
            "right": null,
            "top": null,
            "visibility": null,
            "width": null
          }
        },
        "b19e0473105d43209a7fe51c7206d5d0": {
          "model_module": "@jupyter-widgets/controls",
          "model_name": "ProgressStyleModel",
          "model_module_version": "1.5.0",
          "state": {
            "_model_module": "@jupyter-widgets/controls",
            "_model_module_version": "1.5.0",
            "_model_name": "ProgressStyleModel",
            "_view_count": null,
            "_view_module": "@jupyter-widgets/base",
            "_view_module_version": "1.2.0",
            "_view_name": "StyleView",
            "bar_color": null,
            "description_width": ""
          }
        },
        "98be267b6fa844b6b21db41380e598dc": {
          "model_module": "@jupyter-widgets/base",
          "model_name": "LayoutModel",
          "model_module_version": "1.2.0",
          "state": {
            "_model_module": "@jupyter-widgets/base",
            "_model_module_version": "1.2.0",
            "_model_name": "LayoutModel",
            "_view_count": null,
            "_view_module": "@jupyter-widgets/base",
            "_view_module_version": "1.2.0",
            "_view_name": "LayoutView",
            "align_content": null,
            "align_items": null,
            "align_self": null,
            "border": null,
            "bottom": null,
            "display": null,
            "flex": null,
            "flex_flow": null,
            "grid_area": null,
            "grid_auto_columns": null,
            "grid_auto_flow": null,
            "grid_auto_rows": null,
            "grid_column": null,
            "grid_gap": null,
            "grid_row": null,
            "grid_template_areas": null,
            "grid_template_columns": null,
            "grid_template_rows": null,
            "height": null,
            "justify_content": null,
            "justify_items": null,
            "left": null,
            "margin": null,
            "max_height": null,
            "max_width": null,
            "min_height": null,
            "min_width": null,
            "object_fit": null,
            "object_position": null,
            "order": null,
            "overflow": null,
            "overflow_x": null,
            "overflow_y": null,
            "padding": null,
            "right": null,
            "top": null,
            "visibility": null,
            "width": null
          }
        },
        "78afb5ed157c456c8ee2f7c7b7d06175": {
          "model_module": "@jupyter-widgets/controls",
          "model_name": "DescriptionStyleModel",
          "model_module_version": "1.5.0",
          "state": {
            "_model_module": "@jupyter-widgets/controls",
            "_model_module_version": "1.5.0",
            "_model_name": "DescriptionStyleModel",
            "_view_count": null,
            "_view_module": "@jupyter-widgets/base",
            "_view_module_version": "1.2.0",
            "_view_name": "StyleView",
            "description_width": ""
          }
        },
        "ec4d809e2599472eb595a81dbed4b5a5": {
          "model_module": "@jupyter-widgets/controls",
          "model_name": "HBoxModel",
          "model_module_version": "1.5.0",
          "state": {
            "_dom_classes": [],
            "_model_module": "@jupyter-widgets/controls",
            "_model_module_version": "1.5.0",
            "_model_name": "HBoxModel",
            "_view_count": null,
            "_view_module": "@jupyter-widgets/controls",
            "_view_module_version": "1.5.0",
            "_view_name": "HBoxView",
            "box_style": "",
            "children": [
              "IPY_MODEL_84a32c44ddc3445d986c2ea312452b4d",
              "IPY_MODEL_0a668e64eecd4f6697072f3eb9e12a85",
              "IPY_MODEL_f7a3837f47c8470c8fbaf57bb63dd356"
            ],
            "layout": "IPY_MODEL_250df28180764cb481424141672bff49"
          }
        },
        "84a32c44ddc3445d986c2ea312452b4d": {
          "model_module": "@jupyter-widgets/controls",
          "model_name": "HTMLModel",
          "model_module_version": "1.5.0",
          "state": {
            "_dom_classes": [],
            "_model_module": "@jupyter-widgets/controls",
            "_model_module_version": "1.5.0",
            "_model_name": "HTMLModel",
            "_view_count": null,
            "_view_module": "@jupyter-widgets/controls",
            "_view_module_version": "1.5.0",
            "_view_name": "HTMLView",
            "description": "",
            "description_tooltip": null,
            "layout": "IPY_MODEL_e5665b088713465181c23c142ba3e2db",
            "placeholder": "​",
            "style": "IPY_MODEL_3aeb24114e0b439cbe3a7462d49dcd76",
            "value": "Map: 100%"
          }
        },
        "0a668e64eecd4f6697072f3eb9e12a85": {
          "model_module": "@jupyter-widgets/controls",
          "model_name": "FloatProgressModel",
          "model_module_version": "1.5.0",
          "state": {
            "_dom_classes": [],
            "_model_module": "@jupyter-widgets/controls",
            "_model_module_version": "1.5.0",
            "_model_name": "FloatProgressModel",
            "_view_count": null,
            "_view_module": "@jupyter-widgets/controls",
            "_view_module_version": "1.5.0",
            "_view_name": "ProgressView",
            "bar_style": "success",
            "description": "",
            "description_tooltip": null,
            "layout": "IPY_MODEL_65d73fe627ae43b68148d545b5b312f7",
            "max": 369772,
            "min": 0,
            "orientation": "horizontal",
            "style": "IPY_MODEL_c9986cae130445c18746d5c71d05bb9a",
            "value": 369772
          }
        },
        "f7a3837f47c8470c8fbaf57bb63dd356": {
          "model_module": "@jupyter-widgets/controls",
          "model_name": "HTMLModel",
          "model_module_version": "1.5.0",
          "state": {
            "_dom_classes": [],
            "_model_module": "@jupyter-widgets/controls",
            "_model_module_version": "1.5.0",
            "_model_name": "HTMLModel",
            "_view_count": null,
            "_view_module": "@jupyter-widgets/controls",
            "_view_module_version": "1.5.0",
            "_view_name": "HTMLView",
            "description": "",
            "description_tooltip": null,
            "layout": "IPY_MODEL_5fe69f77cfb44012a3b373d51bd3a937",
            "placeholder": "​",
            "style": "IPY_MODEL_19cc2afb5475402b87acd1aa8884a9e8",
            "value": " 369772/369772 [01:58&lt;00:00, 3254.80 examples/s]"
          }
        },
        "250df28180764cb481424141672bff49": {
          "model_module": "@jupyter-widgets/base",
          "model_name": "LayoutModel",
          "model_module_version": "1.2.0",
          "state": {
            "_model_module": "@jupyter-widgets/base",
            "_model_module_version": "1.2.0",
            "_model_name": "LayoutModel",
            "_view_count": null,
            "_view_module": "@jupyter-widgets/base",
            "_view_module_version": "1.2.0",
            "_view_name": "LayoutView",
            "align_content": null,
            "align_items": null,
            "align_self": null,
            "border": null,
            "bottom": null,
            "display": null,
            "flex": null,
            "flex_flow": null,
            "grid_area": null,
            "grid_auto_columns": null,
            "grid_auto_flow": null,
            "grid_auto_rows": null,
            "grid_column": null,
            "grid_gap": null,
            "grid_row": null,
            "grid_template_areas": null,
            "grid_template_columns": null,
            "grid_template_rows": null,
            "height": null,
            "justify_content": null,
            "justify_items": null,
            "left": null,
            "margin": null,
            "max_height": null,
            "max_width": null,
            "min_height": null,
            "min_width": null,
            "object_fit": null,
            "object_position": null,
            "order": null,
            "overflow": null,
            "overflow_x": null,
            "overflow_y": null,
            "padding": null,
            "right": null,
            "top": null,
            "visibility": null,
            "width": null
          }
        },
        "e5665b088713465181c23c142ba3e2db": {
          "model_module": "@jupyter-widgets/base",
          "model_name": "LayoutModel",
          "model_module_version": "1.2.0",
          "state": {
            "_model_module": "@jupyter-widgets/base",
            "_model_module_version": "1.2.0",
            "_model_name": "LayoutModel",
            "_view_count": null,
            "_view_module": "@jupyter-widgets/base",
            "_view_module_version": "1.2.0",
            "_view_name": "LayoutView",
            "align_content": null,
            "align_items": null,
            "align_self": null,
            "border": null,
            "bottom": null,
            "display": null,
            "flex": null,
            "flex_flow": null,
            "grid_area": null,
            "grid_auto_columns": null,
            "grid_auto_flow": null,
            "grid_auto_rows": null,
            "grid_column": null,
            "grid_gap": null,
            "grid_row": null,
            "grid_template_areas": null,
            "grid_template_columns": null,
            "grid_template_rows": null,
            "height": null,
            "justify_content": null,
            "justify_items": null,
            "left": null,
            "margin": null,
            "max_height": null,
            "max_width": null,
            "min_height": null,
            "min_width": null,
            "object_fit": null,
            "object_position": null,
            "order": null,
            "overflow": null,
            "overflow_x": null,
            "overflow_y": null,
            "padding": null,
            "right": null,
            "top": null,
            "visibility": null,
            "width": null
          }
        },
        "3aeb24114e0b439cbe3a7462d49dcd76": {
          "model_module": "@jupyter-widgets/controls",
          "model_name": "DescriptionStyleModel",
          "model_module_version": "1.5.0",
          "state": {
            "_model_module": "@jupyter-widgets/controls",
            "_model_module_version": "1.5.0",
            "_model_name": "DescriptionStyleModel",
            "_view_count": null,
            "_view_module": "@jupyter-widgets/base",
            "_view_module_version": "1.2.0",
            "_view_name": "StyleView",
            "description_width": ""
          }
        },
        "65d73fe627ae43b68148d545b5b312f7": {
          "model_module": "@jupyter-widgets/base",
          "model_name": "LayoutModel",
          "model_module_version": "1.2.0",
          "state": {
            "_model_module": "@jupyter-widgets/base",
            "_model_module_version": "1.2.0",
            "_model_name": "LayoutModel",
            "_view_count": null,
            "_view_module": "@jupyter-widgets/base",
            "_view_module_version": "1.2.0",
            "_view_name": "LayoutView",
            "align_content": null,
            "align_items": null,
            "align_self": null,
            "border": null,
            "bottom": null,
            "display": null,
            "flex": null,
            "flex_flow": null,
            "grid_area": null,
            "grid_auto_columns": null,
            "grid_auto_flow": null,
            "grid_auto_rows": null,
            "grid_column": null,
            "grid_gap": null,
            "grid_row": null,
            "grid_template_areas": null,
            "grid_template_columns": null,
            "grid_template_rows": null,
            "height": null,
            "justify_content": null,
            "justify_items": null,
            "left": null,
            "margin": null,
            "max_height": null,
            "max_width": null,
            "min_height": null,
            "min_width": null,
            "object_fit": null,
            "object_position": null,
            "order": null,
            "overflow": null,
            "overflow_x": null,
            "overflow_y": null,
            "padding": null,
            "right": null,
            "top": null,
            "visibility": null,
            "width": null
          }
        },
        "c9986cae130445c18746d5c71d05bb9a": {
          "model_module": "@jupyter-widgets/controls",
          "model_name": "ProgressStyleModel",
          "model_module_version": "1.5.0",
          "state": {
            "_model_module": "@jupyter-widgets/controls",
            "_model_module_version": "1.5.0",
            "_model_name": "ProgressStyleModel",
            "_view_count": null,
            "_view_module": "@jupyter-widgets/base",
            "_view_module_version": "1.2.0",
            "_view_name": "StyleView",
            "bar_color": null,
            "description_width": ""
          }
        },
        "5fe69f77cfb44012a3b373d51bd3a937": {
          "model_module": "@jupyter-widgets/base",
          "model_name": "LayoutModel",
          "model_module_version": "1.2.0",
          "state": {
            "_model_module": "@jupyter-widgets/base",
            "_model_module_version": "1.2.0",
            "_model_name": "LayoutModel",
            "_view_count": null,
            "_view_module": "@jupyter-widgets/base",
            "_view_module_version": "1.2.0",
            "_view_name": "LayoutView",
            "align_content": null,
            "align_items": null,
            "align_self": null,
            "border": null,
            "bottom": null,
            "display": null,
            "flex": null,
            "flex_flow": null,
            "grid_area": null,
            "grid_auto_columns": null,
            "grid_auto_flow": null,
            "grid_auto_rows": null,
            "grid_column": null,
            "grid_gap": null,
            "grid_row": null,
            "grid_template_areas": null,
            "grid_template_columns": null,
            "grid_template_rows": null,
            "height": null,
            "justify_content": null,
            "justify_items": null,
            "left": null,
            "margin": null,
            "max_height": null,
            "max_width": null,
            "min_height": null,
            "min_width": null,
            "object_fit": null,
            "object_position": null,
            "order": null,
            "overflow": null,
            "overflow_x": null,
            "overflow_y": null,
            "padding": null,
            "right": null,
            "top": null,
            "visibility": null,
            "width": null
          }
        },
        "19cc2afb5475402b87acd1aa8884a9e8": {
          "model_module": "@jupyter-widgets/controls",
          "model_name": "DescriptionStyleModel",
          "model_module_version": "1.5.0",
          "state": {
            "_model_module": "@jupyter-widgets/controls",
            "_model_module_version": "1.5.0",
            "_model_name": "DescriptionStyleModel",
            "_view_count": null,
            "_view_module": "@jupyter-widgets/base",
            "_view_module_version": "1.2.0",
            "_view_name": "StyleView",
            "description_width": ""
          }
        }
      }
    }
  },
  "cells": [
    {
      "cell_type": "code",
      "source": [
        "!pip install transformers\n",
        "!pip install emoji\n",
        "!pip install contractions\n",
        "!pip install datasets"
      ],
      "metadata": {
        "colab": {
          "base_uri": "https://localhost:8080/"
        },
        "id": "kqOJs9V2vAfd",
        "outputId": "c13a8b79-1d84-4c0b-d7aa-2137fce8b314"
      },
      "execution_count": null,
      "outputs": [
        {
          "output_type": "stream",
          "name": "stdout",
          "text": [
            "Requirement already satisfied: transformers in /usr/local/lib/python3.11/dist-packages (4.50.0)\n",
            "Requirement already satisfied: filelock in /usr/local/lib/python3.11/dist-packages (from transformers) (3.18.0)\n",
            "Requirement already satisfied: huggingface-hub<1.0,>=0.26.0 in /usr/local/lib/python3.11/dist-packages (from transformers) (0.29.3)\n",
            "Requirement already satisfied: numpy>=1.17 in /usr/local/lib/python3.11/dist-packages (from transformers) (2.0.2)\n",
            "Requirement already satisfied: packaging>=20.0 in /usr/local/lib/python3.11/dist-packages (from transformers) (24.2)\n",
            "Requirement already satisfied: pyyaml>=5.1 in /usr/local/lib/python3.11/dist-packages (from transformers) (6.0.2)\n",
            "Requirement already satisfied: regex!=2019.12.17 in /usr/local/lib/python3.11/dist-packages (from transformers) (2024.11.6)\n",
            "Requirement already satisfied: requests in /usr/local/lib/python3.11/dist-packages (from transformers) (2.32.3)\n",
            "Requirement already satisfied: tokenizers<0.22,>=0.21 in /usr/local/lib/python3.11/dist-packages (from transformers) (0.21.1)\n",
            "Requirement already satisfied: safetensors>=0.4.3 in /usr/local/lib/python3.11/dist-packages (from transformers) (0.5.3)\n",
            "Requirement already satisfied: tqdm>=4.27 in /usr/local/lib/python3.11/dist-packages (from transformers) (4.67.1)\n",
            "Requirement already satisfied: fsspec>=2023.5.0 in /usr/local/lib/python3.11/dist-packages (from huggingface-hub<1.0,>=0.26.0->transformers) (2024.12.0)\n",
            "Requirement already satisfied: typing-extensions>=3.7.4.3 in /usr/local/lib/python3.11/dist-packages (from huggingface-hub<1.0,>=0.26.0->transformers) (4.12.2)\n",
            "Requirement already satisfied: charset-normalizer<4,>=2 in /usr/local/lib/python3.11/dist-packages (from requests->transformers) (3.4.1)\n",
            "Requirement already satisfied: idna<4,>=2.5 in /usr/local/lib/python3.11/dist-packages (from requests->transformers) (3.10)\n",
            "Requirement already satisfied: urllib3<3,>=1.21.1 in /usr/local/lib/python3.11/dist-packages (from requests->transformers) (2.3.0)\n",
            "Requirement already satisfied: certifi>=2017.4.17 in /usr/local/lib/python3.11/dist-packages (from requests->transformers) (2025.1.31)\n",
            "Requirement already satisfied: emoji in /usr/local/lib/python3.11/dist-packages (2.14.1)\n",
            "Requirement already satisfied: contractions in /usr/local/lib/python3.11/dist-packages (0.1.73)\n",
            "Requirement already satisfied: textsearch>=0.0.21 in /usr/local/lib/python3.11/dist-packages (from contractions) (0.0.24)\n",
            "Requirement already satisfied: anyascii in /usr/local/lib/python3.11/dist-packages (from textsearch>=0.0.21->contractions) (0.3.2)\n",
            "Requirement already satisfied: pyahocorasick in /usr/local/lib/python3.11/dist-packages (from textsearch>=0.0.21->contractions) (2.1.0)\n",
            "Requirement already satisfied: datasets in /usr/local/lib/python3.11/dist-packages (3.5.0)\n",
            "Requirement already satisfied: filelock in /usr/local/lib/python3.11/dist-packages (from datasets) (3.18.0)\n",
            "Requirement already satisfied: numpy>=1.17 in /usr/local/lib/python3.11/dist-packages (from datasets) (2.0.2)\n",
            "Requirement already satisfied: pyarrow>=15.0.0 in /usr/local/lib/python3.11/dist-packages (from datasets) (18.1.0)\n",
            "Requirement already satisfied: dill<0.3.9,>=0.3.0 in /usr/local/lib/python3.11/dist-packages (from datasets) (0.3.8)\n",
            "Requirement already satisfied: pandas in /usr/local/lib/python3.11/dist-packages (from datasets) (2.2.2)\n",
            "Requirement already satisfied: requests>=2.32.2 in /usr/local/lib/python3.11/dist-packages (from datasets) (2.32.3)\n",
            "Requirement already satisfied: tqdm>=4.66.3 in /usr/local/lib/python3.11/dist-packages (from datasets) (4.67.1)\n",
            "Requirement already satisfied: xxhash in /usr/local/lib/python3.11/dist-packages (from datasets) (3.5.0)\n",
            "Requirement already satisfied: multiprocess<0.70.17 in /usr/local/lib/python3.11/dist-packages (from datasets) (0.70.16)\n",
            "Requirement already satisfied: fsspec<=2024.12.0,>=2023.1.0 in /usr/local/lib/python3.11/dist-packages (from fsspec[http]<=2024.12.0,>=2023.1.0->datasets) (2024.12.0)\n",
            "Requirement already satisfied: aiohttp in /usr/local/lib/python3.11/dist-packages (from datasets) (3.11.14)\n",
            "Requirement already satisfied: huggingface-hub>=0.24.0 in /usr/local/lib/python3.11/dist-packages (from datasets) (0.29.3)\n",
            "Requirement already satisfied: packaging in /usr/local/lib/python3.11/dist-packages (from datasets) (24.2)\n",
            "Requirement already satisfied: pyyaml>=5.1 in /usr/local/lib/python3.11/dist-packages (from datasets) (6.0.2)\n",
            "Requirement already satisfied: aiohappyeyeballs>=2.3.0 in /usr/local/lib/python3.11/dist-packages (from aiohttp->datasets) (2.6.1)\n",
            "Requirement already satisfied: aiosignal>=1.1.2 in /usr/local/lib/python3.11/dist-packages (from aiohttp->datasets) (1.3.2)\n",
            "Requirement already satisfied: attrs>=17.3.0 in /usr/local/lib/python3.11/dist-packages (from aiohttp->datasets) (25.3.0)\n",
            "Requirement already satisfied: frozenlist>=1.1.1 in /usr/local/lib/python3.11/dist-packages (from aiohttp->datasets) (1.5.0)\n",
            "Requirement already satisfied: multidict<7.0,>=4.5 in /usr/local/lib/python3.11/dist-packages (from aiohttp->datasets) (6.2.0)\n",
            "Requirement already satisfied: propcache>=0.2.0 in /usr/local/lib/python3.11/dist-packages (from aiohttp->datasets) (0.3.0)\n",
            "Requirement already satisfied: yarl<2.0,>=1.17.0 in /usr/local/lib/python3.11/dist-packages (from aiohttp->datasets) (1.18.3)\n",
            "Requirement already satisfied: typing-extensions>=3.7.4.3 in /usr/local/lib/python3.11/dist-packages (from huggingface-hub>=0.24.0->datasets) (4.12.2)\n",
            "Requirement already satisfied: charset-normalizer<4,>=2 in /usr/local/lib/python3.11/dist-packages (from requests>=2.32.2->datasets) (3.4.1)\n",
            "Requirement already satisfied: idna<4,>=2.5 in /usr/local/lib/python3.11/dist-packages (from requests>=2.32.2->datasets) (3.10)\n",
            "Requirement already satisfied: urllib3<3,>=1.21.1 in /usr/local/lib/python3.11/dist-packages (from requests>=2.32.2->datasets) (2.3.0)\n",
            "Requirement already satisfied: certifi>=2017.4.17 in /usr/local/lib/python3.11/dist-packages (from requests>=2.32.2->datasets) (2025.1.31)\n",
            "Requirement already satisfied: python-dateutil>=2.8.2 in /usr/local/lib/python3.11/dist-packages (from pandas->datasets) (2.8.2)\n",
            "Requirement already satisfied: pytz>=2020.1 in /usr/local/lib/python3.11/dist-packages (from pandas->datasets) (2025.1)\n",
            "Requirement already satisfied: tzdata>=2022.7 in /usr/local/lib/python3.11/dist-packages (from pandas->datasets) (2025.1)\n",
            "Requirement already satisfied: six>=1.5 in /usr/local/lib/python3.11/dist-packages (from python-dateutil>=2.8.2->pandas->datasets) (1.17.0)\n"
          ]
        }
      ]
    },
    {
      "cell_type": "code",
      "source": [
        "from google.colab import drive\n",
        "drive.mount('/content/drive')"
      ],
      "metadata": {
        "colab": {
          "base_uri": "https://localhost:8080/"
        },
        "id": "xmRxDKR-H0Wj",
        "outputId": "7f34829b-6719-44f3-e3cb-0cdc5a2381c3"
      },
      "execution_count": null,
      "outputs": [
        {
          "output_type": "stream",
          "name": "stdout",
          "text": [
            "Drive already mounted at /content/drive; to attempt to forcibly remount, call drive.mount(\"/content/drive\", force_remount=True).\n"
          ]
        }
      ]
    },
    {
      "cell_type": "code",
      "execution_count": null,
      "metadata": {
        "id": "xWZQcUxGcrM-"
      },
      "outputs": [],
      "source": [
        "import torch\n",
        "import numpy as np\n",
        "dir = '/content/drive/My Drive/1513-project/'"
      ]
    },
    {
      "cell_type": "markdown",
      "source": [
        "#Preprocess Dataset Used For Fine-tuning"
      ],
      "metadata": {
        "id": "7xpURKDJXIKL"
      }
    },
    {
      "cell_type": "code",
      "source": [
        "# Preprocess the data to be used for fine-tuning\n",
        "import pandas as pd\n",
        "headers = ['target', 'ids', 'date', 'flag', 'user', 'text']\n",
        "df = pd.read_csv(dir + 'labeled_tweets.csv', encoding='ISO-8859-1', header=None, names=headers)\n",
        "print(df.head())"
      ],
      "metadata": {
        "colab": {
          "base_uri": "https://localhost:8080/"
        },
        "id": "clVHeZvzqfiK",
        "outputId": "af9d9de2-4b2a-4aae-d0ff-c3e902d9f528"
      },
      "execution_count": null,
      "outputs": [
        {
          "output_type": "stream",
          "name": "stdout",
          "text": [
            "   target         ids                          date      flag  \\\n",
            "0       0  1467810369  Mon Apr 06 22:19:45 PDT 2009  NO_QUERY   \n",
            "1       0  1467810672  Mon Apr 06 22:19:49 PDT 2009  NO_QUERY   \n",
            "2       0  1467810917  Mon Apr 06 22:19:53 PDT 2009  NO_QUERY   \n",
            "3       0  1467811184  Mon Apr 06 22:19:57 PDT 2009  NO_QUERY   \n",
            "4       0  1467811193  Mon Apr 06 22:19:57 PDT 2009  NO_QUERY   \n",
            "\n",
            "              user                                               text  \n",
            "0  _TheSpecialOne_  @switchfoot http://twitpic.com/2y1zl - Awww, t...  \n",
            "1    scotthamilton  is upset that he can't update his Facebook by ...  \n",
            "2         mattycus  @Kenichan I dived many times for the ball. Man...  \n",
            "3          ElleCTF    my whole body feels itchy and like its on fire   \n",
            "4           Karoli  @nationwideclass no, it's not behaving at all....  \n"
          ]
        }
      ]
    },
    {
      "cell_type": "code",
      "source": [
        "import pandas as pd\n",
        "headers = ['tweet', 'language']\n",
        "df = pd.read_csv(dir + 'us_election-edit.csv', encoding='ISO-8859-1', usecols=headers, lineterminator='\\n')\n",
        "df = df[df['language'] == 'en']\n",
        "df = df.rename(columns={'tweet': 'text'})\n",
        "print(df.head())"
      ],
      "metadata": {
        "colab": {
          "base_uri": "https://localhost:8080/"
        },
        "id": "CQuj4F6N0vk0",
        "outputId": "b288b3f2-a28a-4546-b95c-f9e402488d56"
      },
      "execution_count": null,
      "outputs": [
        {
          "output_type": "stream",
          "name": "stdout",
          "text": [
            "                                                text language\n",
            "0  Hi if you want Americans to infuriate you in t...       en\n",
            "1  @armstrongcbc No surprise. It's going to be a ...       en\n",
            "2  I canât wait till after the US election so I...       en\n",
            "3  America as a foreign country, by foreign corre...       en\n",
            "4  Wow. I guess if you want actual journalism and...       en\n"
          ]
        }
      ]
    },
    {
      "cell_type": "code",
      "source": [
        "import emoji\n",
        "import re\n",
        "import contractions\n",
        "def preprocess_data_cleaning(df):\n",
        "  # First we lower case the data\n",
        "  df['text_cleaned'] = df['text'].apply(lambda x: x.lower())\n",
        "  df['text_cleaned'] = df['text_cleaned'].str.replace(r'(http\\S+|www\\.\\S+)', '', regex=True) # Remove url\n",
        "  df['text_cleaned'] = df['text_cleaned'].str.replace(r'<.*?>', '', regex=True) # remove html tags\n",
        "  df['text_cleaned'] = df['text_cleaned'].apply(lambda x: emoji.demojize(x)) # remove emojis\n",
        "  df['text_cleaned'] = df['text_cleaned'].str.replace(r'[^a-zA-Z0-9\\s]', '', regex=True) # remove special characters\n",
        "  df['text_cleaned'] = df['text_cleaned'].apply(lambda x: contractions.fix(x)) # Fix contractions\n",
        "\n",
        "  return df\n",
        "\n",
        "def rename_label(df):\n",
        "  label_map = {0:0, 2:1, 4:2}\n",
        "  df['target'] = df['target'].map(label_map)\n",
        "  df = df.rename(columns={'target': 'label'})\n",
        "\n",
        "  return df"
      ],
      "metadata": {
        "id": "6A0CRota2Ret"
      },
      "execution_count": null,
      "outputs": []
    },
    {
      "cell_type": "code",
      "source": [
        "import pandas as pd\n",
        "# df = preprocess_data_cleaning(df)\n",
        "# df = rename_label(df)\n",
        "# print(df.head())\n",
        "df = preprocess_data_cleaning(df)\n",
        "\n",
        "print(df.head())"
      ],
      "metadata": {
        "colab": {
          "base_uri": "https://localhost:8080/"
        },
        "id": "JxN3-GS_28V7",
        "outputId": "2088ec98-4a52-45a4-97f4-a95e3d906e62"
      },
      "execution_count": null,
      "outputs": [
        {
          "output_type": "stream",
          "name": "stdout",
          "text": [
            "                                                text language  \\\n",
            "0  Hi if you want Americans to infuriate you in t...       en   \n",
            "1  @armstrongcbc No surprise. It's going to be a ...       en   \n",
            "2  I canât wait till after the US election so I...       en   \n",
            "3  America as a foreign country, by foreign corre...       en   \n",
            "4  Wow. I guess if you want actual journalism and...       en   \n",
            "\n",
            "                                        text_cleaned  \n",
            "0  hi if you want americans to infuriate you in t...  \n",
            "1  armstrongcbc no surprise its going to be a vol...  \n",
            "2  i cannot wait till after the us election so i ...  \n",
            "3  america as a foreign country by foreign corres...  \n",
            "4  wow i guess if you want actual journalism and ...  \n"
          ]
        }
      ]
    },
    {
      "cell_type": "markdown",
      "source": [
        "# Pseudo Label and Tokenize Dataset"
      ],
      "metadata": {
        "id": "5MBiyqUwXXpk"
      }
    },
    {
      "cell_type": "code",
      "source": [
        "from datasets import Dataset\n",
        "\n",
        "# Load the pd frame into dataset to allow for batch processing\n",
        "dataset = Dataset.from_pandas(df)\n",
        "# dataset = dataset.remove_columns(['ids', 'date', 'flag', 'user', 'text'])\n",
        "dataset = dataset.remove_columns(['text', 'language'])\n",
        "print(dataset[0:5])"
      ],
      "metadata": {
        "colab": {
          "base_uri": "https://localhost:8080/"
        },
        "id": "d-Msh9bHBIa8",
        "outputId": "291ebc9c-b94e-49d0-f0d5-8f9912e29f0a"
      },
      "execution_count": null,
      "outputs": [
        {
          "output_type": "stream",
          "name": "stdout",
          "text": [
            "{'text_cleaned': ['hi if you want americans to infuriate you in the comments not realise the whole world does not vote in the us election and not know that ireland is not in britain this is the thread for you', 'armstrongcbc no surprise its going to be a volatile few weeks in the market what with the uselection and a lot more earnings results to come', 'i cannot wait till after the us election so i can make fun of the trump supporters and remind trump every day that he is a loser', 'america as a foreign country by foreign correspondents covering the us election  ', 'wow i guess if you want actual journalism and real coverage of the us election going to have to start watching skynewsaust whoever says the media in the us is not biased is just trying to be blind to the facts at this point   '], '__index_level_0__': [0, 1, 2, 3, 4]}\n"
          ]
        }
      ]
    },
    {
      "cell_type": "code",
      "source": [
        "from textblob import TextBlob\n",
        "\n",
        "def get_pseudo_label(data):\n",
        "    # Compute sentiment polarity to use as label\n",
        "    polarity = TextBlob(data['text_cleaned']).sentiment.polarity\n",
        "    # Define thresholds to assign a label:\n",
        "    # For instance, label 2 for positive, 0 for negative, and 1 for neutral\n",
        "    if polarity > 0.1:\n",
        "        label = 2\n",
        "    elif polarity < -0.1:\n",
        "        label = 0\n",
        "    else:\n",
        "        label = 1\n",
        "    return {\"label\": label}\n",
        "\n",
        "# Apply the function to add a new column with pseudo-labels\n",
        "dataset = dataset.map(get_pseudo_label)\n",
        "print(dataset[0:5])"
      ],
      "metadata": {
        "colab": {
          "base_uri": "https://localhost:8080/",
          "height": 86,
          "referenced_widgets": [
            "4e7eee87a610470a9ace8cb2793e39f8",
            "6247796c8708400aa4c2e27d02081442",
            "40b73d01a910484db38da12a93b7a358",
            "739214a3e80e44a99158191e36bf3590",
            "1183ca134b1b4687ad948e6d03313c19",
            "d805259b61b6454ba73a8576959f47c8",
            "267884298c5441698d1446d81f0ddf53",
            "09a2269a926541e0962f4f69841a1ae8",
            "6a8c1dbc972d4060b5c89e208be78e62",
            "c25794dd501343278281dc16637b0814",
            "e8265eb1b37a4260800f1881900c5df6"
          ]
        },
        "id": "dhu7ya7H3PyI",
        "outputId": "f2641c49-f3b3-4766-f035-f08d6768cc9a"
      },
      "execution_count": null,
      "outputs": [
        {
          "output_type": "display_data",
          "data": {
            "text/plain": [
              "Map:   0%|          | 0/124586 [00:00<?, ? examples/s]"
            ],
            "application/vnd.jupyter.widget-view+json": {
              "version_major": 2,
              "version_minor": 0,
              "model_id": "4e7eee87a610470a9ace8cb2793e39f8"
            }
          },
          "metadata": {}
        },
        {
          "output_type": "stream",
          "name": "stdout",
          "text": [
            "{'text_cleaned': ['hi if you want americans to infuriate you in the comments not realise the whole world does not vote in the us election and not know that ireland is not in britain this is the thread for you', 'armstrongcbc no surprise its going to be a volatile few weeks in the market what with the uselection and a lot more earnings results to come', 'i cannot wait till after the us election so i can make fun of the trump supporters and remind trump every day that he is a loser', 'america as a foreign country by foreign correspondents covering the us election  ', 'wow i guess if you want actual journalism and real coverage of the us election going to have to start watching skynewsaust whoever says the media in the us is not biased is just trying to be blind to the facts at this point   '], '__index_level_0__': [0, 1, 2, 3, 4], 'label': [2, 2, 2, 0, 1]}\n"
          ]
        }
      ]
    },
    {
      "cell_type": "code",
      "source": [
        "from transformers import AutoTokenizer\n",
        "\n",
        "# Load the BERTweet tokenizer\n",
        "tokenizer = AutoTokenizer.from_pretrained('vinai/bertweet-base', use_fast=False)\n",
        "\n",
        "# Function to tokenize the text in batches\n",
        "def tokenize(text_batch, tokenizer):\n",
        "  return tokenizer(\n",
        "    text_batch['text_cleaned'],\n",
        "    truncation=True,\n",
        "    padding='max_length',\n",
        "    max_length=128,\n",
        "    return_tensors=\"pt\"\n",
        "  )"
      ],
      "metadata": {
        "id": "PKeXlNUlAB6Z"
      },
      "execution_count": null,
      "outputs": []
    },
    {
      "cell_type": "code",
      "source": [
        "# Tokenize the cleaned text data in batches\n",
        "tokenized_dataset = dataset.map(lambda x: tokenize(x, tokenizer), batched=True)\n",
        "tokenized_dataset.set_format('torch', columns=['input_ids', 'attention_mask', 'label'])\n",
        "print(tokenized_dataset[0])"
      ],
      "metadata": {
        "colab": {
          "base_uri": "https://localhost:8080/",
          "height": 361,
          "referenced_widgets": [
            "f7839c671d2c4e3a83b43d1eec03dd78",
            "c112b62db27b4d15bb25c53da1720cdb",
            "45bf456f608f4a4192d94d4bfaa195d1",
            "7ce6ee4b656b4944adc4d43a65ee27c2",
            "d9a7626e80ab4976a43c5e4fc373adb3",
            "8b59117804594cd9ac46cfbaa0e21467",
            "5cb0c3b0220b439ca3d7329b48042634",
            "71a3abb504f1432a92dbe376b6a1a772",
            "25b39a3d8b5f46f99149b6618dd47760",
            "100fa14c8f8345a3968548fb428a1782",
            "4817122ac2774b3bab9e085908f43e74"
          ]
        },
        "id": "FxB2_HaSC-zv",
        "outputId": "511a071c-5185-4504-d62f-843641006c4e"
      },
      "execution_count": null,
      "outputs": [
        {
          "output_type": "display_data",
          "data": {
            "text/plain": [
              "Map:   0%|          | 0/124586 [00:00<?, ? examples/s]"
            ],
            "application/vnd.jupyter.widget-view+json": {
              "version_major": 2,
              "version_minor": 0,
              "model_id": "f7839c671d2c4e3a83b43d1eec03dd78"
            }
          },
          "metadata": {}
        },
        {
          "output_type": "stream",
          "name": "stdout",
          "text": [
            "{'label': tensor(2), 'input_ids': tensor([    0,   860,    65,    14,    96, 29849,     9, 53962,   760,    14,\n",
            "           16,     6,  2532,    46,  4614,     6,   434,   220,   158,    46,\n",
            "          759,    16,     6,   148,  1843,    13,    46,    68,    25, 35183,\n",
            "           17,    46,    16, 50867,    33,    17,     6,  3966,    19,    14,\n",
            "            2,     1,     1,     1,     1,     1,     1,     1,     1,     1,\n",
            "            1,     1,     1,     1,     1,     1,     1,     1,     1,     1,\n",
            "            1,     1,     1,     1,     1,     1,     1,     1,     1,     1,\n",
            "            1,     1,     1,     1,     1,     1,     1,     1,     1,     1,\n",
            "            1,     1,     1,     1,     1,     1,     1,     1,     1,     1,\n",
            "            1,     1,     1,     1,     1,     1,     1,     1,     1,     1,\n",
            "            1,     1,     1,     1,     1,     1,     1,     1,     1,     1,\n",
            "            1,     1,     1,     1,     1,     1,     1,     1,     1,     1,\n",
            "            1,     1,     1,     1,     1,     1,     1,     1]), 'attention_mask': tensor([1, 1, 1, 1, 1, 1, 1, 1, 1, 1, 1, 1, 1, 1, 1, 1, 1, 1, 1, 1, 1, 1, 1, 1,\n",
            "        1, 1, 1, 1, 1, 1, 1, 1, 1, 1, 1, 1, 1, 1, 1, 1, 1, 0, 0, 0, 0, 0, 0, 0,\n",
            "        0, 0, 0, 0, 0, 0, 0, 0, 0, 0, 0, 0, 0, 0, 0, 0, 0, 0, 0, 0, 0, 0, 0, 0,\n",
            "        0, 0, 0, 0, 0, 0, 0, 0, 0, 0, 0, 0, 0, 0, 0, 0, 0, 0, 0, 0, 0, 0, 0, 0,\n",
            "        0, 0, 0, 0, 0, 0, 0, 0, 0, 0, 0, 0, 0, 0, 0, 0, 0, 0, 0, 0, 0, 0, 0, 0,\n",
            "        0, 0, 0, 0, 0, 0, 0, 0])}\n"
          ]
        }
      ]
    },
    {
      "cell_type": "code",
      "source": [
        "tokenized_dataset = tokenized_dataset.remove_columns([\"__index_level_0__\"])\n",
        "print(tokenized_dataset)"
      ],
      "metadata": {
        "colab": {
          "base_uri": "https://localhost:8080/"
        },
        "id": "lyerPNjyG_G2",
        "outputId": "61542e10-ec9f-4a07-e510-8a04399de145"
      },
      "execution_count": null,
      "outputs": [
        {
          "output_type": "stream",
          "name": "stdout",
          "text": [
            "Dataset({\n",
            "    features: ['text_cleaned', 'label', 'input_ids', 'token_type_ids', 'attention_mask'],\n",
            "    num_rows: 124586\n",
            "})\n"
          ]
        }
      ]
    },
    {
      "cell_type": "code",
      "source": [
        "subset_tokenized_dataset = tokenized_dataset.shuffle(seed=39).select(range(30000))\n",
        "print(subset_tokenized_dataset)"
      ],
      "metadata": {
        "colab": {
          "base_uri": "https://localhost:8080/"
        },
        "id": "SNV-UfACgtBD",
        "outputId": "e40c6888-1d87-41aa-eea3-442068863e2b"
      },
      "execution_count": null,
      "outputs": [
        {
          "output_type": "stream",
          "name": "stdout",
          "text": [
            "Dataset({\n",
            "    features: ['text_cleaned', 'label', 'input_ids', 'token_type_ids', 'attention_mask'],\n",
            "    num_rows: 30000\n",
            "})\n"
          ]
        }
      ]
    },
    {
      "cell_type": "markdown",
      "source": [
        "# Finetune BERTweet"
      ],
      "metadata": {
        "id": "nD-R4TDXXenK"
      }
    },
    {
      "cell_type": "code",
      "source": [
        "# Split the subset of the tokenized dataset into train and test set with a 80/20 split\n",
        "split_tokenized_dataset = subset_tokenized_dataset.train_test_split(test_size=0.2)\n",
        "train_tokenized_dataset = split_tokenized_dataset['train']\n",
        "test_tokenized_dataset = split_tokenized_dataset['test']\n",
        "# train_tokenized_dataset = tokenized_dataset['train']\n",
        "# test_tokenized_dataset = tokenized_dataset['test']\n",
        "\n",
        "print(train_tokenized_dataset)\n",
        "print(test_tokenized_dataset)\n",
        "\n",
        "print(train_tokenized_dataset.unique(\"label\"))\n",
        "print(test_tokenized_dataset.unique(\"label\"))"
      ],
      "metadata": {
        "colab": {
          "base_uri": "https://localhost:8080/",
          "height": 255,
          "referenced_widgets": [
            "f5bf0cb76a224bf7b412588c0eac4fb1",
            "979ffc09395b4a4393986b5e989ae8ed",
            "a1346f7c7f794429ae30061cef61ff98",
            "bcc31b1af86241cdba09f16aeb58439a",
            "63b8c8ff414544bc8434da909ef6c695",
            "fd87f5c7fe1343939b3866320290ffb6",
            "0175c8db5f874d258b45ddd771ebc93f",
            "842282ff85134fbf92a482555573015e",
            "e858527a84f640719eda0a5813ff366b",
            "05b34f1de3f84dc2aa0c9d2dd52f6b8b",
            "b19c65516df6475eb9a87d6258a3a71a",
            "f50c2d15a2f741ea95eea7dda49bfaa5",
            "9e6c3b6fe7a241abbaf9ecfb337abe35",
            "8e3b5dc55d4c4d44b39ff75cdc632d34",
            "466b38d32309470dafae1d415380d2ad",
            "4d9968b7989f46b29544dd80df602ce4",
            "14c74f31e73d465aa6232bee1051ba30",
            "0f04d84772244028b15e628555f2192a",
            "efef5ceed5fb41279e6b09e471320c40",
            "b19e0473105d43209a7fe51c7206d5d0",
            "98be267b6fa844b6b21db41380e598dc",
            "78afb5ed157c456c8ee2f7c7b7d06175"
          ]
        },
        "id": "gPpZXEd2Hb2p",
        "outputId": "47529412-4e3f-400d-d953-09f71291f9d7"
      },
      "execution_count": null,
      "outputs": [
        {
          "output_type": "stream",
          "name": "stdout",
          "text": [
            "Dataset({\n",
            "    features: ['text_cleaned', 'label', 'input_ids', 'token_type_ids', 'attention_mask'],\n",
            "    num_rows: 24000\n",
            "})\n",
            "Dataset({\n",
            "    features: ['text_cleaned', 'label', 'input_ids', 'token_type_ids', 'attention_mask'],\n",
            "    num_rows: 6000\n",
            "})\n"
          ]
        },
        {
          "output_type": "display_data",
          "data": {
            "text/plain": [
              "Flattening the indices:   0%|          | 0/24000 [00:00<?, ? examples/s]"
            ],
            "application/vnd.jupyter.widget-view+json": {
              "version_major": 2,
              "version_minor": 0,
              "model_id": "f5bf0cb76a224bf7b412588c0eac4fb1"
            }
          },
          "metadata": {}
        },
        {
          "output_type": "stream",
          "name": "stdout",
          "text": [
            "[1, 2, 0]\n"
          ]
        },
        {
          "output_type": "display_data",
          "data": {
            "text/plain": [
              "Flattening the indices:   0%|          | 0/6000 [00:00<?, ? examples/s]"
            ],
            "application/vnd.jupyter.widget-view+json": {
              "version_major": 2,
              "version_minor": 0,
              "model_id": "f50c2d15a2f741ea95eea7dda49bfaa5"
            }
          },
          "metadata": {}
        },
        {
          "output_type": "stream",
          "name": "stdout",
          "text": [
            "[2, 1, 0]\n"
          ]
        }
      ]
    },
    {
      "cell_type": "code",
      "source": [
        "import os\n",
        "from transformers import AutoModelForSequenceClassification\n",
        "\n",
        "# Get the pretrained model - Bertweet\n",
        "if os.path.exists(os.path.join(dir + 'bertweet3/final_model/config.json')) and os.path.exists(os.path.join(dir + 'bertweet3/final_model/model.safetensors')):\n",
        "  print('Already fine-tuned!')\n",
        "  model = AutoModelForSequenceClassification.from_pretrained(dir + 'bertweet3/final_model', num_labels=3)\n",
        "else:\n",
        "  model = AutoModelForSequenceClassification.from_pretrained('vinai/bertweet-base', num_labels=3)"
      ],
      "metadata": {
        "colab": {
          "base_uri": "https://localhost:8080/"
        },
        "id": "kOvdhxHAIbMo",
        "outputId": "b2a0ca2a-e311-461b-afc1-8e6b5ec559e4"
      },
      "execution_count": null,
      "outputs": [
        {
          "output_type": "stream",
          "name": "stderr",
          "text": [
            "Some weights of RobertaForSequenceClassification were not initialized from the model checkpoint at vinai/bertweet-base and are newly initialized: ['classifier.dense.bias', 'classifier.dense.weight', 'classifier.out_proj.bias', 'classifier.out_proj.weight']\n",
            "You should probably TRAIN this model on a down-stream task to be able to use it for predictions and inference.\n"
          ]
        }
      ]
    },
    {
      "cell_type": "code",
      "source": [
        "import os\n",
        "os.environ[\"WANDB_DISABLED\"] = \"true\""
      ],
      "metadata": {
        "id": "ITWDnsxWcTjn"
      },
      "execution_count": null,
      "outputs": []
    },
    {
      "cell_type": "code",
      "source": [
        "# Define a metric to use during fine-tuning\n",
        "def compute_metrics(eval_pred):\n",
        "    logits, labels = eval_pred\n",
        "    predictions = np.argmax(logits, axis=-1)\n",
        "    return {\n",
        "        'accuracy': accuracy_score(labels, predictions),\n",
        "        'f1': f1_score(labels, predictions, average='weighted')\n",
        "    }"
      ],
      "metadata": {
        "id": "ncXD6_ueNVRv"
      },
      "execution_count": null,
      "outputs": []
    },
    {
      "cell_type": "code",
      "source": [
        "from transformers import TrainingArguments, Trainer\n",
        "from sklearn.metrics import accuracy_score, f1_score\n",
        "\n",
        "# Define the training arguments to finetune the pretrained model\n",
        "training_args = TrainingArguments(\n",
        "    output_dir=dir+'bertweet3',\n",
        "    run_name='Bertweet3 finetune',\n",
        "    num_train_epochs=3,\n",
        "    per_device_train_batch_size=16,\n",
        "    per_device_eval_batch_size=64,\n",
        "    evaluation_strategy='epoch',\n",
        "    save_strategy='epoch',\n",
        "    logging_dir=dir+'bertweet3/logs',\n",
        "    learning_rate=4e-5\n",
        ")\n",
        "\n",
        "# Initialize the Trainer\n",
        "trainer = Trainer(\n",
        "    model=model,\n",
        "    args=training_args,\n",
        "    train_dataset=train_tokenized_dataset,\n",
        "    eval_dataset=test_tokenized_dataset,\n",
        "    compute_metrics=compute_metrics\n",
        ")\n",
        "\n",
        "# Start finetuning the pretrained model\n",
        "trainer.train()\n",
        "\n",
        "# Save the model after training\n",
        "model.save_pretrained(dir+'bertweet3/final_model')\n",
        "tokenizer.save_pretrained(dir+'bertweet3/tokenizer')"
      ],
      "metadata": {
        "colab": {
          "base_uri": "https://localhost:8080/",
          "height": 308
        },
        "id": "JBSTwy-AWh7f",
        "outputId": "5ea0c9cf-d276-473f-e39c-fa3eec4df9a8"
      },
      "execution_count": null,
      "outputs": [
        {
          "output_type": "stream",
          "name": "stderr",
          "text": [
            "/usr/local/lib/python3.11/dist-packages/transformers/training_args.py:1611: FutureWarning: `evaluation_strategy` is deprecated and will be removed in version 4.46 of 🤗 Transformers. Use `eval_strategy` instead\n",
            "  warnings.warn(\n",
            "Using the `WANDB_DISABLED` environment variable is deprecated and will be removed in v5. Use the --report_to flag to control the integrations used for logging result (for instance --report_to none).\n"
          ]
        },
        {
          "output_type": "display_data",
          "data": {
            "text/plain": [
              "<IPython.core.display.HTML object>"
            ],
            "text/html": [
              "\n",
              "    <div>\n",
              "      \n",
              "      <progress value='4500' max='4500' style='width:300px; height:20px; vertical-align: middle;'></progress>\n",
              "      [4500/4500 27:51, Epoch 3/3]\n",
              "    </div>\n",
              "    <table border=\"1\" class=\"dataframe\">\n",
              "  <thead>\n",
              " <tr style=\"text-align: left;\">\n",
              "      <th>Epoch</th>\n",
              "      <th>Training Loss</th>\n",
              "      <th>Validation Loss</th>\n",
              "      <th>Accuracy</th>\n",
              "      <th>F1</th>\n",
              "    </tr>\n",
              "  </thead>\n",
              "  <tbody>\n",
              "    <tr>\n",
              "      <td>1</td>\n",
              "      <td>0.639200</td>\n",
              "      <td>0.718171</td>\n",
              "      <td>0.708167</td>\n",
              "      <td>0.656100</td>\n",
              "    </tr>\n",
              "    <tr>\n",
              "      <td>2</td>\n",
              "      <td>0.307900</td>\n",
              "      <td>0.286873</td>\n",
              "      <td>0.901167</td>\n",
              "      <td>0.900337</td>\n",
              "    </tr>\n",
              "    <tr>\n",
              "      <td>3</td>\n",
              "      <td>0.207100</td>\n",
              "      <td>0.253052</td>\n",
              "      <td>0.922167</td>\n",
              "      <td>0.922271</td>\n",
              "    </tr>\n",
              "  </tbody>\n",
              "</table><p>"
            ]
          },
          "metadata": {}
        },
        {
          "output_type": "execute_result",
          "data": {
            "text/plain": [
              "('/content/drive/My Drive/1513-project/bertweet3/tokenizer/tokenizer_config.json',\n",
              " '/content/drive/My Drive/1513-project/bertweet3/tokenizer/special_tokens_map.json',\n",
              " '/content/drive/My Drive/1513-project/bertweet3/tokenizer/vocab.txt',\n",
              " '/content/drive/My Drive/1513-project/bertweet3/tokenizer/bpe.codes',\n",
              " '/content/drive/My Drive/1513-project/bertweet3/tokenizer/added_tokens.json')"
            ]
          },
          "metadata": {},
          "execution_count": 158
        }
      ]
    },
    {
      "cell_type": "markdown",
      "source": [
        "# Preprocess Election Dataset"
      ],
      "metadata": {
        "id": "AhYJAh2VyfQc"
      }
    },
    {
      "cell_type": "code",
      "source": [
        "import os\n",
        "import glob\n",
        "import pandas as pd\n",
        "import datetime"
      ],
      "metadata": {
        "id": "a7TyAJ013Fv0"
      },
      "execution_count": null,
      "outputs": []
    },
    {
      "cell_type": "code",
      "source": [
        "start_date = datetime.date(2024, 5, 1)\n",
        "end_date = datetime.date(2024, 11, 30)\n",
        "delta = datetime.timedelta(days=1)\n",
        "\n",
        "files_to_download = []\n",
        "current = start_date\n",
        "while current <= end_date:\n",
        "    files_to_download.append(current.strftime(\"%Y-%m-%d\"))\n",
        "    current += delta\n",
        "\n",
        "print(files_to_download)\n",
        "\n",
        "path_to_download = dir + 'election_data'\n",
        "\n",
        "!mkdir -p '{path_to_download}'\n",
        "\n",
        "final_csv_filename = 'combined_daily_dataset.csv'\n",
        "if not os.path.exists(os.path.join(path_to_download, final_csv_filename)):\n",
        "  dfs = []\n",
        "  for file in files_to_download:\n",
        "    url = f\"https://github.com/YupengHuangFrank/ECE1513/raw/refs/heads/main/Date-Ordered-Data/{file}.csv.gz\"\n",
        "    filename = file + '.csv.gz'\n",
        "    try:\n",
        "      single_df = pd.read_csv(url, compression='gzip', usecols=['text', 'epoch'])\n",
        "      n_samples = min(2000, len(single_df))\n",
        "      sample_df = single_df.sample(n=n_samples, random_state=39)\n",
        "      dfs.append(sample_df)\n",
        "      print(f\"Processed {filename}: sampled {n_samples} rows.\")\n",
        "    except Exception as e:\n",
        "      print(f\"Error processing csv {filename}: {e}\")\n",
        "\n",
        "  combined_df = pd.concat(dfs, ignore_index=True)\n",
        "  # Save the combined DataFrame to csv for future load\n",
        "  combined_file = os.path.join(path_to_download, final_csv_filename)\n",
        "  combined_df.to_csv(combined_file, index=False)\n",
        "  print(f\"Combined csv saved at: {combined_file}\")\n",
        "else:\n",
        "  print('Already combined, read from existing csv!')\n",
        "\n",
        "print(combined_df)"
      ],
      "metadata": {
        "colab": {
          "base_uri": "https://localhost:8080/"
        },
        "id": "xiDQIkxwycR1",
        "outputId": "c4606207-6408-4320-d6a3-ad44a498ec57"
      },
      "execution_count": null,
      "outputs": [
        {
          "output_type": "stream",
          "name": "stdout",
          "text": [
            "['2024-05-01', '2024-05-02', '2024-05-03', '2024-05-04', '2024-05-05', '2024-05-06', '2024-05-07', '2024-05-08', '2024-05-09', '2024-05-10', '2024-05-11', '2024-05-12', '2024-05-13', '2024-05-14', '2024-05-15', '2024-05-16', '2024-05-17', '2024-05-18', '2024-05-19', '2024-05-20', '2024-05-21', '2024-05-22', '2024-05-23', '2024-05-24', '2024-05-25', '2024-05-26', '2024-05-27', '2024-05-28', '2024-05-29', '2024-05-30', '2024-05-31', '2024-06-01', '2024-06-02', '2024-06-03', '2024-06-04', '2024-06-05', '2024-06-06', '2024-06-07', '2024-06-08', '2024-06-09', '2024-06-10', '2024-06-11', '2024-06-12', '2024-06-13', '2024-06-14', '2024-06-15', '2024-06-16', '2024-06-17', '2024-06-18', '2024-06-19', '2024-06-20', '2024-06-21', '2024-06-22', '2024-06-23', '2024-06-24', '2024-06-25', '2024-06-26', '2024-06-27', '2024-06-28', '2024-06-29', '2024-06-30', '2024-07-01', '2024-07-02', '2024-07-03', '2024-07-04', '2024-07-05', '2024-07-06', '2024-07-07', '2024-07-08', '2024-07-09', '2024-07-10', '2024-07-11', '2024-07-12', '2024-07-13', '2024-07-14', '2024-07-15', '2024-07-16', '2024-07-17', '2024-07-18', '2024-07-19', '2024-07-20', '2024-07-21', '2024-07-22', '2024-07-23', '2024-07-24', '2024-07-25', '2024-07-26', '2024-07-27', '2024-07-28', '2024-07-29', '2024-07-30', '2024-07-31', '2024-08-01', '2024-08-02', '2024-08-03', '2024-08-04', '2024-08-05', '2024-08-06', '2024-08-07', '2024-08-08', '2024-08-09', '2024-08-10', '2024-08-11', '2024-08-12', '2024-08-13', '2024-08-14', '2024-08-15', '2024-08-16', '2024-08-17', '2024-08-18', '2024-08-19', '2024-08-20', '2024-08-21', '2024-08-22', '2024-08-23', '2024-08-24', '2024-08-25', '2024-08-26', '2024-08-27', '2024-08-28', '2024-08-29', '2024-08-30', '2024-08-31', '2024-09-01', '2024-09-02', '2024-09-03', '2024-09-04', '2024-09-05', '2024-09-06', '2024-09-07', '2024-09-08', '2024-09-09', '2024-09-10', '2024-09-11', '2024-09-12', '2024-09-13', '2024-09-14', '2024-09-15', '2024-09-16', '2024-09-17', '2024-09-18', '2024-09-19', '2024-09-20', '2024-09-21', '2024-09-22', '2024-09-23', '2024-09-24', '2024-09-25', '2024-09-26', '2024-09-27', '2024-09-28', '2024-09-29', '2024-09-30', '2024-10-01', '2024-10-02', '2024-10-03', '2024-10-04', '2024-10-05', '2024-10-06', '2024-10-07', '2024-10-08', '2024-10-09', '2024-10-10', '2024-10-11', '2024-10-12', '2024-10-13', '2024-10-14', '2024-10-15', '2024-10-16', '2024-10-17', '2024-10-18', '2024-10-19', '2024-10-20', '2024-10-21', '2024-10-22', '2024-10-23', '2024-10-24', '2024-10-25', '2024-10-26', '2024-10-27', '2024-10-28', '2024-10-29', '2024-10-30', '2024-10-31', '2024-11-01', '2024-11-02', '2024-11-03', '2024-11-04', '2024-11-05', '2024-11-06', '2024-11-07', '2024-11-08', '2024-11-09', '2024-11-10', '2024-11-11', '2024-11-12', '2024-11-13', '2024-11-14', '2024-11-15', '2024-11-16', '2024-11-17', '2024-11-18', '2024-11-19', '2024-11-20', '2024-11-21', '2024-11-22', '2024-11-23', '2024-11-24', '2024-11-25', '2024-11-26', '2024-11-27', '2024-11-28', '2024-11-29', '2024-11-30']\n",
            "Already combined, read from existing csv!\n",
            "                                                     text         epoch  \\\n",
            "0       Trump rolls out the red carpet for foreign lea...  1.714602e+09   \n",
            "1       Donald Trump Takes Biggest Lead Ever over Joe ...  1.714604e+09   \n",
            "2       @PhonyLyingLibs @obriedave1 @DebraSc69769469 @...  1.714602e+09   \n",
            "3       Democrats: BAGS - Biden And Gullible Supporter...  1.714600e+09   \n",
            "4       @WhitneyChanell @AlmaSuono Not sure what there...  1.714595e+09   \n",
            "...                                                   ...           ...   \n",
            "369767  @truckdriverpleb He managed to outdo himself. ...  1.732961e+09   \n",
            "369768  @Benioff how much lower are twitter's revenues...  1.733004e+09   \n",
            "369769  @RangerUpCoffee Occam's razor.  the simplest e...  1.733006e+09   \n",
            "369770  Donald Trump’s pick for Treasury secretary has...  1.732990e+09   \n",
            "369771  @MdBreathe Republicans turned out all women to...  1.732949e+09   \n",
            "\n",
            "                                             text_cleaned  \n",
            "0       trump rolls out the red carpet for foreign lea...  \n",
            "1       donald trump takes biggest lead ever over joe ...  \n",
            "2       phonylyinglibs obriedave1 debrasc69769469 retu...  \n",
            "3          democrats bags  biden and gullible supporters   \n",
            "4       whitneychanell almasuono not sure what there i...  \n",
            "...                                                   ...  \n",
            "369767  truckdriverpleb he managed to outdo himself af...  \n",
            "369768  benioff how much lower are twitters revenues s...  \n",
            "369769  rangerupcoffee occams razor  the simplest expl...  \n",
            "369770  donald trumps pick for treasury secretary has ...  \n",
            "369771  mdbreathe republicans turned out all women to ...  \n",
            "\n",
            "[369772 rows x 3 columns]\n"
          ]
        }
      ]
    },
    {
      "cell_type": "code",
      "source": [
        "# Now preprocess the combined election dataset\n",
        "combined_df = preprocess_data_cleaning(combined_df)\n",
        "print(combined_df)"
      ],
      "metadata": {
        "colab": {
          "base_uri": "https://localhost:8080/"
        },
        "id": "Bq1qIDVO54Wv",
        "outputId": "1b38b9e5-107e-4f5b-f85c-0542ece3db08"
      },
      "execution_count": null,
      "outputs": [
        {
          "output_type": "stream",
          "name": "stdout",
          "text": [
            "                                                     text         epoch  \\\n",
            "0       Trump rolls out the red carpet for foreign lea...  1.714602e+09   \n",
            "1       Donald Trump Takes Biggest Lead Ever over Joe ...  1.714604e+09   \n",
            "2       @PhonyLyingLibs @obriedave1 @DebraSc69769469 @...  1.714602e+09   \n",
            "3       Democrats: BAGS - Biden And Gullible Supporter...  1.714600e+09   \n",
            "4       @WhitneyChanell @AlmaSuono Not sure what there...  1.714595e+09   \n",
            "...                                                   ...           ...   \n",
            "369767  @truckdriverpleb He managed to outdo himself. ...  1.732961e+09   \n",
            "369768  @Benioff how much lower are twitter's revenues...  1.733004e+09   \n",
            "369769  @RangerUpCoffee Occam's razor.  the simplest e...  1.733006e+09   \n",
            "369770  Donald Trump’s pick for Treasury secretary has...  1.732990e+09   \n",
            "369771  @MdBreathe Republicans turned out all women to...  1.732949e+09   \n",
            "\n",
            "                                             text_cleaned  \n",
            "0       trump rolls out the red carpet for foreign lea...  \n",
            "1       donald trump takes biggest lead ever over joe ...  \n",
            "2       phonylyinglibs obriedave1 debrasc69769469 retu...  \n",
            "3          democrats bags  biden and gullible supporters   \n",
            "4       whitneychanell almasuono not sure what there i...  \n",
            "...                                                   ...  \n",
            "369767  truckdriverpleb he managed to outdo himself af...  \n",
            "369768  benioff how much lower are twitters revenues s...  \n",
            "369769  rangerupcoffee occams razor  the simplest expl...  \n",
            "369770  donald trumps pick for treasury secretary has ...  \n",
            "369771  mdbreathe republicans turned out all women to ...  \n",
            "\n",
            "[369772 rows x 3 columns]\n"
          ]
        }
      ]
    },
    {
      "cell_type": "markdown",
      "source": [
        "# Tokenize Election Dataset"
      ],
      "metadata": {
        "id": "8GXAzm9xEtHV"
      }
    },
    {
      "cell_type": "code",
      "source": [
        "from datasets import Dataset\n",
        "# Load the election df into dataset to allow for batch processing\n",
        "combined_election_dataset = Dataset.from_pandas(combined_df)\n",
        "combined_election_dataset = combined_election_dataset.remove_columns(['text'])\n",
        "print(combined_election_dataset[0:5])"
      ],
      "metadata": {
        "colab": {
          "base_uri": "https://localhost:8080/"
        },
        "id": "_Gam_23EC7Pe",
        "outputId": "2134ee20-a4ca-4f49-e6dd-f160be4aa788"
      },
      "execution_count": null,
      "outputs": [
        {
          "output_type": "stream",
          "name": "stdout",
          "text": [
            "{'epoch': [1714601618.0, 1714603996.0, 1714602308.0, 1714599951.0, 1714595435.0], 'text_cleaned': ['trump rolls out the red carpet for foreign leaders irking biden allies  via nbcnews', 'donald trump takes biggest lead ever over joe biden in cnn poll thirdparty candidates expand trump lead\\n', 'phonylyinglibs obriedave1 debrasc69769469 retusafmsgt repmtg him in office after he lost to joe biden', 'democrats bags  biden and gullible supporters ', 'whitneychanell almasuono not sure what there is too not like  equal rights for black people minorities amp lgbtq comm or womens rights or the most diverse judicial appts ever womanshruggingmediumskintone\\ni am sure you will not have to hang out with him i just need him to continue being the most progressive potus of our lifetimes']}\n"
          ]
        }
      ]
    },
    {
      "cell_type": "code",
      "source": [
        "from transformers import AutoTokenizer\n",
        "\n",
        "# Now we tokenize the combined election dataset\n",
        "# Load the BERTweet tokenizer\n",
        "tokenizer = AutoTokenizer.from_pretrained(dir + 'bertweet3/tokenizer', use_fast=False)\n",
        "\n",
        "# Function to tokenize the text in batches\n",
        "def tokenize(text_batch, tokenizer):\n",
        "  return tokenizer(\n",
        "    text_batch['text_cleaned'],\n",
        "    truncation=True,\n",
        "    padding='max_length',\n",
        "    max_length=128,\n",
        "    return_tensors=\"pt\"\n",
        "  )"
      ],
      "metadata": {
        "id": "JjuumzwgEYX2"
      },
      "execution_count": null,
      "outputs": []
    },
    {
      "cell_type": "code",
      "source": [
        "# Tokenize the cleaned text data in batches\n",
        "tokenized_election_dataset = combined_election_dataset.map(lambda x: tokenize(x, tokenizer), batched=True)\n",
        "tokenized_election_dataset.set_format('torch', columns=['input_ids', 'attention_mask'])\n",
        "print(tokenized_election_dataset[0])\n",
        "print(tokenized_election_dataset)"
      ],
      "metadata": {
        "colab": {
          "base_uri": "https://localhost:8080/",
          "height": 431,
          "referenced_widgets": [
            "ec4d809e2599472eb595a81dbed4b5a5",
            "84a32c44ddc3445d986c2ea312452b4d",
            "0a668e64eecd4f6697072f3eb9e12a85",
            "f7a3837f47c8470c8fbaf57bb63dd356",
            "250df28180764cb481424141672bff49",
            "e5665b088713465181c23c142ba3e2db",
            "3aeb24114e0b439cbe3a7462d49dcd76",
            "65d73fe627ae43b68148d545b5b312f7",
            "c9986cae130445c18746d5c71d05bb9a",
            "5fe69f77cfb44012a3b373d51bd3a937",
            "19cc2afb5475402b87acd1aa8884a9e8"
          ]
        },
        "id": "ySyWey3CE4Hu",
        "outputId": "02dfc38b-3c10-418c-ed92-4e33db570649"
      },
      "execution_count": null,
      "outputs": [
        {
          "output_type": "display_data",
          "data": {
            "text/plain": [
              "Map:   0%|          | 0/369772 [00:00<?, ? examples/s]"
            ],
            "application/vnd.jupyter.widget-view+json": {
              "version_major": 2,
              "version_minor": 0,
              "model_id": "ec4d809e2599472eb595a81dbed4b5a5"
            }
          },
          "metadata": {}
        },
        {
          "output_type": "stream",
          "name": "stdout",
          "text": [
            "{'input_ids': tensor([    0,  3377,  6563,    50,     6,  1007, 10160,    19,  3923,  3164,\n",
            "         1784,  1235,   607, 22042, 15456,   156,   608, 21337,   615,     2,\n",
            "            1,     1,     1,     1,     1,     1,     1,     1,     1,     1,\n",
            "            1,     1,     1,     1,     1,     1,     1,     1,     1,     1,\n",
            "            1,     1,     1,     1,     1,     1,     1,     1,     1,     1,\n",
            "            1,     1,     1,     1,     1,     1,     1,     1,     1,     1,\n",
            "            1,     1,     1,     1,     1,     1,     1,     1,     1,     1,\n",
            "            1,     1,     1,     1,     1,     1,     1,     1,     1,     1,\n",
            "            1,     1,     1,     1,     1,     1,     1,     1,     1,     1,\n",
            "            1,     1,     1,     1,     1,     1,     1,     1,     1,     1,\n",
            "            1,     1,     1,     1,     1,     1,     1,     1,     1,     1,\n",
            "            1,     1,     1,     1,     1,     1,     1,     1,     1,     1,\n",
            "            1,     1,     1,     1,     1,     1,     1,     1]), 'attention_mask': tensor([1, 1, 1, 1, 1, 1, 1, 1, 1, 1, 1, 1, 1, 1, 1, 1, 1, 1, 1, 1, 0, 0, 0, 0,\n",
            "        0, 0, 0, 0, 0, 0, 0, 0, 0, 0, 0, 0, 0, 0, 0, 0, 0, 0, 0, 0, 0, 0, 0, 0,\n",
            "        0, 0, 0, 0, 0, 0, 0, 0, 0, 0, 0, 0, 0, 0, 0, 0, 0, 0, 0, 0, 0, 0, 0, 0,\n",
            "        0, 0, 0, 0, 0, 0, 0, 0, 0, 0, 0, 0, 0, 0, 0, 0, 0, 0, 0, 0, 0, 0, 0, 0,\n",
            "        0, 0, 0, 0, 0, 0, 0, 0, 0, 0, 0, 0, 0, 0, 0, 0, 0, 0, 0, 0, 0, 0, 0, 0,\n",
            "        0, 0, 0, 0, 0, 0, 0, 0])}\n",
            "Dataset({\n",
            "    features: ['epoch', 'text_cleaned', 'input_ids', 'token_type_ids', 'attention_mask'],\n",
            "    num_rows: 369772\n",
            "})\n"
          ]
        }
      ]
    },
    {
      "cell_type": "markdown",
      "source": [
        "# Sentiment Prediction"
      ],
      "metadata": {
        "id": "wInQlNwnUMHC"
      }
    },
    {
      "cell_type": "code",
      "source": [
        "# Load the model that we fine-tuned and use it to predict for the new dataset\n",
        "from transformers import AutoTokenizer, AutoModelForSequenceClassification\n",
        "\n",
        "model = AutoModelForSequenceClassification.from_pretrained(dir + 'bertweet3/final_model')"
      ],
      "metadata": {
        "id": "0lGUz-1hCVKb"
      },
      "execution_count": null,
      "outputs": []
    },
    {
      "cell_type": "code",
      "source": [
        "import torch\n",
        "from torch.utils.data import DataLoader\n",
        "from tqdm import tqdm"
      ],
      "metadata": {
        "id": "Nj9d8GO6PGud"
      },
      "execution_count": null,
      "outputs": []
    },
    {
      "cell_type": "code",
      "source": [
        "# Create a DataLoader from the tokenized dataset\n",
        "election_dataloader = DataLoader(tokenized_election_dataset, batch_size=64)\n",
        "\n",
        "model.eval()  # Set the model to evaluation mode\n",
        "device = torch.device(\"cuda\" if torch.cuda.is_available() else \"cpu\")\n",
        "model.to(device)\n",
        "\n",
        "predictions = []\n",
        "\n",
        "with torch.no_grad():\n",
        "    for batch in tqdm(election_dataloader, desc=\"Predicting\"):\n",
        "        batch = {key: value.to(device) for key, value in batch.items()}\n",
        "        outputs = model(**batch)\n",
        "        logits = outputs.logits\n",
        "        batch_predictions = torch.argmax(logits, dim=1)\n",
        "        predictions.extend(batch_predictions.tolist())\n",
        "\n",
        "print(predictions)"
      ],
      "metadata": {
        "id": "j6FbQ5zmOmVk"
      },
      "execution_count": null,
      "outputs": []
    },
    {
      "cell_type": "code",
      "source": [
        "# Associate each prediction with its corresponding row\n",
        "tokenized_election_dataset.reset_format()\n",
        "tokenized_election_dataset = tokenized_election_dataset.add_column(\"prediction\", predictions)\n",
        "print(tokenized_election_dataset[3])\n",
        "unique_values = tokenized_election_dataset.unique('prediction')\n",
        "print(unique_values)"
      ],
      "metadata": {
        "colab": {
          "base_uri": "https://localhost:8080/"
        },
        "id": "_g5CrGaPQJZz",
        "outputId": "21322290-e9a9-4b36-9bc7-9c3647a18eb0"
      },
      "execution_count": null,
      "outputs": [
        {
          "output_type": "stream",
          "name": "stdout",
          "text": [
            "{'epoch': 1714599951.0, 'text_cleaned': 'democrats bags  biden and gullible supporters ', 'input_ids': [0, 13410, 4572, 607, 22042, 13, 29619, 4959, 2, 1, 1, 1, 1, 1, 1, 1, 1, 1, 1, 1, 1, 1, 1, 1, 1, 1, 1, 1, 1, 1, 1, 1, 1, 1, 1, 1, 1, 1, 1, 1, 1, 1, 1, 1, 1, 1, 1, 1, 1, 1, 1, 1, 1, 1, 1, 1, 1, 1, 1, 1, 1, 1, 1, 1, 1, 1, 1, 1, 1, 1, 1, 1, 1, 1, 1, 1, 1, 1, 1, 1, 1, 1, 1, 1, 1, 1, 1, 1, 1, 1, 1, 1, 1, 1, 1, 1, 1, 1, 1, 1, 1, 1, 1, 1, 1, 1, 1, 1, 1, 1, 1, 1, 1, 1, 1, 1, 1, 1, 1, 1, 1, 1, 1, 1, 1, 1, 1, 1], 'token_type_ids': [0, 0, 0, 0, 0, 0, 0, 0, 0, 0, 0, 0, 0, 0, 0, 0, 0, 0, 0, 0, 0, 0, 0, 0, 0, 0, 0, 0, 0, 0, 0, 0, 0, 0, 0, 0, 0, 0, 0, 0, 0, 0, 0, 0, 0, 0, 0, 0, 0, 0, 0, 0, 0, 0, 0, 0, 0, 0, 0, 0, 0, 0, 0, 0, 0, 0, 0, 0, 0, 0, 0, 0, 0, 0, 0, 0, 0, 0, 0, 0, 0, 0, 0, 0, 0, 0, 0, 0, 0, 0, 0, 0, 0, 0, 0, 0, 0, 0, 0, 0, 0, 0, 0, 0, 0, 0, 0, 0, 0, 0, 0, 0, 0, 0, 0, 0, 0, 0, 0, 0, 0, 0, 0, 0, 0, 0, 0, 0], 'attention_mask': [1, 1, 1, 1, 1, 1, 1, 1, 1, 0, 0, 0, 0, 0, 0, 0, 0, 0, 0, 0, 0, 0, 0, 0, 0, 0, 0, 0, 0, 0, 0, 0, 0, 0, 0, 0, 0, 0, 0, 0, 0, 0, 0, 0, 0, 0, 0, 0, 0, 0, 0, 0, 0, 0, 0, 0, 0, 0, 0, 0, 0, 0, 0, 0, 0, 0, 0, 0, 0, 0, 0, 0, 0, 0, 0, 0, 0, 0, 0, 0, 0, 0, 0, 0, 0, 0, 0, 0, 0, 0, 0, 0, 0, 0, 0, 0, 0, 0, 0, 0, 0, 0, 0, 0, 0, 0, 0, 0, 0, 0, 0, 0, 0, 0, 0, 0, 0, 0, 0, 0, 0, 0, 0, 0, 0, 0, 0, 0], 'prediction': 1}\n",
            "[0, 1, 2]\n"
          ]
        }
      ]
    },
    {
      "cell_type": "code",
      "source": [
        "# Save the prediction\n",
        "prediction_df = tokenized_election_dataset.to_pandas()\n",
        "# prediction_df.to_csv(dir + 'election_data/election_prediction_data1.csv', columns=['epoch', 'text_cleaned', 'prediction'], index=False)"
      ],
      "metadata": {
        "id": "wxi7HnZJMw79"
      },
      "execution_count": null,
      "outputs": []
    },
    {
      "cell_type": "code",
      "source": [
        "# We will associate each tweet with a candidate first\n",
        "def detect_candidate(text):\n",
        "    text = text.lower()\n",
        "    group1 = ['joe', 'biden', 'kamala', 'harris']\n",
        "    group2 = ['donald', 'trump']\n",
        "    if any(name in text for name in group1) and any(name in text for name in group2):\n",
        "      group1_indices = [text.find(name) for name in group1 if text.find(name) != -1]\n",
        "      group2_indices = [text.find(name) for name in group2 if text.find(name) != -1]\n",
        "      if min(group1_indices) < min(group2_indices):\n",
        "        return 'biden-kamala'\n",
        "      else:\n",
        "        return 'trump'\n",
        "    elif any(name in text for name in group1):\n",
        "      return 'biden-kamala'\n",
        "    elif any(name in text for name in group2):\n",
        "      return 'trump'\n",
        "    else:\n",
        "      return 'other'"
      ],
      "metadata": {
        "id": "LahaktEMP-bt"
      },
      "execution_count": null,
      "outputs": []
    },
    {
      "cell_type": "code",
      "source": [
        "prediction_df['candidate'] = prediction_df['text_cleaned'].apply(detect_candidate)\n",
        "\n",
        "print(prediction_df.head())"
      ],
      "metadata": {
        "colab": {
          "base_uri": "https://localhost:8080/"
        },
        "id": "JECPaOy0SxUH",
        "outputId": "0c9b09c5-184f-4022-b185-d8eed6e8a906"
      },
      "execution_count": null,
      "outputs": [
        {
          "output_type": "stream",
          "name": "stdout",
          "text": [
            "          epoch                                       text_cleaned  \\\n",
            "0  1.714602e+09  trump rolls out the red carpet for foreign lea...   \n",
            "1  1.714604e+09  donald trump takes biggest lead ever over joe ...   \n",
            "2  1.714602e+09  phonylyinglibs obriedave1 debrasc69769469 retu...   \n",
            "3  1.714600e+09     democrats bags  biden and gullible supporters    \n",
            "4  1.714595e+09  whitneychanell almasuono not sure what there i...   \n",
            "\n",
            "                                           input_ids  \\\n",
            "0  [0, 3377, 6563, 50, 6, 1007, 10160, 19, 3923, ...   \n",
            "1  [0, 21196, 3377, 956, 1345, 1225, 179, 141, 10...   \n",
            "2  [0, 10472, 460, 1747, 856, 24435, 4363, 48712,...   \n",
            "3  [0, 13410, 4572, 607, 22042, 13, 29619, 4959, ...   \n",
            "4  [0, 11427, 11558, 16433, 3197, 638, 879, 1692,...   \n",
            "\n",
            "                                      token_type_ids  \\\n",
            "0  [0, 0, 0, 0, 0, 0, 0, 0, 0, 0, 0, 0, 0, 0, 0, ...   \n",
            "1  [0, 0, 0, 0, 0, 0, 0, 0, 0, 0, 0, 0, 0, 0, 0, ...   \n",
            "2  [0, 0, 0, 0, 0, 0, 0, 0, 0, 0, 0, 0, 0, 0, 0, ...   \n",
            "3  [0, 0, 0, 0, 0, 0, 0, 0, 0, 0, 0, 0, 0, 0, 0, ...   \n",
            "4  [0, 0, 0, 0, 0, 0, 0, 0, 0, 0, 0, 0, 0, 0, 0, ...   \n",
            "\n",
            "                                      attention_mask  prediction     candidate  \n",
            "0  [1, 1, 1, 1, 1, 1, 1, 1, 1, 1, 1, 1, 1, 1, 1, ...           0         trump  \n",
            "1  [1, 1, 1, 1, 1, 1, 1, 1, 1, 1, 1, 1, 1, 1, 1, ...           1         trump  \n",
            "2  [1, 1, 1, 1, 1, 1, 1, 1, 1, 1, 1, 1, 1, 1, 1, ...           1  biden-kamala  \n",
            "3  [1, 1, 1, 1, 1, 1, 1, 1, 1, 0, 0, 0, 0, 0, 0, ...           1  biden-kamala  \n",
            "4  [1, 1, 1, 1, 1, 1, 1, 1, 1, 1, 1, 1, 1, 1, 1, ...           2         other  \n"
          ]
        }
      ]
    },
    {
      "cell_type": "code",
      "source": [
        "prediction_df['datetime'] = pd.to_datetime(prediction_df['epoch'], unit='s')\n",
        "prediction_df.sort_values('datetime', inplace=True)\n",
        "prediction_df.set_index('datetime', inplace=True)\n",
        "print(prediction_df.head())"
      ],
      "metadata": {
        "colab": {
          "base_uri": "https://localhost:8080/"
        },
        "id": "63x6TIvhV82s",
        "outputId": "1d9fb55f-02bb-419b-fc6d-7d4f41cbd5aa"
      },
      "execution_count": null,
      "outputs": [
        {
          "output_type": "stream",
          "name": "stdout",
          "text": [
            "                            epoch  \\\n",
            "datetime                            \n",
            "2024-05-01 00:00:43  1.714522e+09   \n",
            "2024-05-01 00:01:46  1.714522e+09   \n",
            "2024-05-01 00:02:36  1.714522e+09   \n",
            "2024-05-01 00:03:47  1.714522e+09   \n",
            "2024-05-01 00:12:34  1.714522e+09   \n",
            "\n",
            "                                                          text_cleaned  \\\n",
            "datetime                                                                 \n",
            "2024-05-01 00:00:43  meme generated by opossumal opsmcrypto \\nopsm ...   \n",
            "2024-05-01 00:01:46  trump 2024 \\n\\ndecencyisontheballot\\ntrump2024...   \n",
            "2024-05-01 00:02:36  president biden received such poor coverage th...   \n",
            "2024-05-01 00:03:47  if joe biden becomes president again in novemb...   \n",
            "2024-05-01 00:12:34  any of my clients who acted even remotely like...   \n",
            "\n",
            "                                                             input_ids  \\\n",
            "datetime                                                                 \n",
            "2024-05-01 00:00:43  [0, 6986, 17688, 61, 2084, 13342, 1692, 7774, ...   \n",
            "2024-05-01 00:01:46  [0, 3377, 35592, 4145, 35615, 924, 35755, 4641...   \n",
            "2024-05-01 00:02:36  [0, 1652, 607, 22042, 2072, 367, 1426, 5185, 2...   \n",
            "2024-05-01 00:03:47  [0, 65, 10358, 607, 22042, 3655, 1652, 206, 16...   \n",
            "2024-05-01 00:12:34  [0, 207, 15, 23, 6799, 87, 10593, 132, 19444, ...   \n",
            "\n",
            "                                                        token_type_ids  \\\n",
            "datetime                                                                 \n",
            "2024-05-01 00:00:43  [0, 0, 0, 0, 0, 0, 0, 0, 0, 0, 0, 0, 0, 0, 0, ...   \n",
            "2024-05-01 00:01:46  [0, 0, 0, 0, 0, 0, 0, 0, 0, 0, 0, 0, 0, 0, 0, ...   \n",
            "2024-05-01 00:02:36  [0, 0, 0, 0, 0, 0, 0, 0, 0, 0, 0, 0, 0, 0, 0, ...   \n",
            "2024-05-01 00:03:47  [0, 0, 0, 0, 0, 0, 0, 0, 0, 0, 0, 0, 0, 0, 0, ...   \n",
            "2024-05-01 00:12:34  [0, 0, 0, 0, 0, 0, 0, 0, 0, 0, 0, 0, 0, 0, 0, ...   \n",
            "\n",
            "                                                        attention_mask  \\\n",
            "datetime                                                                 \n",
            "2024-05-01 00:00:43  [1, 1, 1, 1, 1, 1, 1, 1, 1, 1, 1, 1, 1, 1, 1, ...   \n",
            "2024-05-01 00:01:46  [1, 1, 1, 1, 1, 1, 1, 1, 1, 1, 1, 1, 1, 1, 1, ...   \n",
            "2024-05-01 00:02:36  [1, 1, 1, 1, 1, 1, 1, 1, 1, 1, 1, 1, 1, 1, 1, ...   \n",
            "2024-05-01 00:03:47  [1, 1, 1, 1, 1, 1, 1, 1, 1, 1, 1, 1, 1, 1, 1, ...   \n",
            "2024-05-01 00:12:34  [1, 1, 1, 1, 1, 1, 1, 1, 1, 1, 1, 1, 1, 1, 1, ...   \n",
            "\n",
            "                     prediction     candidate  \n",
            "datetime                                       \n",
            "2024-05-01 00:00:43           1         other  \n",
            "2024-05-01 00:01:46           1         trump  \n",
            "2024-05-01 00:02:36           0  biden-kamala  \n",
            "2024-05-01 00:03:47           0  biden-kamala  \n",
            "2024-05-01 00:12:34           1         trump  \n"
          ]
        }
      ]
    },
    {
      "cell_type": "code",
      "source": [
        "# Define the mapping from sentiment to popularity score\n",
        "sentiment_to_popularity = {0: -1, 1: 0, 2: 1}\n",
        "\n",
        "# Map the predictions to a new column 'popularity_score'\n",
        "prediction_df[\"popularity_score\"] = prediction_df[\"prediction\"].map(sentiment_to_popularity)\n",
        "\n",
        "print(prediction_df.head())"
      ],
      "metadata": {
        "colab": {
          "base_uri": "https://localhost:8080/"
        },
        "id": "Ag_NoU4dXOem",
        "outputId": "6cf4d4fe-4dfb-4e2c-edcd-1a19d2b01b95"
      },
      "execution_count": null,
      "outputs": [
        {
          "output_type": "stream",
          "name": "stdout",
          "text": [
            "                            epoch  \\\n",
            "datetime                            \n",
            "2024-05-01 00:00:43  1.714522e+09   \n",
            "2024-05-01 00:01:46  1.714522e+09   \n",
            "2024-05-01 00:02:36  1.714522e+09   \n",
            "2024-05-01 00:03:47  1.714522e+09   \n",
            "2024-05-01 00:12:34  1.714522e+09   \n",
            "\n",
            "                                                          text_cleaned  \\\n",
            "datetime                                                                 \n",
            "2024-05-01 00:00:43  meme generated by opossumal opsmcrypto \\nopsm ...   \n",
            "2024-05-01 00:01:46  trump 2024 \\n\\ndecencyisontheballot\\ntrump2024...   \n",
            "2024-05-01 00:02:36  president biden received such poor coverage th...   \n",
            "2024-05-01 00:03:47  if joe biden becomes president again in novemb...   \n",
            "2024-05-01 00:12:34  any of my clients who acted even remotely like...   \n",
            "\n",
            "                                                             input_ids  \\\n",
            "datetime                                                                 \n",
            "2024-05-01 00:00:43  [0, 6986, 17688, 61, 2084, 13342, 1692, 7774, ...   \n",
            "2024-05-01 00:01:46  [0, 3377, 35592, 4145, 35615, 924, 35755, 4641...   \n",
            "2024-05-01 00:02:36  [0, 1652, 607, 22042, 2072, 367, 1426, 5185, 2...   \n",
            "2024-05-01 00:03:47  [0, 65, 10358, 607, 22042, 3655, 1652, 206, 16...   \n",
            "2024-05-01 00:12:34  [0, 207, 15, 23, 6799, 87, 10593, 132, 19444, ...   \n",
            "\n",
            "                                                        token_type_ids  \\\n",
            "datetime                                                                 \n",
            "2024-05-01 00:00:43  [0, 0, 0, 0, 0, 0, 0, 0, 0, 0, 0, 0, 0, 0, 0, ...   \n",
            "2024-05-01 00:01:46  [0, 0, 0, 0, 0, 0, 0, 0, 0, 0, 0, 0, 0, 0, 0, ...   \n",
            "2024-05-01 00:02:36  [0, 0, 0, 0, 0, 0, 0, 0, 0, 0, 0, 0, 0, 0, 0, ...   \n",
            "2024-05-01 00:03:47  [0, 0, 0, 0, 0, 0, 0, 0, 0, 0, 0, 0, 0, 0, 0, ...   \n",
            "2024-05-01 00:12:34  [0, 0, 0, 0, 0, 0, 0, 0, 0, 0, 0, 0, 0, 0, 0, ...   \n",
            "\n",
            "                                                        attention_mask  \\\n",
            "datetime                                                                 \n",
            "2024-05-01 00:00:43  [1, 1, 1, 1, 1, 1, 1, 1, 1, 1, 1, 1, 1, 1, 1, ...   \n",
            "2024-05-01 00:01:46  [1, 1, 1, 1, 1, 1, 1, 1, 1, 1, 1, 1, 1, 1, 1, ...   \n",
            "2024-05-01 00:02:36  [1, 1, 1, 1, 1, 1, 1, 1, 1, 1, 1, 1, 1, 1, 1, ...   \n",
            "2024-05-01 00:03:47  [1, 1, 1, 1, 1, 1, 1, 1, 1, 1, 1, 1, 1, 1, 1, ...   \n",
            "2024-05-01 00:12:34  [1, 1, 1, 1, 1, 1, 1, 1, 1, 1, 1, 1, 1, 1, 1, ...   \n",
            "\n",
            "                     prediction     candidate  popularity_score  \n",
            "datetime                                                         \n",
            "2024-05-01 00:00:43           1         other                 0  \n",
            "2024-05-01 00:01:46           1         trump                 0  \n",
            "2024-05-01 00:02:36           0  biden-kamala                -1  \n",
            "2024-05-01 00:03:47           0  biden-kamala                -1  \n",
            "2024-05-01 00:12:34           1         trump                 0  \n"
          ]
        }
      ]
    },
    {
      "cell_type": "code",
      "source": [
        "prediction_df[\"popularity_score\"] = pd.to_numeric(prediction_df[\"popularity_score\"], errors=\"coerce\")\n",
        "prediction_df.dropna(subset=[\"popularity_score\"], inplace=True)\n",
        "popularity_over_time = prediction_df.groupby(\"candidate\")[\"popularity_score\"].resample(\"D\").mean()\n",
        "print(popularity_over_time)"
      ],
      "metadata": {
        "colab": {
          "base_uri": "https://localhost:8080/"
        },
        "id": "x7Ue-kFmWRDx",
        "outputId": "97f1c553-7040-4107-9a58-65c1523ba979"
      },
      "execution_count": null,
      "outputs": [
        {
          "output_type": "stream",
          "name": "stdout",
          "text": [
            "candidate     datetime  \n",
            "biden-kamala  2024-05-01    0.069380\n",
            "              2024-05-02    0.074315\n",
            "              2024-05-03    0.060241\n",
            "              2024-05-04    0.036158\n",
            "              2024-05-05    0.058897\n",
            "                              ...   \n",
            "trump         2024-11-26    0.113300\n",
            "              2024-11-27    0.216216\n",
            "              2024-11-28    0.150235\n",
            "              2024-11-29    0.118605\n",
            "              2024-11-30    0.181360\n",
            "Name: popularity_score, Length: 642, dtype: float64\n"
          ]
        }
      ]
    },
    {
      "cell_type": "code",
      "source": [
        "num_groups = len(popularity_over_time.index.get_level_values('candidate').unique())\n",
        "print(\"Number of groups:\", num_groups)"
      ],
      "metadata": {
        "colab": {
          "base_uri": "https://localhost:8080/"
        },
        "id": "lkm93bcZa1a6",
        "outputId": "d98f6eb5-60fa-43bb-8bb9-7918625c5a91"
      },
      "execution_count": null,
      "outputs": [
        {
          "output_type": "stream",
          "name": "stdout",
          "text": [
            "Number of groups: 3\n"
          ]
        }
      ]
    },
    {
      "cell_type": "code",
      "source": [
        "popularity_df = popularity_over_time.reset_index()\n",
        "popularity_pivot = popularity_df.pivot(index=\"datetime\", columns=\"candidate\", values=\"popularity_score\")\n",
        "popularity_pivot = popularity_pivot.drop(\"other\", axis=1)\n",
        "print(popularity_pivot)"
      ],
      "metadata": {
        "colab": {
          "base_uri": "https://localhost:8080/"
        },
        "id": "dLwddgQ2XUyb",
        "outputId": "cb86479e-dc39-4134-f1e2-d251188aa04d"
      },
      "execution_count": null,
      "outputs": [
        {
          "output_type": "stream",
          "name": "stdout",
          "text": [
            "candidate   biden-kamala     trump\n",
            "datetime                          \n",
            "2024-05-01      0.069380  0.182584\n",
            "2024-05-02      0.074315  0.130435\n",
            "2024-05-03      0.060241  0.113043\n",
            "2024-05-04      0.036158  0.144201\n",
            "2024-05-05      0.058897  0.021164\n",
            "...                  ...       ...\n",
            "2024-11-26      0.046062  0.113300\n",
            "2024-11-27      0.022086  0.216216\n",
            "2024-11-28      0.134851  0.150235\n",
            "2024-11-29      0.085455  0.118605\n",
            "2024-11-30      0.095517  0.181360\n",
            "\n",
            "[214 rows x 2 columns]\n"
          ]
        }
      ]
    },
    {
      "cell_type": "code",
      "source": [
        "def compute_relative_percentage(row):\n",
        "    # # Transform raw scores from [-1, 1] to [0, 1]\n",
        "    biden_pop_score = row['biden-kamala']\n",
        "    trump_score = row['trump']\n",
        "    # other_score = row['other']\n",
        "\n",
        "    biden_pop_score_normalized = (biden_pop_score + 1) / 2\n",
        "    trump_score_normalized = (trump_score + 1) / 2\n",
        "    # other_score_normalized = (other_score + 1 ) / 2\n",
        "\n",
        "    # total = biden_pop_score_normalized + trump_score_normalized + other_score_normalized\n",
        "    total = biden_pop_score_normalized + trump_score_normalized\n",
        "    biden_relative_percentage = (biden_pop_score_normalized / total) * 100\n",
        "    trump_relative_percentage = (trump_score_normalized / total) * 100\n",
        "    # other_relative_percentage = (other_score_normalized / total) * 100\n",
        "\n",
        "    row['biden-kamala'] = biden_relative_percentage\n",
        "    row['trump'] = trump_relative_percentage\n",
        "    # row['other'] = other_relative_percentage\n",
        "\n",
        "# Apply the function row-wise\n",
        "popularity_pivot.apply(compute_relative_percentage, axis=1)\n",
        "\n",
        "print(popularity_pivot)"
      ],
      "metadata": {
        "colab": {
          "base_uri": "https://localhost:8080/"
        },
        "id": "aurO0asJbZaX",
        "outputId": "f6066bf4-e9ef-44bd-c1a0-d4f932d00706"
      },
      "execution_count": null,
      "outputs": [
        {
          "output_type": "stream",
          "name": "stdout",
          "text": [
            "candidate   biden-kamala      trump\n",
            "datetime                           \n",
            "2024-05-01     47.486534  52.513466\n",
            "2024-05-02     48.727288  51.272712\n",
            "2024-05-03     48.785191  51.214809\n",
            "2024-05-04     47.522370  52.477630\n",
            "2024-05-05     50.907022  49.092978\n",
            "...                  ...        ...\n",
            "2024-11-26     48.443104  51.556896\n",
            "2024-11-27     45.663447  54.336553\n",
            "2024-11-28     49.663391  50.336609\n",
            "2024-11-29     49.247976  50.752024\n",
            "2024-11-30     48.114882  51.885118\n",
            "\n",
            "[214 rows x 2 columns]\n"
          ]
        }
      ]
    },
    {
      "cell_type": "code",
      "source": [
        "import matplotlib.pyplot as plt\n",
        "\n",
        "popularity_pivot_new_interpolated = popularity_pivot.interpolate(method='linear')\n",
        "\n",
        "plt.figure(figsize=(12, 6))\n",
        "for candidate in popularity_pivot_new_interpolated.columns:\n",
        "    plt.plot(popularity_pivot_new_interpolated.index, popularity_pivot_new_interpolated[candidate], label=candidate)\n",
        "plt.title(\"Popularity Over Time by Candidate (Daily Average)\")\n",
        "plt.xlabel(\"Date\")\n",
        "plt.ylabel(\"Average Popularity Score\")\n",
        "plt.legend()\n",
        "plt.grid(True)\n",
        "plt.show()"
      ],
      "metadata": {
        "colab": {
          "base_uri": "https://localhost:8080/",
          "height": 564
        },
        "id": "ioqQGVvPXcwr",
        "outputId": "ab662a53-a725-45f9-b3f6-4daef78b3f0c"
      },
      "execution_count": null,
      "outputs": [
        {
          "output_type": "display_data",
          "data": {
            "text/plain": [
              "<Figure size 1200x600 with 1 Axes>"
            ],
            "image/png": "[encoded data removed]"
          },
          "metadata": {}
        }
      ]
    }
  ]
}